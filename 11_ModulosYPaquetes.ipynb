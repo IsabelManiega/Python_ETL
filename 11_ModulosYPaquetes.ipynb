{
 "cells": [
  {
   "cell_type": "markdown",
   "id": "16d99338-6e4b-4fda-93fa-f121f73e9aa2",
   "metadata": {},
   "source": [
    "*Creado por:*\n",
    "\n",
    "*Isabel Maniega*"
   ]
  },
  {
   "cell_type": "markdown",
   "id": "409f0bd6-f791-46bc-b060-7dff14042718",
   "metadata": {},
   "source": [
    "1) [Math](#Math)\n",
    "2) [Random](#Random)\n",
    "3) [Platform](#Módulo-Platform)\n",
    "4) [Paquetes](#Paquetes)\n",
    "5) [Sys](#Modulo-sys)\n",
    "6) [PyPI](#Pypi)\n",
    "7) [Modulo os](#Modulo-os)"
   ]
  },
  {
   "cell_type": "code",
   "execution_count": 1,
   "id": "7cf1e593-694f-428e-9f8a-9e914c51ed4f",
   "metadata": {},
   "outputs": [],
   "source": [
    "from IPython import display"
   ]
  },
  {
   "cell_type": "markdown",
   "id": "b0ee1843-1223-454c-a486-4b27814694be",
   "metadata": {},
   "source": [
    "# Módulos"
   ]
  },
  {
   "cell_type": "markdown",
   "id": "b89e5740-7568-4dd3-9fc5-3dfe6aa111fb",
   "metadata": {},
   "source": [
    "**Módulo** es un archivo que contiene definiciones y sentencias de Python, que se pueden importar más tarde y utilizar cuando sea necesario."
   ]
  },
  {
   "cell_type": "markdown",
   "id": "ba16f012-5fdd-46ac-94f9-9ad0ab271e81",
   "metadata": {},
   "source": [
    "**Importar modulos**\n",
    "\n",
    "Para que un módulo sea utilizable, hay que importarlo (piensa en ello como sacar un libro del estante). La importación de un módulo se realiza mediante una instrucción llamada import. Nota: import es también una palabra clave reservada (con todas sus implicaciones)."
   ]
  },
  {
   "cell_type": "markdown",
   "id": "83f49d46-d502-4aa1-9ae4-21d0accaaca6",
   "metadata": {},
   "source": [
    "# Math"
   ]
  },
  {
   "cell_type": "markdown",
   "id": "de176d76-ca6a-45c3-91e5-a3ccf1b804d6",
   "metadata": {},
   "source": [
    "### 1) Ejemplo importar el modulo **math** de Python"
   ]
  },
  {
   "cell_type": "code",
   "execution_count": 2,
   "id": "83715037-6750-4df5-a6d5-054dc58fe0f4",
   "metadata": {},
   "outputs": [],
   "source": [
    "import math"
   ]
  },
  {
   "cell_type": "markdown",
   "id": "20233f6f-8299-47e5-8484-2a331b2c693d",
   "metadata": {},
   "source": [
    "Dentro del modulo math podemos importar la función seno para calcular el valor de pi entre dos:"
   ]
  },
  {
   "cell_type": "code",
   "execution_count": 3,
   "id": "c3d3cce7-a78a-49d0-a365-7e0a06a4b939",
   "metadata": {},
   "outputs": [
    {
     "data": {
      "text/plain": [
       "1.0"
      ]
     },
     "execution_count": 3,
     "metadata": {},
     "output_type": "execute_result"
    }
   ],
   "source": [
    "math.sin(math.pi/2)"
   ]
  },
  {
   "cell_type": "markdown",
   "id": "3802b8c6-5632-4c88-b228-ee985581e788",
   "metadata": {},
   "source": [
    "Lo realizamos llamando:  **modulo + '.' + nombre de la entidad** ej. math.sin()"
   ]
  },
  {
   "cell_type": "markdown",
   "id": "4302eaba-e428-41ce-84f9-3fc60a494f6d",
   "metadata": {},
   "source": [
    "### 2) Otro ejemplo de importar modulo math en Python"
   ]
  },
  {
   "cell_type": "code",
   "execution_count": 4,
   "id": "14fe9f46-f2f8-45ec-a21d-3e2e66067e08",
   "metadata": {},
   "outputs": [],
   "source": [
    "from math import sin, pi"
   ]
  },
  {
   "cell_type": "markdown",
   "id": "ad2561ce-c6c2-40e2-bdd6-ebe4ccfbfb9e",
   "metadata": {},
   "source": [
    "* La palabra clave reservada **from**.\n",
    "* El nombre del módulo a ser (selectivamente) importado.\n",
    "* La palabra clave reservada **import**.\n",
    "* El nombre o lista de nombres de la entidad o entidades las cuales estan siendo importadas al namespace."
   ]
  },
  {
   "cell_type": "code",
   "execution_count": 5,
   "id": "b19ac88b-64f9-4f64-9893-627d98b31a1e",
   "metadata": {},
   "outputs": [
    {
     "data": {
      "text/plain": [
       "1.0"
      ]
     },
     "execution_count": 5,
     "metadata": {},
     "output_type": "execute_result"
    }
   ],
   "source": [
    "sin(pi/2)"
   ]
  },
  {
   "cell_type": "markdown",
   "id": "44696042-d18d-46c7-b599-532b15cfd2af",
   "metadata": {},
   "source": [
    "Se llaman directamente sin necesidad de declarar math de nuevo"
   ]
  },
  {
   "cell_type": "markdown",
   "id": "91cd70d8-f375-4f37-942d-31c1150703d6",
   "metadata": {},
   "source": [
    "### 3) Otro ejemplo de importar modulo math en Python"
   ]
  },
  {
   "cell_type": "code",
   "execution_count": 6,
   "id": "e2b996ff-9142-41f1-8e52-50c93fe5a1c3",
   "metadata": {},
   "outputs": [],
   "source": [
    "from math import *"
   ]
  },
  {
   "cell_type": "markdown",
   "id": "4df76da4-401c-411e-8811-14edeb7012b6",
   "metadata": {},
   "source": [
    "Esto quiere decir que importa todas las entidades que conforman el paquete **math**"
   ]
  },
  {
   "cell_type": "markdown",
   "id": "0bdf7d40-a3c0-44e0-831b-7eab800b2e3d",
   "metadata": {},
   "source": [
    "## Importando un módulo usando la palabra reservada *as*"
   ]
  },
  {
   "cell_type": "code",
   "execution_count": 7,
   "id": "6fa19edd-0cb2-406b-85bf-a0667725d331",
   "metadata": {},
   "outputs": [],
   "source": [
    "# pip install pandas"
   ]
  },
  {
   "cell_type": "code",
   "execution_count": 8,
   "id": "13a5ada6-3b19-4c64-baff-49974d1d270d",
   "metadata": {},
   "outputs": [],
   "source": [
    "import pandas as pd"
   ]
  },
  {
   "cell_type": "markdown",
   "id": "6ce156a1-a863-4ff9-83cf-975435894c25",
   "metadata": {},
   "source": [
    "La palabra **as** nos permite usar a lo largo del código la palabra asignada sin necesidad de usar el nombre completo. En este ejemplo **pandas** a partir de este momento pasará a llamarse **pd** a lo largo del código."
   ]
  },
  {
   "cell_type": "markdown",
   "id": "99d9fcb3-a62d-408a-a51e-aa80e56e9051",
   "metadata": {},
   "source": [
    "**import** modulo **as** alias\n",
    "\n",
    "El \"module\" identifica el nombre del módulo original mientras que el \"alias\" es el nombre que se desea usar en lugar del original."
   ]
  },
  {
   "cell_type": "markdown",
   "id": "4cdf6de6-c70c-4674-a0d9-f261744e048b",
   "metadata": {},
   "source": [
    "## DIR"
   ]
  },
  {
   "cell_type": "markdown",
   "id": "8f0d7fe6-3482-4be1-ab3f-84b39db1c3c0",
   "metadata": {},
   "source": [
    "La función devuelve una lista ordenada alfabéticamente la cual contiene todos los nombres de las entidades disponibles en el módulo"
   ]
  },
  {
   "cell_type": "code",
   "execution_count": 9,
   "id": "bcffda0f-e57b-4ed9-85e4-26009c163a7f",
   "metadata": {},
   "outputs": [
    {
     "data": {
      "text/plain": [
       "['__doc__',\n",
       " '__loader__',\n",
       " '__name__',\n",
       " '__package__',\n",
       " '__spec__',\n",
       " 'acos',\n",
       " 'acosh',\n",
       " 'asin',\n",
       " 'asinh',\n",
       " 'atan',\n",
       " 'atan2',\n",
       " 'atanh',\n",
       " 'cbrt',\n",
       " 'ceil',\n",
       " 'comb',\n",
       " 'copysign',\n",
       " 'cos',\n",
       " 'cosh',\n",
       " 'degrees',\n",
       " 'dist',\n",
       " 'e',\n",
       " 'erf',\n",
       " 'erfc',\n",
       " 'exp',\n",
       " 'exp2',\n",
       " 'expm1',\n",
       " 'fabs',\n",
       " 'factorial',\n",
       " 'floor',\n",
       " 'fmod',\n",
       " 'frexp',\n",
       " 'fsum',\n",
       " 'gamma',\n",
       " 'gcd',\n",
       " 'hypot',\n",
       " 'inf',\n",
       " 'isclose',\n",
       " 'isfinite',\n",
       " 'isinf',\n",
       " 'isnan',\n",
       " 'isqrt',\n",
       " 'lcm',\n",
       " 'ldexp',\n",
       " 'lgamma',\n",
       " 'log',\n",
       " 'log10',\n",
       " 'log1p',\n",
       " 'log2',\n",
       " 'modf',\n",
       " 'nan',\n",
       " 'nextafter',\n",
       " 'perm',\n",
       " 'pi',\n",
       " 'pow',\n",
       " 'prod',\n",
       " 'radians',\n",
       " 'remainder',\n",
       " 'sin',\n",
       " 'sinh',\n",
       " 'sqrt',\n",
       " 'sumprod',\n",
       " 'tan',\n",
       " 'tanh',\n",
       " 'tau',\n",
       " 'trunc',\n",
       " 'ulp']"
      ]
     },
     "execution_count": 9,
     "metadata": {},
     "output_type": "execute_result"
    }
   ],
   "source": [
    "dir(math)"
   ]
  },
  {
   "cell_type": "markdown",
   "id": "baab2ec7-05ae-45a8-add4-daaf264ccab8",
   "metadata": {},
   "source": [
    "math.pi → π constant value.\n",
    "\n",
    "math.e → Euler's number value.\n",
    "\n",
    "math.sqrt(x) → the square root of x.\n",
    "\n",
    "math.sin(x) → the sine of x.\n",
    "\n",
    "math.cos(x) → the cosine of x.\n",
    "\n",
    "math.tan(x) → the tangent of x.\n",
    "\n",
    "math.asin(x) → the arcsine of x.\n",
    "\n",
    "math.acos(x) → the arccosine of x.\n",
    "\n",
    "math.atan(x) → the arctangent of x.\n",
    "\n",
    "math.radians(x) → a function that converts x from degrees to radians.\n",
    "\n",
    "math.degrees(x) → acting in the other direction (from radians to degrees).\n",
    "\n",
    "math.sinh(x) → the hyperbolic sine.\n",
    "\n",
    "math.cosh(x) → the hyperbolic cosine.\n",
    "\n",
    "math.tanh(x) → the hyperbolic tangent.\n",
    "\n",
    "math.asinh(x) → the hyperbolic arcsine.\n",
    "\n",
    "math.acosh(x) → the hyperbolic arccosine.\n",
    "\n",
    "math.atanh(x) → the hyperbolic arctangent.\n",
    "\n",
    "math.exp(x) → finds the value of ex.\n",
    "\n",
    "math.log(x) → the natural logarithm of x.\n",
    "\n",
    "math.log(x, b) → the logarithm of x to base b.\n",
    "\n",
    "math.log10(x) → the decimal logarithm of x (more precise than math.log(x, 10)).\n",
    "\n",
    "log2(x) → the binary logarithm of x (more precise than math.log(x, 2)).\n",
    "\n",
    "math.ceil(x) → the ceiling of x (the smallest integer greater than or equal to x).\n",
    "\n",
    "math.floor(x) → the floor of x (the largest integer less than or equal to x).\n",
    "\n",
    "math.trunc(x) → the value of x truncated to an integer (be careful – it's not an equivalent of either ceil or floor).\n",
    "\n",
    "math.factorial(x) → returns x! (x has to be an integral and not a negative).\n",
    "\n",
    "math.hypot(x, y) → returns the length of the hypotenuse of a right-angle triangle with the leg lengths equal to x and y (the same as math.sqrt(pow(x, 2) + pow(y, 2)) but more precise)."
   ]
  },
  {
   "cell_type": "code",
   "execution_count": 10,
   "id": "b838351e-3106-4208-9808-61bf3ea776a4",
   "metadata": {},
   "outputs": [
    {
     "data": {
      "text/plain": [
       "['ArrowDtype',\n",
       " 'BooleanDtype',\n",
       " 'Categorical',\n",
       " 'CategoricalDtype',\n",
       " 'CategoricalIndex',\n",
       " 'DataFrame',\n",
       " 'DateOffset',\n",
       " 'DatetimeIndex',\n",
       " 'DatetimeTZDtype',\n",
       " 'ExcelFile',\n",
       " 'ExcelWriter',\n",
       " 'Flags',\n",
       " 'Float32Dtype',\n",
       " 'Float64Dtype',\n",
       " 'Grouper',\n",
       " 'HDFStore',\n",
       " 'Index',\n",
       " 'IndexSlice',\n",
       " 'Int16Dtype',\n",
       " 'Int32Dtype',\n",
       " 'Int64Dtype',\n",
       " 'Int8Dtype',\n",
       " 'Interval',\n",
       " 'IntervalDtype',\n",
       " 'IntervalIndex',\n",
       " 'MultiIndex',\n",
       " 'NA',\n",
       " 'NaT',\n",
       " 'NamedAgg',\n",
       " 'Period',\n",
       " 'PeriodDtype',\n",
       " 'PeriodIndex',\n",
       " 'RangeIndex',\n",
       " 'Series',\n",
       " 'SparseDtype',\n",
       " 'StringDtype',\n",
       " 'Timedelta',\n",
       " 'TimedeltaIndex',\n",
       " 'Timestamp',\n",
       " 'UInt16Dtype',\n",
       " 'UInt32Dtype',\n",
       " 'UInt64Dtype',\n",
       " 'UInt8Dtype',\n",
       " '__all__',\n",
       " '__builtins__',\n",
       " '__cached__',\n",
       " '__doc__',\n",
       " '__docformat__',\n",
       " '__file__',\n",
       " '__git_version__',\n",
       " '__loader__',\n",
       " '__name__',\n",
       " '__package__',\n",
       " '__path__',\n",
       " '__spec__',\n",
       " '__version__',\n",
       " '_built_with_meson',\n",
       " '_config',\n",
       " '_is_numpy_dev',\n",
       " '_libs',\n",
       " '_pandas_datetime_CAPI',\n",
       " '_pandas_parser_CAPI',\n",
       " '_testing',\n",
       " '_typing',\n",
       " '_version_meson',\n",
       " 'annotations',\n",
       " 'api',\n",
       " 'array',\n",
       " 'arrays',\n",
       " 'bdate_range',\n",
       " 'compat',\n",
       " 'concat',\n",
       " 'core',\n",
       " 'crosstab',\n",
       " 'cut',\n",
       " 'date_range',\n",
       " 'describe_option',\n",
       " 'errors',\n",
       " 'eval',\n",
       " 'factorize',\n",
       " 'from_dummies',\n",
       " 'get_dummies',\n",
       " 'get_option',\n",
       " 'infer_freq',\n",
       " 'interval_range',\n",
       " 'io',\n",
       " 'isna',\n",
       " 'isnull',\n",
       " 'json_normalize',\n",
       " 'lreshape',\n",
       " 'melt',\n",
       " 'merge',\n",
       " 'merge_asof',\n",
       " 'merge_ordered',\n",
       " 'notna',\n",
       " 'notnull',\n",
       " 'offsets',\n",
       " 'option_context',\n",
       " 'options',\n",
       " 'pandas',\n",
       " 'period_range',\n",
       " 'pivot',\n",
       " 'pivot_table',\n",
       " 'plotting',\n",
       " 'qcut',\n",
       " 'read_clipboard',\n",
       " 'read_csv',\n",
       " 'read_excel',\n",
       " 'read_feather',\n",
       " 'read_fwf',\n",
       " 'read_gbq',\n",
       " 'read_hdf',\n",
       " 'read_html',\n",
       " 'read_json',\n",
       " 'read_orc',\n",
       " 'read_parquet',\n",
       " 'read_pickle',\n",
       " 'read_sas',\n",
       " 'read_spss',\n",
       " 'read_sql',\n",
       " 'read_sql_query',\n",
       " 'read_sql_table',\n",
       " 'read_stata',\n",
       " 'read_table',\n",
       " 'read_xml',\n",
       " 'reset_option',\n",
       " 'set_eng_float_format',\n",
       " 'set_option',\n",
       " 'show_versions',\n",
       " 'test',\n",
       " 'testing',\n",
       " 'timedelta_range',\n",
       " 'to_datetime',\n",
       " 'to_numeric',\n",
       " 'to_pickle',\n",
       " 'to_timedelta',\n",
       " 'tseries',\n",
       " 'unique',\n",
       " 'util',\n",
       " 'value_counts',\n",
       " 'wide_to_long']"
      ]
     },
     "execution_count": 10,
     "metadata": {},
     "output_type": "execute_result"
    }
   ],
   "source": [
    "dir(pd)"
   ]
  },
  {
   "cell_type": "markdown",
   "id": "28d78ba4-65b5-4b93-b627-aeb4da89e3a3",
   "metadata": {},
   "source": [
    "¿Has notado los nombres extraños que comienzan con __ al inicio de la lista? Se hablará más sobre ellos cuando hablemos sobre los problemas relacionados con la escritura de módulos propios."
   ]
  },
  {
   "cell_type": "code",
   "execution_count": 11,
   "id": "2d0c4ca6-3cfb-43b1-a773-03f9119510c4",
   "metadata": {},
   "outputs": [
    {
     "data": {
      "text/plain": [
       "3"
      ]
     },
     "execution_count": 11,
     "metadata": {},
     "output_type": "execute_result"
    }
   ],
   "source": [
    "# the floor of x (the largest integer less than or equal to x).\n",
    "\n",
    "math.floor(3.999999)"
   ]
  },
  {
   "cell_type": "code",
   "execution_count": 12,
   "id": "4db99d34-2dc0-4d9f-9855-6b9cf8be1df6",
   "metadata": {},
   "outputs": [
    {
     "data": {
      "text/plain": [
       "4"
      ]
     },
     "execution_count": 12,
     "metadata": {},
     "output_type": "execute_result"
    }
   ],
   "source": [
    "#  the ceiling of x (the smallest integer greater than or equal to x).\n",
    "\n",
    "math.ceil(3.000000001)"
   ]
  },
  {
   "cell_type": "code",
   "execution_count": 13,
   "id": "035c599f-16c2-4996-b472-5595b8f91c8d",
   "metadata": {},
   "outputs": [
    {
     "data": {
      "text/plain": [
       "8.0"
      ]
     },
     "execution_count": 13,
     "metadata": {},
     "output_type": "execute_result"
    }
   ],
   "source": [
    "# Returns the value of x raised to power y.\n",
    "# This method converts both arguments into a float.\n",
    "\n",
    "math.pow(2, 3)"
   ]
  },
  {
   "cell_type": "code",
   "execution_count": 14,
   "id": "a2d7962a-6e11-4db1-b5d4-861c0b2bd690",
   "metadata": {},
   "outputs": [
    {
     "ename": "ValueError",
     "evalue": "math domain error",
     "output_type": "error",
     "traceback": [
      "\u001b[31m---------------------------------------------------------------------------\u001b[39m",
      "\u001b[31mValueError\u001b[39m                                Traceback (most recent call last)",
      "\u001b[36mCell\u001b[39m\u001b[36m \u001b[39m\u001b[32mIn[14]\u001b[39m\u001b[32m, line 3\u001b[39m\n\u001b[32m      1\u001b[39m \u001b[38;5;66;03m# If 'x' is negative and 'y' is not an integer, it returns a ValueError.\u001b[39;00m\n\u001b[32m----> \u001b[39m\u001b[32m3\u001b[39m \u001b[43mmath\u001b[49m\u001b[43m.\u001b[49m\u001b[43mpow\u001b[49m\u001b[43m(\u001b[49m\u001b[43m-\u001b[49m\u001b[32;43m2\u001b[39;49m\u001b[43m,\u001b[49m\u001b[43m \u001b[49m\u001b[32;43m1.2\u001b[39;49m\u001b[43m)\u001b[49m\n",
      "\u001b[31mValueError\u001b[39m: math domain error"
     ]
    }
   ],
   "source": [
    "# If 'x' is negative and 'y' is not an integer, it returns a ValueError.\n",
    "\n",
    "math.pow(-2, 1.2)"
   ]
  },
  {
   "cell_type": "code",
   "execution_count": 15,
   "id": "0ced5bcf-5363-4be6-ab77-28b530d6e40c",
   "metadata": {},
   "outputs": [
    {
     "data": {
      "text/plain": [
       "2.8284271247461903"
      ]
     },
     "execution_count": 15,
     "metadata": {},
     "output_type": "execute_result"
    }
   ],
   "source": [
    "# the square root of x.\n",
    "\n",
    "math.sqrt(8)"
   ]
  },
  {
   "cell_type": "code",
   "execution_count": 16,
   "id": "1c8b2897-2a95-4264-bf33-2d4c71c092cf",
   "metadata": {},
   "outputs": [
    {
     "ename": "ValueError",
     "evalue": "math domain error",
     "output_type": "error",
     "traceback": [
      "\u001b[31m---------------------------------------------------------------------------\u001b[39m",
      "\u001b[31mValueError\u001b[39m                                Traceback (most recent call last)",
      "\u001b[36mCell\u001b[39m\u001b[36m \u001b[39m\u001b[32mIn[16]\u001b[39m\u001b[32m, line 3\u001b[39m\n\u001b[32m      1\u001b[39m \u001b[38;5;66;03m# the square root of x.\u001b[39;00m\n\u001b[32m----> \u001b[39m\u001b[32m3\u001b[39m \u001b[43mmath\u001b[49m\u001b[43m.\u001b[49m\u001b[43msqrt\u001b[49m\u001b[43m(\u001b[49m\u001b[43m-\u001b[49m\u001b[32;43m8\u001b[39;49m\u001b[43m)\u001b[49m\n",
      "\u001b[31mValueError\u001b[39m: math domain error"
     ]
    }
   ],
   "source": [
    "# the square root of x.\n",
    "\n",
    "math.sqrt(-8)"
   ]
  },
  {
   "cell_type": "code",
   "execution_count": 17,
   "id": "39678320-23ed-4b9c-bdc9-201a54a3bf71",
   "metadata": {},
   "outputs": [
    {
     "data": {
      "text/plain": [
       "3.141592653589793"
      ]
     },
     "execution_count": 17,
     "metadata": {},
     "output_type": "execute_result"
    }
   ],
   "source": [
    "# π constant value.\n",
    "\n",
    "math.pi"
   ]
  },
  {
   "cell_type": "code",
   "execution_count": 18,
   "id": "242e77d6-4ef2-47fc-9cce-e7b421f87318",
   "metadata": {},
   "outputs": [
    {
     "data": {
      "text/plain": [
       "False"
      ]
     },
     "execution_count": 18,
     "metadata": {},
     "output_type": "execute_result"
    }
   ],
   "source": [
    "value = math.pi < math.floor(3.14)\n",
    "value"
   ]
  },
  {
   "cell_type": "code",
   "execution_count": 19,
   "id": "50eed982-8b96-40ec-acab-25d109970acf",
   "metadata": {},
   "outputs": [
    {
     "data": {
      "text/plain": [
       "1"
      ]
     },
     "execution_count": 19,
     "metadata": {},
     "output_type": "execute_result"
    }
   ],
   "source": [
    "value = math.pi < math.ceil(3.14)\n",
    "# value = 3.14 < 4\n",
    "# True => 1\n",
    "int(value)"
   ]
  },
  {
   "cell_type": "code",
   "execution_count": 20,
   "id": "58ad27b3-047f-4d1c-a3c2-2aece84e48dd",
   "metadata": {},
   "outputs": [
    {
     "data": {
      "text/plain": [
       "120"
      ]
     },
     "execution_count": 20,
     "metadata": {},
     "output_type": "execute_result"
    }
   ],
   "source": [
    "# returns x! (x has to be an integral and not a negative).\n",
    "\n",
    "math.factorial(5)"
   ]
  },
  {
   "cell_type": "code",
   "execution_count": 21,
   "id": "762e3ddb-2c54-4825-a812-5e619a089fe6",
   "metadata": {},
   "outputs": [
    {
     "ename": "ValueError",
     "evalue": "factorial() not defined for negative values",
     "output_type": "error",
     "traceback": [
      "\u001b[31m---------------------------------------------------------------------------\u001b[39m",
      "\u001b[31mValueError\u001b[39m                                Traceback (most recent call last)",
      "\u001b[36mCell\u001b[39m\u001b[36m \u001b[39m\u001b[32mIn[21]\u001b[39m\u001b[32m, line 3\u001b[39m\n\u001b[32m      1\u001b[39m \u001b[38;5;66;03m# returns x! (x has to be an integral and not a negative).\u001b[39;00m\n\u001b[32m----> \u001b[39m\u001b[32m3\u001b[39m \u001b[43mmath\u001b[49m\u001b[43m.\u001b[49m\u001b[43mfactorial\u001b[49m\u001b[43m(\u001b[49m\u001b[43m-\u001b[49m\u001b[32;43m5\u001b[39;49m\u001b[43m)\u001b[49m\n",
      "\u001b[31mValueError\u001b[39m: factorial() not defined for negative values"
     ]
    }
   ],
   "source": [
    "# returns x! (x has to be an integral and not a negative).\n",
    "\n",
    "math.factorial(-5)"
   ]
  },
  {
   "cell_type": "code",
   "execution_count": 22,
   "id": "d1d86f9e-7cfb-4e51-b88f-91a384add35d",
   "metadata": {},
   "outputs": [
    {
     "data": {
      "text/plain": [
       "(3, 3)"
      ]
     },
     "execution_count": 22,
     "metadata": {},
     "output_type": "execute_result"
    }
   ],
   "source": [
    "math.floor(3.00), math.ceil(3.00)"
   ]
  },
  {
   "cell_type": "code",
   "execution_count": 23,
   "id": "7d8e36ef-7879-4fd8-8b4b-476dbc64598f",
   "metadata": {},
   "outputs": [
    {
     "name": "stdout",
     "output_type": "stream",
     "text": [
      "-16\n",
      "-16\n"
     ]
    }
   ],
   "source": [
    "print(math.floor(-15.9999999))\n",
    "print(math.floor(-15.0000001))"
   ]
  },
  {
   "cell_type": "code",
   "execution_count": 24,
   "id": "3a2bb164-61a8-46b8-a8a6-9ccd24f11cd3",
   "metadata": {},
   "outputs": [
    {
     "name": "stdout",
     "output_type": "stream",
     "text": [
      "5.0\n"
     ]
    }
   ],
   "source": [
    "#set perpendicular and base\n",
    "parendicular = 3\n",
    "base = 4\n",
    "\n",
    "#print the hypotenuse of a right-angled triangle\n",
    "print(math.hypot(parendicular, base))"
   ]
  },
  {
   "cell_type": "code",
   "execution_count": 25,
   "id": "e6380c6b-4ecd-4385-a950-b7f1e4c53d60",
   "metadata": {},
   "outputs": [
    {
     "name": "stdout",
     "output_type": "stream",
     "text": [
      "18\n",
      "25\n",
      "-991\n"
     ]
    }
   ],
   "source": [
    "# Return the truncated integer parts of different numbers\n",
    "\n",
    "print(math.trunc(18.77))\n",
    "print(math.trunc(25.343))\n",
    "print(math.trunc(-991.5))"
   ]
  },
  {
   "cell_type": "markdown",
   "id": "5306d3fc-c149-4c84-a55a-dba589536547",
   "metadata": {},
   "source": [
    "# Random"
   ]
  },
  {
   "cell_type": "markdown",
   "id": "04fdcb30-46d7-4316-9bf9-34d6735ea1a8",
   "metadata": {},
   "source": [
    "Nos permite obtener número **pseudoaleatorios**, esto quiere decir que los algoritmos, que generan los números, no son aleatorios, son deterministas y predecibles.\n",
    "\n",
    "Los números random, necesitan determinar una **semilla**, calcula un número \"aleatorio\" basado en él (el método depende de un algoritmo elegido). El valor de la semilla inicial, establecido durante el inicio del programa, determina el orden en que aparecerán los valores generados.\n",
    "\n"
   ]
  },
  {
   "cell_type": "markdown",
   "id": "ff9b0c0d-ee13-442e-b53a-fa9092732dc5",
   "metadata": {},
   "source": [
    "### Ejemplo 1:"
   ]
  },
  {
   "cell_type": "markdown",
   "id": "1265632e-08ec-481b-a54c-ea215dc1a3c0",
   "metadata": {},
   "source": [
    "Generamos números pseudoaleatorios de 0.0 a 1.0"
   ]
  },
  {
   "cell_type": "code",
   "execution_count": 26,
   "id": "22254dc3-77ee-4807-a316-8b937ae1f70a",
   "metadata": {},
   "outputs": [
    {
     "name": "stdout",
     "output_type": "stream",
     "text": [
      "0.5484158491912323\n",
      "0.9549224958905835\n",
      "0.5428495675273918\n",
      "0.07927621626847103\n",
      "0.35380421939125595\n"
     ]
    }
   ],
   "source": [
    "from random import random\n",
    "\n",
    "for i in range(5):\n",
    "    print(random())"
   ]
  },
  {
   "cell_type": "markdown",
   "id": "5a40a7ed-2ae6-443a-9ad3-b7f242b0c3e8",
   "metadata": {},
   "source": [
    "La semilla en este caso no está definida, por lo tanto es dificil saber porque valor empieza y presentará una aleatoriedad."
   ]
  },
  {
   "cell_type": "markdown",
   "id": "d376cf70-55fd-453d-ba8b-bcdefcba81d0",
   "metadata": {},
   "source": [
    "### Ejemplo 2: seed"
   ]
  },
  {
   "cell_type": "markdown",
   "id": "2caced16-1dd6-4448-8963-99bd2bfd72b0",
   "metadata": {},
   "source": [
    "Añadimos una semilla de 0"
   ]
  },
  {
   "cell_type": "code",
   "execution_count": 27,
   "id": "00f57296-fe25-4970-8962-9d34b022f932",
   "metadata": {},
   "outputs": [
    {
     "name": "stdout",
     "output_type": "stream",
     "text": [
      "0.8444218515250481\n",
      "0.7579544029403025\n",
      "0.420571580830845\n",
      "0.25891675029296335\n",
      "0.5112747213686085\n"
     ]
    }
   ],
   "source": [
    "from random import random, seed\n",
    "\n",
    "seed(0)\n",
    "\n",
    "for i in range(5):\n",
    "    print(random())"
   ]
  },
  {
   "cell_type": "markdown",
   "id": "a7bcb3bd-5063-44aa-a986-81127ff5f172",
   "metadata": {},
   "source": [
    "Debido al hecho de que la semilla siempre se establece con el mismo valor, la secuencia de valores generados siempre se ve igual."
   ]
  },
  {
   "cell_type": "markdown",
   "id": "d0055fd8-322f-42ab-ad82-8f238c0da361",
   "metadata": {},
   "source": [
    "### Ejemplo 3: randrange, randint"
   ]
  },
  {
   "cell_type": "markdown",
   "id": "4d618c3c-7746-4009-aa42-39b964b18b35",
   "metadata": {},
   "source": [
    "randrange y ranint: genera números enteros aleatorios en un rango determinado:.\n",
    "\n",
    "* randrange(inicio, fin, incremento). Ejemplo de 0 a 2 (No incluido)\n",
    "* randint(izquierda, derecha). Ejemplo de 0 a 2 (incluido)"
   ]
  },
  {
   "cell_type": "code",
   "execution_count": 28,
   "id": "e7a2297e-23b9-4e1d-8b46-e01715a72245",
   "metadata": {},
   "outputs": [
    {
     "name": "stdout",
     "output_type": "stream",
     "text": [
      "51 38 61 45\n"
     ]
    }
   ],
   "source": [
    "from random import randrange, randint\n",
    "\n",
    "print(randrange(100), end=' ')\n",
    "print(randrange(0, 100), end=' ')\n",
    "print(randrange(0, 100, 1), end=' ')\n",
    "print(randint(0, 100))"
   ]
  },
  {
   "cell_type": "markdown",
   "id": "65286ff4-3eda-49e9-a92f-09488984e5f7",
   "metadata": {},
   "source": [
    "**Nota:** Observa que los datos generados no son único"
   ]
  },
  {
   "cell_type": "code",
   "execution_count": 29,
   "id": "3c1b9504-8014-4932-8b2c-9b0ba4645fca",
   "metadata": {},
   "outputs": [
    {
     "name": "stdout",
     "output_type": "stream",
     "text": [
      "10, 4, 9, 3, 5, 3, 2, 10, 5, 9, "
     ]
    }
   ],
   "source": [
    "from random import randint\n",
    "\n",
    "for i in range(10):\n",
    "    print(randint(1, 10), end=', ')"
   ]
  },
  {
   "cell_type": "markdown",
   "id": "63198436-88ec-4ba9-ae18-79fb0843bf35",
   "metadata": {},
   "source": [
    "### Ejemplo 4: Choice, sample"
   ]
  },
  {
   "cell_type": "markdown",
   "id": "0c57f332-ac7c-428a-b17e-dd24eb000fb4",
   "metadata": {},
   "source": [
    "* choice(secuencia)\n",
    "* sample(secuencia, elementos_a_elegir=1)\n",
    "\n",
    "**choice** elige un elemento \"aleatorio\" de la secuencia de entrada y lo devuelve.\n",
    "\n",
    "**sample** crea una lista (una muestra) que consta del elemento elementos_a_elegir (que por defecto es 1) \"sorteado\" de la secuencia de entrada."
   ]
  },
  {
   "cell_type": "code",
   "execution_count": 30,
   "id": "6f8b308b-e987-4ee2-b55d-c1695820d9d9",
   "metadata": {},
   "outputs": [
    {
     "name": "stdout",
     "output_type": "stream",
     "text": [
      "10\n",
      "[3, 5, 2, 6, 1]\n",
      "[6, 8, 2, 3, 4, 7, 9, 5, 10, 1]\n"
     ]
    }
   ],
   "source": [
    "from random import choice, sample\n",
    "\n",
    "my_list = [1, 2, 3, 4, 5, 6, 7, 8, 9, 10]\n",
    "\n",
    "print(choice(my_list))\n",
    "print(sample(my_list, 5))\n",
    "print(sample(my_list, 10))"
   ]
  },
  {
   "cell_type": "markdown",
   "id": "f3f685ff-f949-44cc-962a-46ae9444964e",
   "metadata": {},
   "source": [
    "### Ejemplo 5: Shuffle"
   ]
  },
  {
   "cell_type": "code",
   "execution_count": 31,
   "id": "535147f7-1227-4660-a03e-5c317741b15b",
   "metadata": {},
   "outputs": [
    {
     "data": {
      "text/plain": [
       "[5, 14, 74, 4, 8, 95, 41]"
      ]
     },
     "execution_count": 31,
     "metadata": {},
     "output_type": "execute_result"
    }
   ],
   "source": [
    "from random import shuffle\n",
    "\n",
    "my_list2 = [4, 5, 8, 14, 95, 74, 41]\n",
    "\n",
    "# Reorganiza los elementos aleatoriamente:\n",
    "shuffle(my_list2)\n",
    "\n",
    "my_list2"
   ]
  },
  {
   "cell_type": "markdown",
   "id": "3e12f60e-80fc-4bc6-a43a-f93541c5bcba",
   "metadata": {},
   "source": [
    "# Estructura de ejecución de código"
   ]
  },
  {
   "cell_type": "markdown",
   "id": "52336f4e-1ca2-4c3b-82f0-313060779623",
   "metadata": {},
   "source": [
    "* Tu código quiere crear un archivo, por lo que invoca una de las funciones de Python.\n",
    "* Python acepta la orden, la reorganiza para cumplir con los requisitos del sistema operativo local, es como poner el sello \"aprobado\" en una solicitud y lo envía (esto puede recordarte una cadena de mando).\n",
    "* El SO comprueba si la solicitud es razonable y válida (por ejemplo, si el nombre del archivo se ajusta a algunas reglas de sintaxis) e intenta crear el archivo. Tal operación, aparentemente es muy simple, no es atómica: consiste de muchos pasos menores tomados por:\n",
    "* El hardware, el cual es responsable de activar los dispositivos de almacenamiento (disco duro, dispositivos de estado sólido, etc.) para satisfacer las necesidades del sistema operativo."
   ]
  },
  {
   "cell_type": "markdown",
   "id": "e341ea2d-2d4d-46ea-87bb-1bedf164098c",
   "metadata": {},
   "source": [
    "## Módulo Platform"
   ]
  },
  {
   "cell_type": "markdown",
   "id": "6865af09-114a-4ab4-883a-80bd3a563a2d",
   "metadata": {},
   "source": [
    "El módulo platform permite acceder a los datos de la plataforma subyacente, es decir, hardware, sistema operativo e información sobre la versión del intérprete.\n",
    "\n",
    "Simplemente devuelve una cadena que describe el entorno; por lo tanto, su salida está más dirigida a los humanos que al procesamiento automatizado (lo verás pronto)."
   ]
  },
  {
   "cell_type": "code",
   "execution_count": 32,
   "id": "5db5b82b-2992-4f96-bfca-4d6ba1314e39",
   "metadata": {},
   "outputs": [
    {
     "name": "stdout",
     "output_type": "stream",
     "text": [
      "Linux-6.8.0-60-generic-x86_64-with-glibc2.39\n",
      "Linux-6.8.0-60-generic-x86_64-with-glibc2.39\n",
      "Linux-6.8.0-60-generic-x86_64-with-glibc2.39\n"
     ]
    }
   ],
   "source": [
    "from platform import platform\n",
    "\n",
    "print(platform())\n",
    "print(platform(1))\n",
    "print(platform(0, 1))"
   ]
  },
  {
   "cell_type": "markdown",
   "id": "67ee45da-c6b7-4fa5-8694-1e82731d2019",
   "metadata": {},
   "source": [
    "* aliased → cuando se establece a True (o cualquier valor distinto a cero) puede hacer que la función presente los nombres de capa subyacentes alternativos en lugar de los comunes.\n",
    "* terse → cuando se establece a True (o cualquier valor distinto a cero) puede convencer a la función de presentar una forma más breve del resultado (si lo fuera posible)."
   ]
  },
  {
   "cell_type": "markdown",
   "id": "b8bab13d-7bb0-4261-864b-082da4c5a55b",
   "metadata": {},
   "source": [
    "### 1) machine()"
   ]
  },
  {
   "cell_type": "markdown",
   "id": "2c3dc9ce-6d77-43c7-b443-994a3671527a",
   "metadata": {},
   "source": [
    "Para conocer el nombre genérico del procesador que ejecuta el sistema operativo junto con Python y el código, una función llamada machine() te lo dirá. "
   ]
  },
  {
   "cell_type": "code",
   "execution_count": 33,
   "id": "42084d8d-fa88-4e6a-af7d-b421b848004d",
   "metadata": {},
   "outputs": [
    {
     "name": "stdout",
     "output_type": "stream",
     "text": [
      "x86_64\n"
     ]
    }
   ],
   "source": [
    "from platform import machine\n",
    "\n",
    "print(machine())"
   ]
  },
  {
   "cell_type": "markdown",
   "id": "e1f94d79-2116-4546-b053-b43773a87145",
   "metadata": {},
   "source": [
    "### 2) processor()"
   ]
  },
  {
   "cell_type": "markdown",
   "id": "9db89e9a-484a-45c2-a752-88a1126d2797",
   "metadata": {},
   "source": [
    "La función processor() devuelve una cadena con el nombre real del procesador (si lo fuese posible)."
   ]
  },
  {
   "cell_type": "code",
   "execution_count": 34,
   "id": "22b528de-57e0-470a-ac4d-74e9792f5da1",
   "metadata": {},
   "outputs": [
    {
     "name": "stdout",
     "output_type": "stream",
     "text": [
      "x86_64\n"
     ]
    }
   ],
   "source": [
    "from platform import processor\n",
    "\n",
    "print(processor())"
   ]
  },
  {
   "cell_type": "markdown",
   "id": "d4e2a5f3-2861-4f07-b16c-f6e06e3e559d",
   "metadata": {},
   "source": [
    "### 3) System"
   ]
  },
  {
   "cell_type": "markdown",
   "id": "7506bd3b-e6e4-491a-bb79-8461f2f68918",
   "metadata": {},
   "source": [
    "Una función llamada system() devuelve el nombre genérico del sistema operativo en una cadena."
   ]
  },
  {
   "cell_type": "code",
   "execution_count": 35,
   "id": "500a0e72-e871-48ab-a86b-f147ad1429b3",
   "metadata": {},
   "outputs": [
    {
     "name": "stdout",
     "output_type": "stream",
     "text": [
      "Linux\n"
     ]
    }
   ],
   "source": [
    "from platform import system\n",
    "\n",
    "print(system())"
   ]
  },
  {
   "cell_type": "markdown",
   "id": "658ec6b0-760a-46c1-b22e-4814829ae404",
   "metadata": {},
   "source": [
    "### 4) version()"
   ]
  },
  {
   "cell_type": "markdown",
   "id": "6a5ab959-24c2-4651-b709-899df54600e6",
   "metadata": {},
   "source": [
    "La versión del sistema operativo se proporciona como una cadena por la función version()."
   ]
  },
  {
   "cell_type": "code",
   "execution_count": 36,
   "id": "1964e382-cc1f-4052-ad51-0e3522b2832e",
   "metadata": {},
   "outputs": [
    {
     "name": "stdout",
     "output_type": "stream",
     "text": [
      "#63-Ubuntu SMP PREEMPT_DYNAMIC Tue Apr 15 19:04:15 UTC 2025\n"
     ]
    }
   ],
   "source": [
    "from platform import version\n",
    "\n",
    "print(version())"
   ]
  },
  {
   "cell_type": "markdown",
   "id": "4a4ed81d-4e85-495d-94dd-f88a369c162a",
   "metadata": {},
   "source": [
    "### 5) python_implementation y python_version_tuple"
   ]
  },
  {
   "cell_type": "markdown",
   "id": "7da57173-1fd8-4d68-b45f-23673e10182f",
   "metadata": {},
   "source": [
    "Las funciones python_implementation y python_version_tuple\n",
    "\n",
    "Si necesitas saber que versión de Python está ejecutando tu código, puedes verificarlo utilizando una serie de funciones dedicadas, aquí hay dos de ellas:\n",
    "\n",
    "* **python_implementation()** → devuelve una cadena que denota la implementación de Python (espera CPython aquí, a menos que decidas utilizar cualquier rama de Python no canónica).\n",
    "* **python_version_tuple()** → devuelve una tupla de tres elementos la cual contiene, ej 3.8.18:\n",
    "    * La parte mayor de la versión de Python.\n",
    "    * La parte menor.\n",
    "    * El número del nivel de parche."
   ]
  },
  {
   "cell_type": "code",
   "execution_count": 37,
   "id": "c6988713-05a2-4d7a-98db-8a26b81816f3",
   "metadata": {},
   "outputs": [
    {
     "name": "stdout",
     "output_type": "stream",
     "text": [
      "CPython\n",
      "3\n",
      "12\n",
      "3\n"
     ]
    }
   ],
   "source": [
    "from platform import python_implementation, python_version_tuple\n",
    "\n",
    "print(python_implementation())\n",
    "\n",
    "for atr in python_version_tuple():\n",
    "    print(atr)\n"
   ]
  },
  {
   "cell_type": "markdown",
   "id": "9a4986ee-aa2f-41c0-8d1a-ce71cc0d1d2d",
   "metadata": {},
   "source": [
    "# Paquetes"
   ]
  },
  {
   "cell_type": "markdown",
   "id": "e063634d-506f-47d8-9049-252a82cb3c6d",
   "metadata": {},
   "source": [
    "* Un módulo es un contenedor lleno de funciones - puedes empaquetar tantas funciones como desees en un módulo y distribuirlo por todo el mundo.\n",
    "* Por supuesto, no es una buena idea mezclar funciones con diferentes áreas de aplicación dentro de un módulo (al igual que en una biblioteca: nadie espera que los trabajos científicos se incluyan entre los cómics), así que se deben agrupar las funciones cuidadosamente y asignar un nombre claro e intuitivo al módulo que las contiene (por ejemplo, no le des el nombre videojuegos a un módulo que contiene funciones destinadas a particionar y formatear discos duros).\n",
    "* Crear muchos módulos puede causar desorden: tarde que temprano querrás agrupar tus módulos de la misma manera que previamente has agrupado funciones: ¿Existe un contenedor más general que un módulo?\n",
    "* Sí lo hay, es un paquete: en el mundo de los módulos, un paquete juega un papel similar al de una carpeta o directorio en el mundo de los archivos.\n",
    "\n",
    "```\n",
    "[any directory]\n",
    "\n",
    "        │\n",
    "        └── package             ← directory\n",
    "            │   \n",
    "            ├── gearbox.py      ← file: contains turn_on() function  \n",
    "            │\n",
    "            ├── __init__.py     ← empty file\n",
    "            │\n",
    "            └── subpackage      ← directory\n",
    "                │\n",
    "                └── engine.py   ← file: contains start() function\n",
    "\n",
    "```\n",
    "Podemos importar script ```gearbox.py``` y su función ```turn_on()``` de la siguiente forma:\n",
    "\n",
    "```\n",
    "import package.gearbox\n",
    "\n",
    "package.gearbox.turn_on()\n",
    "```\n",
    "\n",
    "Otra forma de importar la función es:\n",
    "\n",
    "```\n",
    "from package.gearbox import turn_on\n",
    "\n",
    "turn_on()\n",
    "```\n",
    "\n",
    "Otra forma más de importarlo:\n",
    "```\n",
    "from package.gearbox import *\n",
    "\n",
    "start()\n",
    "```"
   ]
  },
  {
   "cell_type": "markdown",
   "id": "f2887015-d287-4345-b12e-17e011ae0a09",
   "metadata": {},
   "source": [
    "### 1) Crear un modulo"
   ]
  },
  {
   "cell_type": "code",
   "execution_count": 38,
   "id": "b47272d9-3f68-4037-a042-a860c4872beb",
   "metadata": {},
   "outputs": [],
   "source": [
    "# 1) Crea un script con nombre module.py\n",
    "# 2) Crea un script con nombre main.py\n",
    "# 3) Dentro del script main, llama al script module:\n",
    "    # import module\n",
    "# 4) Ejecuta el script main.py y no deberias de ver como salida nada, \n",
    "# si no ha realizado ningún error, ha realizado con éxito la importación del modulo (module.py)"
   ]
  },
  {
   "cell_type": "markdown",
   "id": "3780e598-381a-4b94-abad-66a705f58a35",
   "metadata": {},
   "source": [
    "Al ejecutar el script main.py verás que ha aparecido una nueva subcarpeta, ¿puedes verla? Su nombre es **__pycache__**. Echa un vistazo adentro. ¿Qué es lo que ves?\n",
    "\n",
    "Hay un archivo llamado (más o menos) module.cpython-xy.pyc donde x y y son dígitos derivados de tu versión de Python (por ejemplo, serán 3 y 8 si utilizas Python 3.8).\n",
    "\n",
    "El nombre del archivo es el mismo que el de tu módulo. La parte posterior al primer punto dice qué implementación de Python ha creado el archivo (CPython) y su número de versión. La ultima parte (pyc) viene de las palabras Python y compilado.\n",
    "\n",
    "Puedes mirar dentro del archivo: el contenido es completamente ilegible para los humanos. Tiene que ser así, ya que el archivo está destinado solo para uso el uso de Python.\n",
    "\n",
    "Cuando Python importa un módulo por primera vez, traduce el contenido a una forma algo compilada.\n",
    "\n",
    "El archivo no contiene código en lenguaje máquina: es código semi-compilado interno de Python, listo para ser ejecutado por el intérprete de Python. Como tal archivo no requiere tantas comprobaciones como las de un archivo fuente, la ejecución comienza más rápido y también se ejecuta más rápido.\n",
    "\n",
    "Gracias a eso, cada importación posterior será más rápida que interpretar el código fuente desde cero.\n",
    "\n",
    "Python puede verificar si el archivo fuente del módulo ha sido modificado (en este caso, el archivo pyc será reconstruido) o no (cuando el archivo pyc pueda ser ejecutado al instante). Este proceso es completamente automático y transparente, no tiene que ser tomando en cuenta."
   ]
  },
  {
   "cell_type": "markdown",
   "id": "13a7a2c0-10e2-4585-b6e9-9a4472d2ef78",
   "metadata": {},
   "source": [
    "### 2) mostrar la información de module.py"
   ]
  },
  {
   "cell_type": "code",
   "execution_count": 39,
   "id": "f3e3021f-7e2c-44e2-b092-f4cd698ba849",
   "metadata": {},
   "outputs": [],
   "source": [
    "# Podemos repetir los pasos anteriores pero en este punto añadimos al script module.py un print, \n",
    "# por los tanto los pasos serían:\n",
    "\n",
    "# 1) Crea un script con nombre mudule.py\n",
    "# 2) Dentro del script module.py realiza un print:\n",
    "    # print(\"Me gusta ser un módulo.\")\n",
    "# 3) Crea un script con nombre main.py\n",
    "# 4) Dentro del script main, llama al script module:\n",
    "    # import module\n",
    "# 5) Ejecuta el script main.py en este punto verás que la salida muestra:\n",
    "    # Me gusta ser un módulo.\n",
    "# Visualizamos el contenido del módulo module.py"
   ]
  },
  {
   "cell_type": "markdown",
   "id": "fdad72e5-1cde-4d18-ae3e-c4b35bfb4e86",
   "metadata": {},
   "source": [
    "### 3) '_  _ _name_ _ _ '"
   ]
  },
  {
   "cell_type": "code",
   "execution_count": 40,
   "id": "aab1a0ba-9fc5-4b56-b2f3-7db5d52736c4",
   "metadata": {},
   "outputs": [],
   "source": [
    "# Podemos repetir los pasos anteriores pero en este punto añadimos al script module.py un print que muestre '__name__', \n",
    "# por los tanto los pasos serían:\n",
    "\n",
    "# 1) Crea un script con nombre module.py\n",
    "# 2) Dentro del script module.py realiza un print:\n",
    "    # print(\"Me gusta ser un módulo.\")\n",
    "    # print(__name__)\n",
    "# 3) Crea un script con nombre main.py\n",
    "# 4) Dentro del script main, llama al script module:\n",
    "    # import module\n",
    "# 5) Ejecuta el script main.py en este punto verás que la salida muestra:\n",
    "    # Me gusta ser un módulo.\n",
    "    # __main__ ó module (si es un modulo como es este ejemplo)\n",
    "\n",
    "# Podemos decir que:\n",
    "\n",
    "    # Cuando se ejecuta un archivo directamente, su variable __name__ se establece a __main__.\n",
    "    # Cuando un archivo se importa como un módulo, su variable __name__ se establece al nombre del archivo (excluyendo a .py)."
   ]
  },
  {
   "cell_type": "markdown",
   "id": "55b7089f-346e-4a54-a7f0-e600ae4c1240",
   "metadata": {},
   "source": [
    "### 4) main"
   ]
  },
  {
   "cell_type": "code",
   "execution_count": 41,
   "id": "2dfe0aa5-0816-4564-afc6-03573189fc49",
   "metadata": {},
   "outputs": [],
   "source": [
    "# Podemos repetir los pasos anteriores pero en este punto añadimos al script module.py un print que muestre '__name__', \n",
    "# por los tanto los pasos serían:\n",
    "\n",
    "# 1) Crea un script con nombre mudule.py\n",
    "# 2) Dentro del script module.py realiza un print:\n",
    "    # print(\"Me gusta ser un módulo.\")\n",
    "    # if __name__ == \"__main__\":\n",
    "        # print(\"Yo prefiero ser un módulo\")\n",
    "    # else:\n",
    "        # print(\"Me gusta ser un módulo\")\n",
    "# 3) Crea un script con nombre main.py\n",
    "# 4) Dentro del script main, llama al script module:\n",
    "    # import module\n",
    "# 5) Ejecuta el script main.py en este punto verás que la salida muestra:\n",
    "    # Me gusta ser un módulo.\n",
    "    # __main__\n",
    "\n",
    "# Podemos decir que:\n",
    "\n",
    "    # Cuando se ejecuta un archivo directamente, su variable __name__ se establece a __main__.\n",
    "    # Cuando un archivo se importa como un módulo, su variable __name__ se establece al nombre del archivo (excluyendo a .py)."
   ]
  },
  {
   "cell_type": "markdown",
   "id": "b4012145-666b-434b-b7c2-648fcdc10651",
   "metadata": {},
   "source": [
    "### 5) Contador de llamada de funciones"
   ]
  },
  {
   "cell_type": "code",
   "execution_count": 42,
   "id": "6d1e8a05-0e45-49d4-90cc-03e7edc5acd1",
   "metadata": {},
   "outputs": [],
   "source": [
    "# Podemos repetir los pasos anteriores pero en este punto añadimos al script module.py un print que muestre '__name__', \n",
    "# por los tanto los pasos serían:\n",
    "\n",
    "# 1) Crea un script con nombre mudule.py\n",
    "# 2) Dentro del script module.py realiza un print:\n",
    "    # count = 0\n",
    "    # if __name__ == \"__main__\":\n",
    "        # print(\"Yo prefiero ser un módulo\")\n",
    "    # else:\n",
    "        #print(\"Me gusta ser un módulo\")\n",
    "# 3) Crea un script con nombre main.py\n",
    "# 4) Dentro del script main, llama al script module:\n",
    "    # import module\n",
    "    # print(module.counter)\n",
    "# 5) Ejecuta el script main.py en este punto verás que la salida muestra:\n",
    "    # Yo prefiero ser un módulo.\n",
    "    # 0\n",
    "\n",
    "# Como puedes ver, el archivo principal intenta acceder a la variable de contador del módulo. \n",
    "# ¿Es esto legal? Sí lo es. ¿Es utilizable? Claro. ¿Es seguro?\n",
    "\n",
    "# Eso depende: si confías en los usuarios de tu módulo, no hay problema; \n",
    "# sin embargo, es posible que no desees que el resto del mundo vea tu variable personal o privada.\n",
    "\n",
    "# A diferencia de muchos otros lenguajes de programación, \n",
    "# Python no tiene medios para permitirte ocultar tales variables a los ojos de los usuarios del módulo.\n",
    "\n",
    "# Solo puedes informar a tus usuarios que esta es tu variable, que pueden leerla, \n",
    "# pero que no deben modificarla bajo ninguna circunstancia.\n",
    "\n",
    "# Esto se hace anteponiendo al nombre de la variable _ (un guión bajo) o __ (dos guiones bajos), \n",
    "# pero recuerda, es solo un acuerdo. Los usuarios de tu módulo pueden obedecerlo o no."
   ]
  },
  {
   "cell_type": "markdown",
   "id": "cd144266-71a2-4126-8dda-a74851198f3a",
   "metadata": {},
   "source": [
    "### 6) Árbol carpetas"
   ]
  },
  {
   "cell_type": "code",
   "execution_count": 43,
   "id": "e5f084bf-10ec-4240-be77-1a7c31623608",
   "metadata": {},
   "outputs": [
    {
     "data": {
      "image/png": "[encoded data removed]",
      "text/plain": [
       "<IPython.core.display.Image object>"
      ]
     },
     "execution_count": 43,
     "metadata": {},
     "output_type": "execute_result"
    }
   ],
   "source": [
    "display.Image(\"./images/arbol_carpetas.png\")"
   ]
  },
  {
   "cell_type": "markdown",
   "id": "59302c06-7f72-41b2-97d5-5c93382d18ad",
   "metadata": {},
   "source": [
    "**Nota:** no solo la carpeta raiz puede contener el archivo __init.py__, también puedes ponerlo dentro de cualquiera de sus subcarpetas (subpaquetes). Puede ser útil si algunos de los subpaquetes requieren tratamiento individual o un tipo especial de inicialización."
   ]
  },
  {
   "cell_type": "markdown",
   "id": "175d73ce-d125-4212-95d1-2b787fcc2242",
   "metadata": {},
   "source": [
    "Para acceder a la función funT() ubicado en el archivo tau pondremos:\n",
    "    \n",
    "    extra.good.best.tau.funT()\n",
    "    \n",
    "Y para acceder a la función funP() del archivo psi:\n",
    "\n",
    "    extra.ugly.psi.funP()"
   ]
  },
  {
   "cell_type": "markdown",
   "id": "353063a9-9d3e-46d0-9e9a-aa1e97cd7270",
   "metadata": {},
   "source": [
    "Entonces para importarlo como sería:\n",
    "\n",
    "```\n",
    "import extra.good.best.tau as t\n",
    "import extra.ugly.psi as p\n",
    "```\n",
    "\n",
    "otra forma:\n",
    "\n",
    "```\n",
    "from extra.good.best.tau import funT\n",
    "from extra.ugly.psi import funP\n",
    "\n",
    "print(t.funT())\n",
    "print(p.funP())\n",
    "print(funT())\n",
    "print(funP())\n",
    "```"
   ]
  },
  {
   "cell_type": "markdown",
   "id": "621e8abc-b594-4e94-aa7a-6bad9bfe8849",
   "metadata": {},
   "source": [
    "Los nombres shabang, shebang, hasbang, poundbang y hashpling describen el dígrafo escrito como **#!**, se utiliza para instruir a los sistemas operativos similares a Unix sobre cómo se debe iniciar el archivo fuente de Python. Esta convención no tiene efecto en MS Windows."
   ]
  },
  {
   "cell_type": "markdown",
   "id": "75a2ece1-ea8c-489f-88c3-b2fa98b3573c",
   "metadata": {},
   "source": [
    "# Modulo sys"
   ]
  },
  {
   "cell_type": "code",
   "execution_count": 44,
   "id": "7e6bb3ba-c01a-4ffd-a9fb-bcbfb0fea5b6",
   "metadata": {},
   "outputs": [
    {
     "name": "stdout",
     "output_type": "stream",
     "text": [
      "/usr/lib/python312.zip\n",
      "/usr/lib/python3.12\n",
      "/usr/lib/python3.12/lib-dynload\n",
      "\n",
      "/home/isabelmaniega/Documentos/Python_ETL/env/lib/python3.12/site-packages\n"
     ]
    }
   ],
   "source": [
    "import sys\n",
    "\n",
    "for p in sys.path:\n",
    "    print(p)"
   ]
  },
  {
   "cell_type": "markdown",
   "id": "fa8f39ef-81c7-4838-8771-5830728402fa",
   "metadata": {},
   "source": [
    "Ten en cuenta también que: hay un archivo zip listado como uno de los elementos de la ruta, esto no es un error. Python puede tratar los archivos zip como carpetas ordinarias, esto puede ahorrar mucho almacenamiento."
   ]
  },
  {
   "cell_type": "markdown",
   "id": "fc2faaa9-864c-4f0f-8c51-96a03d05541e",
   "metadata": {},
   "source": [
    "Deseas evitar que el usuario de tu módulo ejecute tu código como un script ordinario. ¿Cómo lograrías tal efecto?"
   ]
  },
  {
   "cell_type": "code",
   "execution_count": 45,
   "id": "8ea43175-6877-45dd-9df4-9b929fa7e417",
   "metadata": {},
   "outputs": [
    {
     "name": "stdout",
     "output_type": "stream",
     "text": [
      "¡No hagas eso!\n"
     ]
    },
    {
     "ename": "SystemExit",
     "evalue": "",
     "output_type": "error",
     "traceback": [
      "An exception has occurred, use %tb to see the full traceback.\n",
      "\u001b[31mSystemExit\u001b[39m\n"
     ]
    },
    {
     "name": "stderr",
     "output_type": "stream",
     "text": [
      "/home/isabelmaniega/Documentos/Python_ETL/env/lib/python3.12/site-packages/IPython/core/interactiveshell.py:3680: UserWarning: To exit: use 'exit', 'quit', or Ctrl-D.\n",
      "  warn(\"To exit: use 'exit', 'quit', or Ctrl-D.\", stacklevel=1)\n"
     ]
    }
   ],
   "source": [
    "import sys\n",
    "\n",
    "if __name__ == \"__main__\":\n",
    "    print(\"¡No hagas eso!\")\n",
    "    sys.exit()"
   ]
  },
  {
   "cell_type": "code",
   "execution_count": 46,
   "id": "0baee7ae-7aad-4fe3-8614-cee11759c5b7",
   "metadata": {},
   "outputs": [],
   "source": [
    "# Ejecutamos el script index.py: python index.py Hello 2\n",
    "\n",
    "# from sys import argv\n",
    "\n",
    "# print(argv[0])\n",
    "\n",
    "# Output: index.py"
   ]
  },
  {
   "cell_type": "markdown",
   "id": "66bc2704-3803-47db-b4e3-25caa16205f9",
   "metadata": {},
   "source": [
    "# Pypi"
   ]
  },
  {
   "cell_type": "markdown",
   "id": "adb7ff06-362d-4668-a7bd-185a5561afc4",
   "metadata": {},
   "source": [
    "El repositorio de Python es **PyPI** (es la abreviatura de Python Package Index) y lo mantiene un grupo de trabajo llamado Packaging Working Group, una parte de la Python Software Foundation, cuya tarea principal es apoyar a los desarrolladores de Python en la diseminación de código eficiente.\n",
    "\n",
    "https://wiki.python.org/psf/PackagingWG\n",
    "\n",
    "https://pypi.org/\n",
    "\n",
    "pip es package installer for Python (https://es.wikipedia.org/wiki/Pip_(administrador_de_paquetes))"
   ]
  },
  {
   "cell_type": "markdown",
   "id": "ab9d2620-dd78-4fb4-96d7-695d9196b311",
   "metadata": {},
   "source": [
    "Para descargar los paquetes del repositorio de Pypi necesitas usar *pip*.\n",
    "\n",
    "Para verificar su instalación usamos: \n",
    "\n",
    "* pip3 --version --> Si tenemos python 2 instalado en el sistema\n",
    "* pip --version\n",
    "\n",
    "Para pedir ayuda a pip se realiza con:\n",
    "\n",
    "* pip help"
   ]
  },
  {
   "cell_type": "code",
   "execution_count": 47,
   "id": "9198ec8d-babe-44c6-a487-cacdb891f3ac",
   "metadata": {},
   "outputs": [
    {
     "name": "stdout",
     "output_type": "stream",
     "text": [
      "pip 24.0 from /home/isabelmaniega/Documentos/Python_ETL/env/lib/python3.12/site-packages/pip (python 3.12)\n",
      "Note: you may need to restart the kernel to use updated packages.\n"
     ]
    }
   ],
   "source": [
    "pip --version"
   ]
  },
  {
   "cell_type": "code",
   "execution_count": 48,
   "id": "1d6ea4fc-7bfc-4859-a166-81cdb65209e0",
   "metadata": {
    "scrolled": true
   },
   "outputs": [
    {
     "name": "stdout",
     "output_type": "stream",
     "text": [
      "\n",
      "Usage:   \n",
      "  /home/isabelmaniega/Documentos/Python_ETL/env/bin/python -m pip <command> [options]\n",
      "\n",
      "Commands:\n",
      "  install                     Install packages.\n",
      "  download                    Download packages.\n",
      "  uninstall                   Uninstall packages.\n",
      "  freeze                      Output installed packages in requirements format.\n",
      "  inspect                     Inspect the python environment.\n",
      "  list                        List installed packages.\n",
      "  show                        Show information about installed packages.\n",
      "  check                       Verify installed packages have compatible dependencies.\n",
      "  config                      Manage local and global configuration.\n",
      "  search                      Search PyPI for packages.\n",
      "  cache                       Inspect and manage pip's wheel cache.\n",
      "  index                       Inspect information available from package indexes.\n",
      "  wheel                       Build wheels from your requirements.\n",
      "  hash                        Compute hashes of package archives.\n",
      "  completion                  A helper command used for command completion.\n",
      "  debug                       Show information useful for debugging.\n",
      "  help                        Show help for commands.\n",
      "\n",
      "General Options:\n",
      "  -h, --help                  Show help.\n",
      "  --debug                     Let unhandled exceptions propagate outside the\n",
      "                              main subroutine, instead of logging them to\n",
      "                              stderr.\n",
      "  --isolated                  Run pip in an isolated mode, ignoring\n",
      "                              environment variables and user configuration.\n",
      "  --require-virtualenv        Allow pip to only run in a virtual environment;\n",
      "                              exit with an error otherwise.\n",
      "  --python <python>           Run pip with the specified Python interpreter.\n",
      "  -v, --verbose               Give more output. Option is additive, and can be\n",
      "                              used up to 3 times.\n",
      "  -V, --version               Show version and exit.\n",
      "  -q, --quiet                 Give less output. Option is additive, and can be\n",
      "                              used up to 3 times (corresponding to WARNING,\n",
      "                              ERROR, and CRITICAL logging levels).\n",
      "  --log <path>                Path to a verbose appending log.\n",
      "  --no-input                  Disable prompting for input.\n",
      "  --keyring-provider <keyring_provider>\n",
      "                              Enable the credential lookup via the keyring\n",
      "                              library if user input is allowed. Specify which\n",
      "                              mechanism to use [disabled, import, subprocess].\n",
      "                              (default: disabled)\n",
      "  --proxy <proxy>             Specify a proxy in the form\n",
      "                              scheme://[user:passwd@]proxy.server:port.\n",
      "  --retries <retries>         Maximum number of retries each connection should\n",
      "                              attempt (default 5 times).\n",
      "  --timeout <sec>             Set the socket timeout (default 15 seconds).\n",
      "  --exists-action <action>    Default action when a path already exists:\n",
      "                              (s)witch, (i)gnore, (w)ipe, (b)ackup, (a)bort.\n",
      "  --trusted-host <hostname>   Mark this host or host:port pair as trusted,\n",
      "                              even though it does not have valid or any HTTPS.\n",
      "  --cert <path>               Path to PEM-encoded CA certificate bundle. If\n",
      "                              provided, overrides the default. See 'SSL\n",
      "                              Certificate Verification' in pip documentation\n",
      "                              for more information.\n",
      "  --client-cert <path>        Path to SSL client certificate, a single file\n",
      "                              containing the private key and the certificate\n",
      "                              in PEM format.\n",
      "  --cache-dir <dir>           Store the cache data in <dir>.\n",
      "  --no-cache-dir              Disable the cache.\n",
      "  --disable-pip-version-check\n",
      "                              Don't periodically check PyPI to determine\n",
      "                              whether a new version of pip is available for\n",
      "                              download. Implied with --no-index.\n",
      "  --no-color                  Suppress colored output.\n",
      "  --no-python-version-warning\n",
      "                              Silence deprecation warnings for upcoming\n",
      "                              unsupported Pythons.\n",
      "  --use-feature <feature>     Enable new functionality, that may be backward\n",
      "                              incompatible.\n",
      "  --use-deprecated <feature>  Enable deprecated functionality, that will be\n",
      "                              removed in the future.\n",
      "Note: you may need to restart the kernel to use updated packages.\n"
     ]
    }
   ],
   "source": [
    "pip help"
   ]
  },
  {
   "cell_type": "markdown",
   "id": "fd2b804c-0653-4ab8-ae89-35a3111aa329",
   "metadata": {},
   "source": [
    "Para saber los paquetes instalados usamos:\n",
    "\n",
    "* pip list"
   ]
  },
  {
   "cell_type": "code",
   "execution_count": 49,
   "id": "2f2fdd32-061d-48b1-8e12-febdb926fba4",
   "metadata": {},
   "outputs": [
    {
     "name": "stdout",
     "output_type": "stream",
     "text": [
      "Package                   Version\n",
      "------------------------- --------------\n",
      "aiosqlite                 0.21.0\n",
      "alembic                   1.16.2\n",
      "annotated-types           0.7.0\n",
      "anyio                     4.9.0\n",
      "apprise                   1.9.3\n",
      "argon2-cffi               25.1.0\n",
      "argon2-cffi-bindings      21.2.0\n",
      "arrow                     1.3.0\n",
      "asgi-lifespan             2.1.0\n",
      "asttokens                 3.0.0\n",
      "async-lru                 2.0.5\n",
      "asyncpg                   0.30.0\n",
      "attrs                     25.3.0\n",
      "babel                     2.17.0\n",
      "beautifulsoup4            4.13.4\n",
      "bleach                    6.2.0\n",
      "cachetools                6.1.0\n",
      "certifi                   2025.6.15\n",
      "cffi                      1.17.1\n",
      "charset-normalizer        3.4.2\n",
      "click                     8.1.8\n",
      "cloudpickle               3.1.1\n",
      "colorama                  0.4.6\n",
      "comm                      0.2.2\n",
      "contourpy                 1.3.2\n",
      "coolname                  2.2.0\n",
      "cramjam                   2.10.0\n",
      "cryptography              45.0.4\n",
      "cycler                    0.12.1\n",
      "dateparser                1.2.1\n",
      "debugpy                   1.8.14\n",
      "decorator                 5.2.1\n",
      "defusedxml                0.7.1\n",
      "docker                    7.1.0\n",
      "et_xmlfile                2.0.0\n",
      "exceptiongroup            1.3.0\n",
      "executing                 2.2.0\n",
      "fastapi                   0.115.13\n",
      "fastjsonschema            2.21.1\n",
      "fastparquet               2024.11.0\n",
      "fonttools                 4.58.4\n",
      "fqdn                      1.5.1\n",
      "fsspec                    2025.5.1\n",
      "graphviz                  0.21\n",
      "greenlet                  3.2.3\n",
      "griffe                    1.7.3\n",
      "h11                       0.16.0\n",
      "h2                        4.2.0\n",
      "hpack                     4.1.0\n",
      "httpcore                  1.0.9\n",
      "httpx                     0.28.1\n",
      "humanize                  4.12.3\n",
      "hyperframe                6.1.0\n",
      "idna                      3.10\n",
      "importlib_metadata        8.7.0\n",
      "ipykernel                 6.29.5\n",
      "ipython                   9.3.0\n",
      "ipython_pygments_lexers   1.1.1\n",
      "isoduration               20.11.0\n",
      "jedi                      0.19.2\n",
      "Jinja2                    3.1.6\n",
      "jinja2-humanize-extension 0.4.0\n",
      "json5                     0.12.0\n",
      "jsonpatch                 1.33\n",
      "jsonpointer               3.0.0\n",
      "jsonschema                4.24.0\n",
      "jsonschema-specifications 2025.4.1\n",
      "jupyter_client            8.6.3\n",
      "jupyter_core              5.8.1\n",
      "jupyter-events            0.12.0\n",
      "jupyter-lsp               2.2.5\n",
      "jupyter_server            2.16.0\n",
      "jupyter_server_terminals  0.5.3\n",
      "jupyterlab                4.4.3\n",
      "jupyterlab_pygments       0.3.0\n",
      "jupyterlab_server         2.27.3\n",
      "kiwisolver                1.4.8\n",
      "Mako                      1.3.10\n",
      "Markdown                  3.8\n",
      "markdown-it-py            3.0.0\n",
      "MarkupSafe                3.0.2\n",
      "matplotlib                3.10.3\n",
      "matplotlib-inline         0.1.7\n",
      "mdurl                     0.1.2\n",
      "mistune                   3.1.3\n",
      "nbclient                  0.10.2\n",
      "nbconvert                 7.16.6\n",
      "nbformat                  5.10.4\n",
      "nest-asyncio              1.6.0\n",
      "notebook                  7.4.3\n",
      "notebook_shim             0.2.4\n",
      "numpy                     2.3.0\n",
      "oauthlib                  3.3.0\n",
      "openpyxl                  3.1.5\n",
      "opentelemetry-api         1.34.1\n",
      "orjson                    3.10.18\n",
      "overrides                 7.7.0\n",
      "packaging                 25.0\n",
      "pandas                    2.3.0\n",
      "pandocfilters             1.5.1\n",
      "parso                     0.8.4\n",
      "pathspec                  0.12.1\n",
      "pendulum                  3.1.0\n",
      "pexpect                   4.9.0\n",
      "pillow                    11.2.1\n",
      "pip                       24.0\n",
      "platformdirs              4.3.8\n",
      "prefect                   3.4.6\n",
      "prometheus_client         0.22.1\n",
      "prompt_toolkit            3.0.51\n",
      "psutil                    7.0.0\n",
      "ptyprocess                0.7.0\n",
      "pure_eval                 0.2.3\n",
      "pycparser                 2.22\n",
      "pydantic                  2.11.7\n",
      "pydantic_core             2.33.2\n",
      "pydantic-extra-types      2.10.5\n",
      "pydantic-settings         2.9.1\n",
      "Pygments                  2.19.1\n",
      "pyodbc                    5.2.0\n",
      "pyparsing                 3.2.3\n",
      "python-dateutil           2.9.0.post0\n",
      "python-dotenv             1.1.0\n",
      "python-json-logger        3.3.0\n",
      "python-slugify            8.0.4\n",
      "python-socks              2.7.1\n",
      "pytz                      2025.2\n",
      "PyYAML                    6.0.2\n",
      "pyzmq                     27.0.0\n",
      "readchar                  4.2.1\n",
      "referencing               0.36.2\n",
      "regex                     2024.11.6\n",
      "requests                  2.32.4\n",
      "requests-oauthlib         2.0.0\n",
      "rfc3339-validator         0.1.4\n",
      "rfc3986-validator         0.1.1\n",
      "rich                      14.0.0\n",
      "rpds-py                   0.25.1\n",
      "ruamel.yaml               0.18.14\n",
      "ruamel.yaml.clib          0.2.12\n",
      "seaborn                   0.13.2\n",
      "Send2Trash                1.8.3\n",
      "setuptools                80.9.0\n",
      "shellingham               1.5.4\n",
      "six                       1.17.0\n",
      "sniffio                   1.3.1\n",
      "soupsieve                 2.7\n",
      "SQLAlchemy                2.0.41\n",
      "stack-data                0.6.3\n",
      "starlette                 0.46.2\n",
      "terminado                 0.18.1\n",
      "text-unidecode            1.3\n",
      "tinycss2                  1.4.0\n",
      "toml                      0.10.2\n",
      "tornado                   6.5.1\n",
      "traitlets                 5.14.3\n",
      "typer                     0.16.0\n",
      "types-python-dateutil     2.9.0.20250516\n",
      "typing_extensions         4.14.0\n",
      "typing-inspection         0.4.1\n",
      "tzdata                    2025.2\n",
      "tzlocal                   5.3.1\n",
      "ujson                     5.10.0\n",
      "uri-template              1.3.0\n",
      "urllib3                   2.4.0\n",
      "uv                        0.7.13\n",
      "uvicorn                   0.34.3\n",
      "wcwidth                   0.2.13\n",
      "webcolors                 24.11.1\n",
      "webencodings              0.5.1\n",
      "websocket-client          1.8.0\n",
      "websockets                15.0.1\n",
      "xlsxwriter                3.2.5\n",
      "zipp                      3.23.0\n",
      "Note: you may need to restart the kernel to use updated packages.\n"
     ]
    }
   ],
   "source": [
    "pip list"
   ]
  },
  {
   "cell_type": "markdown",
   "id": "3241b8db-2f41-4a86-b6b5-1f62a3d8c19c",
   "metadata": {},
   "source": [
    "Para mostrar más información sobre un paquete:\n",
    "\n",
    "* pip show nombre del paquete"
   ]
  },
  {
   "cell_type": "code",
   "execution_count": 50,
   "id": "4d0d2ed4-2164-4668-af8d-1785ecd2de89",
   "metadata": {},
   "outputs": [
    {
     "name": "stdout",
     "output_type": "stream",
     "text": [
      "Name: pip\n",
      "Version: 24.0\n",
      "Summary: The PyPA recommended tool for installing Python packages.\n",
      "Home-page: \n",
      "Author: \n",
      "Author-email: The pip developers <distutils-sig@python.org>\n",
      "License: MIT\n",
      "Location: /home/isabelmaniega/Documentos/Python_ETL/env/lib/python3.12/site-packages\n",
      "Requires: \n",
      "Required-by: \n",
      "Note: you may need to restart the kernel to use updated packages.\n"
     ]
    }
   ],
   "source": [
    "pip show pip"
   ]
  },
  {
   "cell_type": "markdown",
   "id": "01372ed4-4925-45d8-beb6-ac810ed8cdc5",
   "metadata": {},
   "source": [
    "Para buscar un paquete determinado:\n",
    "\n",
    "* pip search anystring"
   ]
  },
  {
   "cell_type": "code",
   "execution_count": 51,
   "id": "6af8ab4a-eeda-4054-b3ad-2e7c8c92afe6",
   "metadata": {},
   "outputs": [],
   "source": [
    "# pip search pip\n",
    "# Da un error en jupyter"
   ]
  },
  {
   "cell_type": "markdown",
   "id": "7feed007-a024-4c63-a5dc-26180771b67e",
   "metadata": {},
   "source": [
    "pip emplea una opción dedicada llamada --user (observa el guión doble). La presencia de esta opción indica a pip que actúe localmente en nombre de tu usuario sin privilegios de administrador.\n",
    "\n",
    "Como administrador la instalación es: pip install pygame\n",
    "Como usuario sin derechos de administrador es: pip install --user pygame\n",
    "\n",
    "El comando **pip install** tiene dos habilidades adicionales importantes:\n",
    "\n",
    "Es capaz de actualizar un paquete instalado localmente; por ejemplo, si deseas asegurarte de que estás utilizando la última versión de un paquete en particular, puedes ejecutar el siguiente comando:\n",
    "\n",
    "pip install -U nombre_del_paquete\n",
    "\n",
    "Es capaz de instalar una versión seleccionada por el usuario de un paquete (pip instala por defecto la versión más nueva disponible); para lograr este objetivo debes utilizar la siguiente sintaxis:\n",
    "\n",
    "pip install nombre_del_paquete==versión_del_paquete"
   ]
  },
  {
   "cell_type": "markdown",
   "id": "ee0f2f37-ba51-4275-a80f-94bda92eb616",
   "metadata": {},
   "source": [
    "Si alguno de los paquetes instalados actualmente ya no es necesario y deseas deshacerte de el, pip también será útil. Su comando uninstall ejecutará todos los pasos necesarios.\n",
    "\n",
    "pip uninstall nombre_del_paquete\n",
    "\n",
    "****"
   ]
  },
  {
   "cell_type": "markdown",
   "id": "37b45475-7888-41ea-aff4-3222dd965812",
   "metadata": {},
   "source": [
    "# Modulo os\n",
    "\n",
    "En esta sección, aprenderás sobre un módulo llamado os, que te permite interactuar con tu sistema operativo usando Python.\n",
    "\n",
    "Proporciona funciones que están disponibles en sistemas Unix y/o Windows. Si estás familiarizado con la consola de comandos, verás que algunas funciones dan los mismos resultados que los comandos disponibles en los sistemas operativos.\n",
    "\n",
    "Un buen ejemplo de esto es la función **mkdir**, que te permite crear un directorio como el comando mkdir en Unix y Windows.\n",
    "\n",
    "Además de las operaciones de archivos y directorios, el módulo os te permite:\n",
    "\n",
    "* Obtener información sobre el sistema operativo.\n",
    "* Manejar procesos.\n",
    "* Operar en streams de E/S usando descriptores de archivos.\n",
    "\n",
    "Antes de crear tu primera estructura de directorios, verás cómo puedes obtener información sobre el sistema operativo actual. Esto es realmente fácil porque el módulo os proporciona una función llamada uname, que devuelve un objeto que contiene los siguientes atributos:\n",
    "\n",
    "* systemname: almacena el nombre del sistema operativo.\n",
    "* nodename: almacena el nombre de la máquina en la red.\n",
    "* release: almacena el release (actualización) del sistema operativo.\n",
    "* version: almacena la versión del sistema operativo.\n",
    "* machine: almacena el identificador de hardware, por ejemplo, x86_64.\n",
    "\n",
    "Veamos cómo es en la práctica:"
   ]
  },
  {
   "cell_type": "code",
   "execution_count": 52,
   "id": "507c78a3-f20a-47f1-92e6-c530d9883b0c",
   "metadata": {},
   "outputs": [
    {
     "name": "stdout",
     "output_type": "stream",
     "text": [
      "posix.uname_result(sysname='Linux', nodename='isabelmaniega', release='6.8.0-60-generic', version='#63-Ubuntu SMP PREEMPT_DYNAMIC Tue Apr 15 19:04:15 UTC 2025', machine='x86_64')\n"
     ]
    }
   ],
   "source": [
    "import os\n",
    "print(os.uname())"
   ]
  },
  {
   "cell_type": "markdown",
   "id": "4dfef3cd-642c-4ea5-b801-0e53049d60bd",
   "metadata": {},
   "source": [
    "El módulo os te permite distinguir rápidamente el sistema operativo mediante el atributo **name**, que soporta uno de los siguientes nombres:\n",
    "\n",
    "* posix: obtendrás este nombre si usas Unix.\n",
    "* nt: obtendrás este nombre si usas Windows.\n",
    "* java: obtendrás este nombre si tu código está escrito en Jython."
   ]
  },
  {
   "cell_type": "code",
   "execution_count": 53,
   "id": "6e5fa9b7-0976-4570-a57d-6aefff9e2783",
   "metadata": {},
   "outputs": [
    {
     "name": "stdout",
     "output_type": "stream",
     "text": [
      "posix\n"
     ]
    }
   ],
   "source": [
    "import os\n",
    "print(os.name)"
   ]
  },
  {
   "cell_type": "markdown",
   "id": "6421ef9c-239d-419d-897b-3dac7d2ef45b",
   "metadata": {},
   "source": [
    "NOTA: En los sistemas Unix, hay un comando llamado uname que devuelve la misma información (si lo ejecutas con la opción -a) que la función uname.\n",
    "\n",
    "El módulo os proporciona una función llamada *mkdir*, la cual, como el comando *mkdir* en Unix y Windows, te permite crear un directorio. La función *mkdir* requiere una ruta que puede ser relativa o absoluta. Recordemos cómo se ven ambas rutas en la práctica:\n",
    "\n",
    "* my_first_directory: esta es una ruta relativa que creará el directorio my_first_directory en el directorio de trabajo actual.\n",
    "* ./my_first_directory: esta es una ruta relativa que apunta explícitamente al directorio de trabajo actual. Tiene el mismo efecto que la ruta anterior.\n",
    "* ../my_first_directory: esta es una ruta relativa que creará el directorio my_first_directory en el directorio superior del directorio de trabajo actual.\n",
    "* /python/my_first_directory: esta es una ruta absoluta que creará el directorio my_first_directory, que a su vez está en el directorio raíz de python."
   ]
  },
  {
   "cell_type": "code",
   "execution_count": 54,
   "id": "e5a13230-9fe9-4978-b9ee-15c817b2a21d",
   "metadata": {},
   "outputs": [
    {
     "name": "stdout",
     "output_type": "stream",
     "text": [
      "['7_Más sobre diccionarios.ipynb', '18_Introducción a orquestadores y planificación (Airflow, Prefect).ipynb', '15_Pandas.ipynb', 'Ejer_Python_Básico', '13_Técnicas de preparación de datos.ipynb', '.gitignore', 'PDFs', 'images', '.ipynb_checkpoints', '19_ETL_Titanic.ipynb', 'files', 'my_first_directory', '4_Introducción a Python.ipynb', '17_Casos prácticos de migración desde SAS.ipynb', '2_Primeros_Pasos.ipynb', '9_Clases y Funciones.ipynb', '17_Logging.ipynb', '5_Bucles.ipynb', '6_Más_sobre_Listas,tuplas,matrices.ipynb', 'data', '8_Clase y Funciones.ipynb', '11_ModulosYPaquetes.ipynb', 'env', 'Presentation.pptx', 'Presentation.pdf', '10_Excepciones.ipynb', 'contacts.csv', 'venv38', '12_PEP.ipynb', '14_Redimientos formato de Archivos.ipynb', '3_Introducción a Python.ipynb', '1_EntornosVirtuales.ipynb', '16_SQL para analistas de datos.ipynb']\n"
     ]
    }
   ],
   "source": [
    "import os\n",
    "\n",
    "os.mkdir(\"my_first_directory\")\n",
    "print(os.listdir())"
   ]
  },
  {
   "cell_type": "markdown",
   "id": "6dec01f7-e5dc-4851-84a5-7b6c38a8e398",
   "metadata": {},
   "source": [
    "Muestra un ejemplo de cómo crear el directorio my_first_directory usando una ruta relativa. Esta es la variante más simple de la ruta relativa, que consiste en pasar solo el nombre del directorio.\n",
    "\n",
    "Si pruebas tu código aquí, generará el directorio recién creado ['my_first_directory'](y todo el contenido del catálogo de trabajo actual).\n",
    "\n",
    "La función mkdir crea un directorio en la ruta especificada. Ten en cuenta que ejecutar el programa dos veces generará un FileExistsError.\n",
    "\n",
    "Esto significa que no podemos crear un directorio si ya existe. Además del argumento de la ruta, la función mkdir puede tomar opcionalmente el argumento mode, que especifica los permisos del directorio. Sin embargo, en algunos sistemas, el argumento mode se ignora.\n",
    "\n",
    "Para cambiar los permisos del directorio, recomendamos la función chmod, que funciona de manera similar al comando chmod en sistemas Unix. Puedes encontrar más información al respecto en la documentación.\n",
    "\n",
    "En el ejemplo anterior, se usa otra función proporcionada por el módulo os llamada *listdir*. La función *listdir* devuelve una lista que contiene los nombres de los archivos y directorios que se encuentran en la ruta pasada como argumento.\n",
    "\n",
    "Si no se le pasa ningún argumento, se utilizará el directorio de trabajo actual (como en el ejemplo anterior). Es importante que el resultado de la función *listdir* omita las entradas '.' y '..', que se muestran, por ejemplo, cuando se usa el comando ls -a en sistemas Unix.\n",
    "\n",
    "NOTA: Tanto en Windows como en Unix, hay un comando llamado mkdir, que requiere una ruta de directorio. El equivalente del código anterior que crea el directorio my_first_directory es el comando mkdir my_first_directory.\n",
    "\n",
    "**Creación recursiva de directorios**\n",
    "\n",
    "La función mkdir es muy útil, pero ¿qué sucede si necesitas crear otro directorio dentro del directorio que acabas de crear? Por supuesto, puedes ir al directorio creado y crear otro directorio dentro de él, pero afortunadamente el módulo os proporciona una función llamada *makedirs*, que facilita esta tarea.\n",
    "\n",
    "La función *makedirs* permite la creación recursiva de directorios, lo que significa que se crearán todos los directorios de la ruta."
   ]
  },
  {
   "cell_type": "code",
   "execution_count": 55,
   "id": "f73f8836-4940-4863-b18e-1f3a24d30ccf",
   "metadata": {},
   "outputs": [
    {
     "name": "stdout",
     "output_type": "stream",
     "text": [
      "['my_second_directory']\n"
     ]
    }
   ],
   "source": [
    "import os\n",
    "\n",
    "os.makedirs(\"my_first_directory/my_second_directory\")\n",
    "os.chdir(\"my_first_directory\")\n",
    "print(os.listdir())"
   ]
  },
  {
   "cell_type": "markdown",
   "id": "b69f0696-b06b-4d63-9b3d-1398900c8953",
   "metadata": {},
   "source": [
    "El primero de ellos se crea en el directorio de trabajo actual, mientras que el segundo en el directorio my_first_directory.\n",
    "\n",
    "No tienes que ir al directorio my_first_directory para crear el directorio my_second_directory, porque la función makedirs hace esto por ti. En el ejemplo anterior, vamos al directorio my_first_directory para mostrar que el comando makedirs crea el subdirectorio my_second_directory.\n",
    "\n",
    "Para moverte entre directorios, puedes usar una función llamada *chdir*, que cambia el directorio de trabajo actual a la ruta especificada. Como argumento, toma cualquier ruta relativa o absoluta. En nuestro ejemplo, le pasamos el nombre del primer directorio.\n",
    "\n",
    "NOTA: El equivalente de la función makedirs en sistemas Unix es el comando mkdir con el indicador -p, mientras que en Windows, simplemente el comando mkdir con la ruta:\n",
    "\n",
    "* Sistemas tipo Unix:\n",
    "\n",
    "mkdir -p my_first_directory/my_second_directory\n",
    "\n",
    "* Windows:\n",
    "\n",
    "mkdir my_first_directory/my_second_directory\n",
    "\n",
    "**Ubicación directorios**\n",
    "\n",
    "El módulo *os* proporciona una función que devuelve información sobre el directorio de trabajo actual. Se llama *getcwd*."
   ]
  },
  {
   "cell_type": "code",
   "execution_count": 56,
   "id": "7946906c-9db9-40fc-87e4-5ad2519fe01b",
   "metadata": {},
   "outputs": [
    {
     "name": "stdout",
     "output_type": "stream",
     "text": [
      "/home/isabelmaniega/Documentos/Python_ETL/my_first_directory/my_first_directory\n",
      "/home/isabelmaniega/Documentos/Python_ETL/my_first_directory/my_first_directory/my_second_directory\n"
     ]
    }
   ],
   "source": [
    "import os\n",
    "\n",
    "os.makedirs(\"my_first_directory/my_second_directory\")\n",
    "os.chdir(\"my_first_directory\")\n",
    "print(os.getcwd())\n",
    "os.chdir(\"my_second_directory\")\n",
    "print(os.getcwd())"
   ]
  },
  {
   "cell_type": "markdown",
   "id": "eb37fb4b-1f71-4505-91fd-d1556d885044",
   "metadata": {},
   "source": [
    "Creamos el directorio my_first_directory y el directorio my_second_directory dentro de él. En el siguiente paso, cambiamos el directorio de trabajo actual al directorio my_first_directory y luego mostramos el directorio de trabajo actual (primera línea del resultado).\n",
    "\n",
    "A continuación, vamos al directorio my_second_directory y nuevamente mostramos el directorio de trabajo actual (segunda línea del resultado). Como puedes ver, la función getcwd devuelve la ruta absoluta a los directorios.\n",
    "\n",
    "NOTA: En sistemas tipo Unix, el equivalente de la función getcwd es el comando pwd, que imprime el nombre del directorio de trabajo actual.\n",
    "\n",
    "**Eliminar directorios**\n",
    "\n",
    "El módulo os también te permite eliminar directorios. Te da la opción de borrar un solo directorio o un directorio con sus subdirectorios. Para eliminar un solo directorio, puedes usar una función llamada *rmdir*, que toma la ruta como argumento."
   ]
  },
  {
   "cell_type": "code",
   "execution_count": 57,
   "id": "34b0474b-8fa6-4687-8957-80f4901b8c34",
   "metadata": {},
   "outputs": [
    {
     "name": "stdout",
     "output_type": "stream",
     "text": [
      "['my_first_directory']\n",
      "[]\n"
     ]
    }
   ],
   "source": [
    "import os\n",
    "\n",
    "os.mkdir(\"my_first_directory\")\n",
    "print(os.listdir())\n",
    "os.rmdir(\"my_first_directory\")\n",
    "print(os.listdir())"
   ]
  },
  {
   "cell_type": "markdown",
   "id": "7378bb9e-3858-49ca-8d22-c0524dc44ee3",
   "metadata": {},
   "source": [
    "El ejemplo anterior es realmente simple. Primero, se crea el directorio my_first_directory y luego se elimina usando la función rmdir. La función listdir se utiliza como prueba de que el directorio se ha eliminado correctamente. En este caso, devuelve una lista vacía. Al eliminar un directorio, asegúrate de que exista y esté vacío; de lo contrario, se generará una excepción.\n",
    "\n",
    "Para eliminar un directorio y sus subdirectorios, puedes utilizar la función *removedirs*, que requiere que se especifique una ruta que contenga todos los directorios que deben eliminarse:"
   ]
  },
  {
   "cell_type": "code",
   "execution_count": 58,
   "id": "ae3f5b86-d1e2-4a05-932d-acc132e7ae50",
   "metadata": {},
   "outputs": [
    {
     "name": "stdout",
     "output_type": "stream",
     "text": [
      "[]\n"
     ]
    }
   ],
   "source": [
    "import os\n",
    "\n",
    "os.makedirs(\"my_first_directory/my_second_directory\")\n",
    "os.removedirs(\"my_first_directory/my_second_directory\")\n",
    "print(os.listdir())"
   ]
  },
  {
   "cell_type": "markdown",
   "id": "bf2ed777-39e8-406e-bf0a-dc854f57e491",
   "metadata": {},
   "source": [
    "Al igual que con la función rmdir, si uno de los directorios no existe o no está vacío, se generará una excepción.\n",
    "\n",
    "NOTA: Tanto en Windows como en Unix, hay un comando llamado *rmdir*, que, al igual que la función rmdir, elimina directorios. Además, ambos sistemas tienen comandos para eliminar un directorio y su contenido. En Unix, este es el comando rm con el indicador -r."
   ]
  },
  {
   "cell_type": "markdown",
   "id": "18e40af5-534d-443c-8246-120f97fc2069",
   "metadata": {},
   "source": [
    "**system()**\n",
    "\n",
    "Todas las funciones pueden ser reemplazadas por una función llamada system, que ejecuta un comando que se le pasa como una cadena.\n",
    "\n",
    "La función system está disponible tanto en Windows como en Unix. Dependiendo del sistema, devuelve un resultado diferente.\n",
    "\n",
    "En Windows, devuelve el valor devuelto por el shell después de ejecutar el comando dado, mientras que en Unix, devuelve el estado de salida del proceso."
   ]
  },
  {
   "cell_type": "code",
   "execution_count": 59,
   "id": "f068fea6-95af-400c-9ab0-c4d175384b67",
   "metadata": {},
   "outputs": [
    {
     "name": "stdout",
     "output_type": "stream",
     "text": [
      "0\n"
     ]
    }
   ],
   "source": [
    "import os\n",
    "\n",
    "returned_value = os.system(\"mkdir my_first_directory\")\n",
    "print(returned_value)"
   ]
  },
  {
   "cell_type": "markdown",
   "id": "3e6a9a06-eb41-4ff9-80b9-47af74e24c26",
   "metadata": {},
   "source": [
    "El ejemplo anterior funcionará tanto en Windows como en Unix. En nuestro caso, recibimos el estado de salida 0, que indica éxito en los sistemas Unix.\n",
    "\n",
    "Esto significa que se ha creado el directorio my_first_directory. Como parte del ejercicio, intenta enumerar el contenido del directorio donde se creó el directorio my_first_directory."
   ]
  },
  {
   "cell_type": "markdown",
   "id": "1b888d36-8127-41e8-8715-3c53dd171f09",
   "metadata": {},
   "source": [
    "*Creado por:*\n",
    "\n",
    "*Isabel Maniega*"
   ]
  }
 ],
 "metadata": {
  "kernelspec": {
   "display_name": "Python 3 (ipykernel)",
   "language": "python",
   "name": "python3"
  },
  "language_info": {
   "codemirror_mode": {
    "name": "ipython",
    "version": 3
   },
   "file_extension": ".py",
   "mimetype": "text/x-python",
   "name": "python",
   "nbconvert_exporter": "python",
   "pygments_lexer": "ipython3",
   "version": "3.12.3"
  }
 },
 "nbformat": 4,
 "nbformat_minor": 5
}
