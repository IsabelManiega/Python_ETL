{
 "cells": [
  {
   "cell_type": "markdown",
   "id": "55a6d0a5-1af0-42b3-bb28-56d829d97abe",
   "metadata": {},
   "source": [
    "*Creado por:*\n",
    "\n",
    "*Isabel Maniega*"
   ]
  },
  {
   "cell_type": "markdown",
   "id": "0879db2b-4580-4a5e-981c-92daa328176e",
   "metadata": {},
   "source": [
    "### Comprender los formatos de archivo en la adquisición de datos\n",
    "\n",
    "1. **CSV (valores separados por comas)**\n",
    "\n",
    "Los archivos CSV almacenan datos tabulares en formato de texto sin formato con la extensión .csv. Un archivo típico contiene valores separados por comas, pero también se permiten otros separadores como punto y coma o tabulación. Se debe enfatizar que solo se puede usar un tipo de separador en un archivo CSV.\n",
    "\n",
    "Es simple y se usa ampliamente por su compatibilidad con muchas aplicaciones.\n",
    "Carece de soporte para tipos de datos y puede ser ineficiente para grandes conjuntos de datos.\n",
    "Los archivos CSV se usan comúnmente para intercambiar datos tabulares entre diferentes sistemas o aplicaciones. Son populares en escenarios donde la interoperabilidad y la simplicidad son más importantes que las funciones avanzadas.\n",
    "\n",
    "Los archivos CSV son fácilmente legibles tanto por humanos como por máquinas. Se usan para tareas como importar y exportar datos desde bases de datos, hojas de cálculo y herramientas de análisis. Sin embargo, es posible que no sean la mejor opción para grandes conjuntos de datos debido a su falta de información sobre el tipo de datos y a su almacenamiento ineficiente.\n",
    "\n",
    "El formato **CSV** (valores separados por comas) es uno de los formatos de archivo más populares que se utilizan para almacenar y transferir datos entre diferentes programas. Actualmente, muchas herramientas de gestión de bases de datos y el popular Excel ofrecen la importación y exportación de datos en este formato.\n",
    "\n",
    "Cada línea del archivo representa un determinado conjunto de datos. Opcionalmente, en la primera línea podemos poner un encabezado que describa estos datos. Veamos un ejemplo sencillo de un archivo llamado ```contacts.csv``` que almacena los contactos de un teléfono:\n",
    "```\n",
    "Name,Phone\n",
    "mother,222-555-101\n",
    "father,222-555-102\n",
    "wife,222-555-103\n",
    "mother-in-law,222-555-104\n",
    "```\n",
    "\n",
    "En el archivo anterior, hay cuatro contactos que consisten en ```nombre``` y ```número de teléfono```. Tenga en cuenta que la primera línea contiene un encabezado para ayudarlo a interpretar los datos.\n",
    "\n",
    "**Lectura de datos de un archivo CSV (parte 1)**\n",
    "\n",
    "La biblioteca estándar de Python ofrece un módulo llamado ```csv``` que proporciona funciones para leer y escribir datos en formato CSV. La lectura de datos se realiza utilizando el objeto ```reader```, mientras que la escritura se realiza utilizando el objeto ```writer```. Primero, analizaremos más de cerca la lectura de datos utilizando el objeto ```reader```.\n",
    "\n",
    "La función ```reader``` devuelve un objeto que le permite iterar sobre cada línea en el archivo CSV. Para crearlo, necesitamos pasar un objeto de archivo a la función ```reader```. Para este propósito, podemos utilizar una función incorporada llamada open. Mire el código en el editor y ejecútelo.\n",
    "\n",
    "Debería producir el siguiente resultado:\n",
    "```\n",
    "['Name', 'Phone']\n",
    "['mother', '222-555-101']\n",
    "['father', '222-555-102']\n",
    "['wife', '222-555-103']\n",
    "['mother-in-law', '222-555-104']\n",
    "```\n",
    "¿Qué sucedió? Hemos pasado un archivo abierto llamado ```contacts.csv``` y un separador utilizado para separar los datos del archivo a la función de lectura. El segundo argumento se puede omitir si nuestro archivo utiliza el separador predeterminado, que es una coma; lo hemos agregado para mostrarle cómo especificar otros separadores."
   ]
  },
  {
   "cell_type": "code",
   "execution_count": 1,
   "id": "2f55a805-3653-4ebf-8f67-4f221e893c61",
   "metadata": {
    "scrolled": true
   },
   "outputs": [
    {
     "name": "stdout",
     "output_type": "stream",
     "text": [
      "['Name', 'Phone']\n",
      "['mother', '222-555-101']\n",
      "['father', '222-555-102']\n",
      "['wife', '222-555-103']\n",
      "['mother-in-law', '222-555-104']\n"
     ]
    }
   ],
   "source": [
    "import csv\n",
    "\n",
    "with open('./files/contacts.csv', newline='') as csvfile:\n",
    "    reader = csv.reader(csvfile, delimiter=',')\n",
    "    for row in reader:\n",
    "        print(row)"
   ]
  },
  {
   "cell_type": "markdown",
   "id": "4214e972-0f59-4e5a-b459-ef60c13f75a8",
   "metadata": {},
   "source": [
    "**Lectura de datos de un archivo CSV (parte 2)**\n",
    "\n",
    "Por último, leemos cada fila mediante el bucle for. Observe que se devuelve una sola línea como una lista de cadenas. Sin embargo, se pueden obtener resultados más legibles, por ejemplo, mediante el método join. Observe el código en el editor y ejecútelo.\n",
    "\n",
    "Debería producir el siguiente resultado:\n",
    "```\n",
    "Name,Phone\n",
    "mother,222-555-101\n",
    "father,222-555-102\n",
    "wife,222-555-103\n",
    "mother-in-law,222-555-104\n",
    "```\n",
    "NOTA: El argumento ```newline=''``` agregado a la función ```open``` nos protege de la interpretación incorrecta del carácter de nueva línea en diferentes plataformas."
   ]
  },
  {
   "cell_type": "code",
   "execution_count": 2,
   "id": "40e0593a-b2ff-483e-9ef7-c5e6d593c1b1",
   "metadata": {},
   "outputs": [
    {
     "name": "stdout",
     "output_type": "stream",
     "text": [
      "Name,Phone\n",
      "mother,222-555-101\n",
      "father,222-555-102\n",
      "wife,222-555-103\n",
      "mother-in-law,222-555-104\n"
     ]
    }
   ],
   "source": [
    "import csv\n",
    "\n",
    "with open('./files/contacts.csv', newline='') as csvfile:\n",
    "    reader = csv.reader(csvfile, delimiter=',')\n",
    "    for row in reader:\n",
    "        print(','.join(row))"
   ]
  },
  {
   "cell_type": "markdown",
   "id": "4e8b0c21-442a-4b14-9312-1ecb74c5fd49",
   "metadata": {},
   "source": [
    "**Lectura de datos de un archivo CSV (parte 3)**\n",
    "\n",
    "El módulo ```csv``` proporciona una forma más cómoda de leer datos, en la que cada línea se asigna a un objeto ```OrderedDict```. Para lograr esto, debemos utilizar la clase ```DictReader``` de la forma que mostramos en el editor.\n",
    "\n",
    "El código en el editor producirá la siguiente salida:\n",
    "```\n",
    "mother : 222-555-101\n",
    "father : 222-555-102\n",
    "wife : 222-555-103\n",
    "mother-in-law : 222-555-104\n",
    "```"
   ]
  },
  {
   "cell_type": "code",
   "execution_count": 3,
   "id": "da5740ec-cd89-4e90-ac98-82a93f95664b",
   "metadata": {},
   "outputs": [
    {
     "name": "stdout",
     "output_type": "stream",
     "text": [
      "mother : 222-555-101\n",
      "father : 222-555-102\n",
      "wife : 222-555-103\n",
      "mother-in-law : 222-555-104\n"
     ]
    }
   ],
   "source": [
    "import csv\n",
    "\n",
    "with open('./files/contacts.csv', newline='') as csvfile:\n",
    "    reader = csv.DictReader(csvfile)\n",
    "    for row in reader:\n",
    "        print(row['Name'], ':', row['Phone'])"
   ]
  },
  {
   "cell_type": "markdown",
   "id": "f9ccc58e-2a57-473f-b572-66aca807f98b",
   "metadata": {},
   "source": [
    "**Lectura de datos de un archivo CSV (parte 4)**\n",
    "\n",
    "Al igual que la función de lectura, la clase ```DictReader``` acepta un objeto ```file``` como argumento. Trata la primera línea del archivo como un encabezado desde el cual leer las claves. Si su archivo no tiene un encabezado, debe definirlo utilizando el argumento ```fieldnames```. Mire el código en el editor.\n",
    "\n",
    "NOTA: Si define más nombres de columnas que valores en el archivo, los valores faltantes serán ```None```."
   ]
  },
  {
   "cell_type": "code",
   "execution_count": 4,
   "id": "1eb39488-6896-45c1-9e1d-39e24ac59dfc",
   "metadata": {},
   "outputs": [
    {
     "name": "stdout",
     "output_type": "stream",
     "text": [
      "Name Phone\n",
      "mother 222-555-101\n",
      "father 222-555-102\n",
      "wife 222-555-103\n",
      "mother-in-law 222-555-104\n"
     ]
    }
   ],
   "source": [
    "import csv\n",
    "\n",
    "with open('./files/contacts.csv', newline='') as csvfile:\n",
    "    fieldnames = ['Name', 'Phone']\n",
    "    reader = csv.DictReader(csvfile, fieldnames=fieldnames)\n",
    "    for row in reader:\n",
    "        print(row['Name'], row['Phone'])"
   ]
  },
  {
   "cell_type": "markdown",
   "id": "a302f436-70b9-496d-bbd8-5a7558631fdb",
   "metadata": {},
   "source": [
    "**Guardar datos en un archivo CSV (parte 1)**\n",
    "\n",
    "Como mencionamos antes, guardar datos en un archivo CSV se hace usando el objeto ```writer``` provisto por el módulo ```csv```. Para crearlo, necesitamos usar una función llamada ```writer```, que toma el mismo conjunto de argumentos que la función reader. Veamos cómo guardar contactos en un archivo CSV. Observa el código en el editor.\n",
    "\n",
    "En el código de ejemplo, primero abrimos el archivo para escribir. El modo ```'w'``` crea un archivo para nosotros si aún no se ha creado. A continuación, creamos un objeto ```writer``` que usamos para agregar filas usando el método ```writerow```. El método ```writerow``` toma una lista de valores como argumento y luego los guarda como una línea en un archivo CSV."
   ]
  },
  {
   "cell_type": "code",
   "execution_count": 5,
   "id": "7ac3a2af-945c-49aa-b8db-3de54ffa0fe1",
   "metadata": {},
   "outputs": [],
   "source": [
    "import csv\n",
    "\n",
    "with open('./files/exported_contacts.csv', 'w', newline='') as csvfile:\n",
    "    writer = csv.writer(csvfile, delimiter=',')\n",
    "    \n",
    "    writer.writerow(['Name', 'Phone'])\n",
    "    writer.writerow(['mother', '222-555-101'])\n",
    "    writer.writerow(['father', '222-555-102'])\n",
    "    writer.writerow(['wife', '222-555-103'])\n",
    "    writer.writerow(['mother-in-law', '222-555-104'])"
   ]
  },
  {
   "cell_type": "markdown",
   "id": "d5006e22-9949-4c0c-873f-b8e79f23cebb",
   "metadata": {},
   "source": [
    "**Guardar datos en un archivo CSV (parte 2)**\n",
    "\n",
    "Imagina una situación en la que agregas un contacto que contiene el separador utilizado para separar los valores en el archivo CSV. De manera predeterminada, estos valores están entre comillas, pero puedes cambiar esto con el argumento ```quotechar```, que debe ser un solo carácter. Observa el código en el editor y observa cómo configuramos explícitamente los argumentos predeterminados.\n",
    "\n",
    "El código guardará los siguientes datos en el archivo exported_contacts.csv:\n",
    "```\n",
    "Name,Phone\n",
    "mother,222-555-101\n",
    "father,222-555-102\n",
    "wife,222-555-103\n",
    "\"grandmother, grandfather and auntie\",222-555-105\n",
    "```\n",
    "El último argumento, llamado ```quoting```, especifica qué valores deben ```quotarse```. El valor predeterminado ```QUOTE_MINIMAL``` significa que solo se compondrán valores con caracteres especiales como separador o ```quotechar```. En nuestro caso, es el valor de ```\"abuela, abuelo y tía\"```.\n",
    "\n",
    "A continuación, se muestran otras constantes que podemos usar como valor del argumento ```quoting```:\n",
    "\n",
    "- **csv.QUOTE_ALL**: comprime todos los valores\n",
    "\n",
    "- **csv.QUOTE_NONNUMERIC**: comprime solo valores no numéricos\n",
    "\n",
    "- **csv.QUOTE_NONE**: no comprime ningún valor. No es una buena idea establecer este valor si tiene caracteres especiales que requieren comillas, ya que esto generará un error.\n",
    "\n",
    "NOTA: Los parámetros ```quotechar``` y ```quoting``` también se pueden usar en la función ```reader```. Consulte la documentación para obtener más información."
   ]
  },
  {
   "cell_type": "code",
   "execution_count": 6,
   "id": "1fbbb946-9a37-4662-bd08-6dd5e18e36cd",
   "metadata": {},
   "outputs": [],
   "source": [
    "import csv\n",
    "\n",
    "with open('./files/exported_contacts.csv', 'w', newline='') as csvfile:\n",
    "    writer = csv.writer(csvfile, delimiter=',', quotechar='\"', quoting=csv.QUOTE_MINIMAL)\n",
    "    \n",
    "    writer.writerow(['Name', 'Phone'])\n",
    "    writer.writerow(['mother', '222-555-101'])\n",
    "    writer.writerow(['father', '222-555-102'])\n",
    "    writer.writerow(['wife', '222-555-103'])\n",
    "    writer.writerow(['mother-in-law', '222-555-104'])\n",
    "    writer.writerow(['grandmother, grandfather', '222-555-105'])"
   ]
  },
  {
   "cell_type": "markdown",
   "id": "ee64e281-3129-4830-b4d8-65e64d9bafe9",
   "metadata": {},
   "source": [
    "**Guardar datos en un archivo CSV (parte 3)**\n",
    "\n",
    "¿Recuerdas cómo leíamos las filas del archivo CSV en objetos ```OrderedDict```? En el módulo ```csv```, hay una clase análoga llamada ```DictWriter``` con la que podemos mapear diccionarios a filas. A diferencia del objeto ```DictReader```, al crear el objeto ```DictWriter```, debemos definir un encabezado. Veamos el ejemplo en el editor.\n",
    "\n",
    "Para crear el objeto ```DictWriter```, usamos un objeto de archivo y una lista que contiene los nombres de las columnas. Ten en cuenta que antes de guardar el valor, primero llamamos al método ```writeheader```, que agrega el encabezado a la primera línea del archivo. Después de eso, agregamos filas con valores pasando diccionarios al método ```writerow```."
   ]
  },
  {
   "cell_type": "code",
   "execution_count": 7,
   "id": "8d5346f7-d765-4d6f-8285-4b858ebabfce",
   "metadata": {},
   "outputs": [],
   "source": [
    "import csv\n",
    "\n",
    "with open('./files/exported_contacts.csv', 'w', newline='') as csvfile:\n",
    "    fieldnames = ['Name', 'Phone']\n",
    "    writer = csv.DictWriter(csvfile, fieldnames=fieldnames)\n",
    "    \n",
    "    writer.writeheader()\n",
    "    writer.writerow({'Name': 'mother', 'Phone': '222-555-101'})\n",
    "    writer.writerow({'Name': 'father', 'Phone': '222-555-102'})\n",
    "    writer.writerow({'Name': 'wife', 'Phone': '222-555-103'})\n",
    "    writer.writerow({'Name': 'mother-in-law', 'Phone': '222-555-104'})\n",
    "    writer.writerow({'Name': 'grandmother, grandfather and auntie', 'Phone': '222-555-105'})"
   ]
  },
  {
   "cell_type": "markdown",
   "id": "560f8ed2-d51f-4f87-b246-7082996368e8",
   "metadata": {},
   "source": [
    "**TSV**\n",
    "\n",
    "Se puede usar la librería csv para archivos con formato .tsv:\n",
    "\n",
    "```\n",
    "with open(\"file.tsv\") as fd:\n",
    "    rd = csv.reader(fd, delimiter=\"\\t\", quotechar='\"')\n",
    "    for row in rd:\n",
    "        print(row)\n",
    "\n",
    "```"
   ]
  },
  {
   "cell_type": "markdown",
   "id": "e655dccf-fa04-438c-86e2-b205f5b0896d",
   "metadata": {},
   "source": [
    "2. **JSON (notación de objetos JavaScript)**\n",
    "\n",
    "- **J**ava...\n",
    "- ...**S**cript\n",
    "- **O**bject\n",
    "- **N**otation\n",
    "\n",
    "\n",
    "JSON es un formato de intercambio de datos liviano, legible para humanos y fácil de entender tanto para humanos como para máquinas.\n",
    "Se usa ampliamente para representar datos estructurados, particularmente en aplicaciones web y API.\n",
    "JSON admite estructuras anidadas y se usa a menudo para datos semiestructurados.\n",
    "JSON se usa a menudo en desarrollo web, API y configuraciones donde los datos deben almacenarse o transmitirse en un formato estructurado. Es especialmente útil cuando se trabaja con datos semiestructurados.\n",
    "\n",
    "Los archivos JSON almacenan datos como pares clave-valor en una estructura jerárquica. Se usan para tareas como almacenar configuraciones de aplicaciones, intercambiar datos entre servicios web y serializar estructuras de datos complejas en lenguajes de programación.\n",
    "```\n",
    "{\n",
    "  \"name\": \"Nnamdi Samuel\",\n",
    "  \"age\": 30,\n",
    "  \"email\": \"Nnamdi@example.com\",\n",
    "  \"address\": {\n",
    "    \"street\": \"123 Main St\",\n",
    "    \"city\": \"Anytown\",\n",
    "    \"state\": \"CA\",\n",
    "    \"zipcode\": \"12345\"\n",
    "  },\n",
    "  \"phone_numbers\": [\n",
    "    {\n",
    "      \"type\": \"home\",\n",
    "      \"number\": \"555-1234\"\n",
    "    },\n",
    "    {\n",
    "      \"type\": \"work\",\n",
    "      \"number\": \"555-5678\"\n",
    "    }\n",
    "  ]\n",
    "}\n",
    "```\n",
    "¿Cómo podemos cumplir con este requisito?\n",
    "\n",
    "El problema con el que debemos luchar es cómo representar un objeto (entendido como un conjunto de datos de diferentes tipos, incluidos otros objetos) o incluso un único valor de una manera que pueda sobrevivir a las transferencias de red y las conversiones entre plataformas.\n",
    "\n",
    "JSON resuelve el problema utilizando dos trucos simples:\n",
    "\n",
    "- utiliza texto codificado en UTF-8, lo que significa que no se utilizan formatos dependientes de la máquina o la plataforma; también significa que los datos que lleva JSON son legibles (mal, pero siempre legibles) y comprensibles para los humanos;\n",
    "- utiliza un formato simple y no muy expandido (podemos llamarlo sintaxis, o incluso gramática) para representar dependencias mutuas y relaciones entre diferentes partes de los objetos, y es capaz de transferir no solo los valores de las propiedades de los objetos, sino también sus nombres.\n",
    "\n",
    "En JSON, puede ser un valor sin nombre como un número, una cadena, un booleano o… nada, aunque esto no es lo que más nos gusta de JSON. JSON puede transportar datos mucho más complejos, recopilados y agregados en conjuntos más grandes.\n",
    "\n",
    "Si desea transferir no solo datos sin procesar sino también todos los nombres vinculados a ellos (como la forma en que los objetos mantienen sus propiedades), JSON ofrece una sintaxis que parece un pariente cercano del diccionario de Python, que es, de hecho, un conjunto de pares ```clave:valor```. Hacer tal suposición nos lleva a la siguiente pregunta: ¿podemos usar la sintaxis de Python para codificar y decodificar mensajes de red en REST?\n",
    "\n",
    "Sí, podemos, pero no será JSON. Si desea que sus datos sean ampliamente comprendidos (no solo por sus contrapartes de Python), debe usar JSON.\n",
    "\n",
    "**Trabajar con el módulo JSON en Python**\n",
    "\n",
    "Ahora que estamos familiarizados con los aspectos esenciales de JSON, es hora de aprender a usarlo con Python. Nos preocupa un poco que pienses que queremos que construyas laboriosamente mensajes JSON, preocupándote por todos esos corchetes, paréntesis y dos puntos, y que descompongas líneas JSON complejas en factores primos. ¡Nada más lejos de la realidad! No tenemos la costumbre de pensar en ideas tan locas, aunque, para ser honestos, no es tan complejo como parece y estamos convencidos de que serías capaz de afrontar semejante desafío. Afortunadamente, no es necesario.\n",
    "\n",
    "¿Por qué?\n",
    "\n",
    "Porque hay un módulo de Python, llamado JSON, que puede realizar todas esas tareas pesadas por ti.\n",
    "\n",
    "¿Cómo comenzamos una nueva aventura? Es obvio, y estamos seguros de que lo sabías antes de que te lo preguntáramos:\n",
    "```\n",
    "import json\n",
    "```\n",
    "\n",
    "La primera característica del módulo JSON es su capacidad de convertir automáticamente datos de Python (no todos y no siempre) en una cadena JSON. Si desea realizar dicha operación, puede utilizar una función llamada ```dumps()```.\n",
    "\n",
    "Nota: el 's al final del nombre de la función significa cadena. Existe una función muy similar con el nombre privado de este sufijo que escribe la cadena JSON en el archivo para transmisiones similares a archivos.\n",
    "\n",
    "La función hace lo que promete: toma datos (incluso datos algo complicados) y produce una cadena llena con un mensaje JSON. Por supuesto, ```dumps()``` no es un profeta y no puede leer su mente, así que no espere milagros.\n",
    "\n",
    "Comencemos con algunos fragmentos simples.\n",
    "\n",
    "El primero de nuestros ejemplos toma un número y genera un número; no esperamos nada más:\n",
    "```\n",
    "import json\n",
    "\n",
    "electron = 1.602176620898E10−19\n",
    "print(json.dumps(electron))\n",
    "```\n",
    "\n",
    "El código genera:\n",
    "```\n",
    "16021766189.98\n",
    "```\n",
    "Nota: la notación es diferente, pero el valor sigue siendo el mismo. Compruébelo usted mismo.\n",
    "\n",
    "Hagamos lo mismo, pero con una cadena, de esta manera:\n",
    "```\n",
    "import json\n",
    "\n",
    "comics = '\"The Meaning of Life\" by Monty Python\\'s Flying Circus'\n",
    "print(json.dumps(comics))\n",
    "```\n",
    "\n",
    "El código genera:\n",
    "```\n",
    "\"\\\"The Meaning of Life\\\" by Monty Python's Flying Circus\"\n",
    "```\n",
    "Como puedes ver, se cumplieron todos los requisitos de JSON.\n",
    "\n",
    "Ahora es un buen momento para presentar una lista. ¿Qué te parece este ejemplo?\n",
    "```\n",
    "import json\n",
    "\n",
    "my_list = [1, 2.34, True, \"False\", None, ['a', 0]]\n",
    "print(json.dumps(my_list))\n",
    "```\n",
    "\n",
    "Como puedes ver, en realidad hay dos listas. ¿Es eso un problema? ¡En absoluto!\n",
    "\n",
    "El código imprime:\n",
    "```\n",
    "[1, 2.34, True, \"False\", null, [\"a\", 0]]\n",
    "```\n",
    "\n",
    "Queremos hacerte una pregunta: ¿qué sucederá si usamos una tupla en lugar de una lista? La respuesta es predecible: nada. Como JSON no puede distinguir entre listas y tuplas, ambas se convierten en matrices JSON.\n",
    "\n",
    "Revisemos un diccionario. Aquí hay una prueba sencilla:\n",
    "```\n",
    "import json\n",
    "\n",
    "my_dict = {'me': \"Python\", 'pi': 3.141592653589, 'data': (1, 2, 4, 8), 'set': None}\n",
    "print(json.dumps(my_dict))\n",
    "```\n",
    "\n",
    "Y esta es la salida del código:\n",
    "```\n",
    "{\"me\": \"Python\", \"pi\": 3.141592653589, \"data\": [1, 2, 4, 8], \"friend\": \"JSON\", \"set\": null}\n",
    "```\n",
    "Ahora estamos listos para sacar algunas conclusiones.\n",
    "\n",
    "Como puedes ver, Python usa un pequeño conjunto de reglas simples para crear mensajes JSON a partir de sus datos nativos. Aquí está:\n",
    "\n",
    "|    Python data     |    JSON element    |\n",
    "| -------------------| -------------------|\n",
    "|      ```dict```    | ```object```       |\n",
    "|```list or tuple``` | ```array```        |\n",
    "|     ```string```   | ```string```       |\n",
    "| ```int or float``` | ```number```       |\n",
    "| ```True / False``` | ```true / false``` |\n",
    "|     ```None```     | ```null```         |\n",
    "\n",
    "Parece simple y coherente, pero ¿dónde está la trampa?\n",
    "\n",
    "La trampa está aquí:\n",
    "```\n",
    "import json\n",
    "\n",
    "class Who:\n",
    "    def __init__(self, name, age):\n",
    "        self.name = name\n",
    "        self.age = age\n",
    "\n",
    "\n",
    "some_man = Who('John Doe', 42)\n",
    "print(json.dumps(some_man))\n",
    "```\n",
    "\n",
    "El resultado que verás es extremadamente decepcionante:\n",
    "```\n",
    "TypeError: Object of type 'Class' is not JSON serializable\n",
    "```\n",
    "\n",
    "Sí, esa es la clave. No puedes simplemente volcar el contenido de un objeto, incluso un objeto tan simple como este.\n",
    "\n",
    "Por supuesto, si no necesitas nada más que un conjunto de propiedades de objeto y sus valores, puedes realizar un truco (un poco sucio) y volcar no el objeto en sí, sino el contenido de su propiedad ```__dict__```. Funcionará, pero esperamos más.\n",
    "\n",
    "¿Qué deberíamos hacer?\n",
    "\n",
    "Hay al menos dos opciones que podemos utilizar. La primera de ellas se basa en el hecho de que podemos sustituir la función que ```dumps()``` usa para obtener una representación textual de su argumento. Hay dos pasos a seguir:\n",
    "\n",
    "- escribir tu propia función sabiendo cómo manejar tus objetos;\n",
    "- hacer que ```dumps()``` lo sepa estableciendo el argumento de palabra clave llamado default;\n",
    "\n",
    "Ahora mira el código en la ventana del editor. El ejemplo muestra una implementación simple de la idea.\n",
    "\n",
    "El código imprime:\n",
    "```\n",
    "{\"name\": \"John Doe\", \"age\": 42}\n",
    "```\n",
    "\n",
    "Nota: decidimos usar el diccionario como destino del mensaje JSON. Gracias a eso, guardaremos los nombres de las propiedades junto con sus valores. Esto hará que JSON sea más fácil de leer y más comprensible para los humanos.\n",
    "\n",
    "Nota: generar una excepción ```TypeError``` es obligatorio; esta es la única forma de informar a ```dumps()``` que su función no puede convertir objetos que no sean los derivados de la clase Who.\n",
    "\n",
    "Nota: el proceso en el que un objeto (almacenado internamente por Python) se convierte en un aspecto textual o cualquier otro aspecto portátil a menudo se denomina serialización. De manera similar, la acción inversa (de portátil a interno) se denomina deserialización.\n",
    "\n",
    "Como puede ver, hemos convertido (serializado) nuestro objeto en un diccionario; ```dumps()``` lo convertirá en un objeto JSON."
   ]
  },
  {
   "cell_type": "code",
   "execution_count": 8,
   "id": "a2a42909-8e87-4597-8f3d-78b560c5449a",
   "metadata": {},
   "outputs": [
    {
     "name": "stdout",
     "output_type": "stream",
     "text": [
      "{\"name\": \"John Doe\", \"age\": 42}\n"
     ]
    }
   ],
   "source": [
    "import json\n",
    "\n",
    "\n",
    "class Who:\n",
    "    def __init__(self, name, age):\n",
    "        self.name = name\n",
    "        self.age = age\n",
    "\n",
    "\n",
    "def encode_who(w):\n",
    "    if isinstance(w, Who):\n",
    "        return w.__dict__\n",
    "    else:\n",
    "        raise TypeError(w.__class__.__name__ + ' is not JSON serializable')\n",
    "\n",
    "\n",
    "some_man = Who('John Doe', 42)\n",
    "print(json.dumps(some_man, default=encode_who))"
   ]
  },
  {
   "cell_type": "markdown",
   "id": "c7afc87d-264c-4619-8cd1-64fb1025abe6",
   "metadata": {},
   "source": [
    "El segundo enfoque se basa en el hecho de que la serialización se realiza mediante el método denominado ```default()```, que forma parte de la clase ```json.JSONEncoder```. Esto te da la oportunidad de sobrecargar el método que define una subclase de JSONEncoder y pasarlo a ```dumps()``` utilizando el argumento de palabra clave denominado ```cls```, tal como en el código que hemos proporcionado en el editor.\n",
    "\n",
    "Como puedes ver, estamos liberados de la obligación de generar excepciones. Genial, ¿no?\n",
    "\n",
    "El código produce el mismo resultado que el anterior:\n",
    "```\n",
    "{\"name\": \"John Doe\", \"age\": 42}\n",
    "```\n",
    "Parece que sabemos lo suficiente sobre cómo viajar desde el mundo de Python al mundo de JSON, pero aún no sabemos cómo regresar. Vamos a ocuparnos de ello."
   ]
  },
  {
   "cell_type": "code",
   "execution_count": 9,
   "id": "e3730c6b-5409-434d-bce0-23e9fc46b7ef",
   "metadata": {},
   "outputs": [
    {
     "name": "stdout",
     "output_type": "stream",
     "text": [
      "{\"name\": \"John Doe\", \"age\": 42}\n"
     ]
    }
   ],
   "source": [
    "import json\n",
    "\n",
    "\n",
    "class Who:\n",
    "    def __init__(self, name, age):\n",
    "        self.name = name\n",
    "        self.age = age\n",
    "\n",
    "\n",
    "class MyEncoder(json.JSONEncoder):\n",
    "    def default(self, w):\n",
    "        if isinstance(w, Who):\n",
    "            return w.__dict__\n",
    "        else:\n",
    "            return super().default(self, z)\n",
    "\n",
    "\n",
    "some_man = Who('John Doe', 42)\n",
    "print(json.dumps(some_man, cls=MyEncoder))"
   ]
  },
  {
   "attachments": {},
   "cell_type": "markdown",
   "id": "e1d02fbe-6241-41f6-9f03-d3c1732dc30d",
   "metadata": {},
   "source": [
    "La función que puede obtener una cadena JSON y convertirla en datos de Python se llama ```loads()```: toma una cadena (de ahí la s al final de su nombre) e intenta crear una entidad de Python correspondiente a los datos recibidos.\n",
    "\n",
    "Así es como funciona:\n",
    "```\n",
    "import json\n",
    "\n",
    "jstr = '16021766189.98'\n",
    "electron = json.loads(jstr)\n",
    "print(type(electron))\n",
    "print(electron)\n",
    "```\n",
    "\n",
    "El código imprime:\n",
    "```\n",
    "<class 'float'>\n",
    "16021766189.98\n",
    "```\n",
    "\n",
    "La función ```loads()``` también puede manejar cadenas. Observa el fragmento:\n",
    "```\n",
    "import json\n",
    "\n",
    "jstr = '\"\\\\\"The Meaning of Life\\\\\" by Monty Python\\'s Flying Circus\"'\n",
    "comics = json.loads(jstr)\n",
    "print(type(comics))\n",
    "print(comics)\n",
    "```\n",
    "\n",
    "¿Puedes ver las barras invertidas dobles dentro de jstr? ¿Son realmente necesarias?\n",
    "\n",
    "Sí, lo son, ya que tenemos que entregar una cadena JSON exacta en ```loads()```. Esto significa que la barra invertida debe preceder a todas las comillas existentes dentro de la cadena. Eliminar cualquiera de ellas hará que la cadena no sea válida y ```loads()``` no le gustará con seguridad.\n",
    "\n",
    "El código genera lo siguiente:\n",
    "```\n",
    "<class 'str'>\n",
    "\"The Meaning of Life\" by Monty Python's Flying Circus\n",
    "```\n",
    "\n",
    "¿Y qué pasa con las listas? ¿Es ```loads()``` lo suficientemente inteligente como para interpretarlas correctamente?\n",
    "\n",
    "Sí, lo es. Eche un vistazo:\n",
    "```\n",
    "import json\n",
    "\n",
    "jstr = '[1, 2.34, true, \"False\", null, [\"a\", 0]]'\n",
    "my_list = json.loads(jstr)\n",
    "print(type(mylist))\n",
    "print(mylist)\n",
    "```\n",
    "\n",
    "El código imprime:\n",
    "```\n",
    "<class 'list'>\n",
    "[1, 2.34, True, 'False', None, ['a', 0]]\n",
    "```\n",
    "\n",
    "Esperamos que el objeto JSON se procese correctamente.\n",
    "\n",
    "Sí, lo hará:\n",
    "```\n",
    "import json\n",
    "\n",
    "json_str = '{\"me\":\"Python\",\"pi\":3.141592653589, \"data\":[1,2,4,8],\"friend\":\"JSON\",\"set\": null}'\n",
    "my_dict = json.loads(json_str)\n",
    "print(type(my_dict))\n",
    "print(my_dict)\n",
    "```\n",
    "\n",
    "El código imprime:\n",
    "```\n",
    "<class 'dict'>\n",
    "{'me': 'Python', 'pi': 3.141592653589, 'data': [1, 2, 4, 8], 'friend': 'JSON', 'set': None}\n",
    "```\n",
    "\n",
    "Nuestras pruebas muestran que la tabla que presentamos antes funciona correctamente en ambas direcciones. Solo hay una diferencia específica: si un número codificado dentro de una cadena JSON no tiene ninguna parte fraccionaria, Python creará un número entero o, en caso contrario, un número flotante.\n",
    "\n",
    "Pero, ¿qué sucede con los objetos de Python? ¿Podemos deserializarlos de la misma manera que realizamos la serialización?\n",
    "\n",
    "Como probablemente esperes, deserializar un objeto puede requerir algunos pasos adicionales. Sí, de hecho. Como ```loads()``` no puede adivinar qué objeto (de qué clase) necesitas deserializar, debes proporcionar esta información.\n",
    "\n",
    "Observa el fragmento que hemos proporcionado en la ventana del editor."
   ]
  },
  {
   "cell_type": "code",
   "execution_count": 10,
   "id": "aea818e1-750d-4949-8956-37358930cb78",
   "metadata": {},
   "outputs": [
    {
     "name": "stdout",
     "output_type": "stream",
     "text": [
      "<class '__main__.Who'>\n",
      "{'name': 'Jane Doe', 'age': 23}\n"
     ]
    }
   ],
   "source": [
    "import json\n",
    "\n",
    "\n",
    "class Who:\n",
    "    def __init__(self, name, age):\n",
    "        self.name = name\n",
    "        self.age = age\n",
    "\n",
    "\n",
    "def encode_who(w):\n",
    "    if isinstance(w, Who):\n",
    "        return w.__dict__\n",
    "    else:\n",
    "        raise TypeError(w.__class__.__name__ + 'is not JSON serializable')\n",
    "\n",
    "\n",
    "def decode_who(w):\n",
    "    return Who(w['name'], w['age'])\n",
    "\n",
    "\n",
    "old_man = Who(\"Jane Doe\", 23)\n",
    "json_str = json.dumps(old_man, default=encode_who)\n",
    "new_man = json.loads(json_str, object_hook=decode_who)\n",
    "print(type(new_man))\n",
    "print(new_man.__dict__)"
   ]
  },
  {
   "attachments": {},
   "cell_type": "markdown",
   "id": "67f5d540-07eb-45bf-b792-8483db637bfd",
   "metadata": {},
   "source": [
    "Como puedes ver, hay un argumento de palabra clave llamado ```object_hook```, que se usa para señalar la función responsable de crear un objeto nuevo de una clase necesaria y de llenarlo con datos reales.\n",
    "\n",
    "Nota: la función ```decode_who()``` recibe una entidad de Python, o más específicamente, un diccionario. Como el constructor de Who espera dos valores ordinarios, una cadena y un número, no un diccionario, tenemos que usar un pequeño truco: hemos empleado el operador doble ```*``` para convertir el directorio en una lista de argumentos de palabras clave construida a partir de los pares ```key:value``` del diccionario. Por supuesto, las claves del diccionario deben tener los mismos nombres que los parámetros del constructor.\n",
    "\n",
    "Nota: la función, especificada por ```object_hook``` se invocará solo cuando la cadena JSON describa un objeto JSON. Lo sentimos, no hay excepciones a esta regla.\n",
    "\n",
    "Como ya se ha dicho, también es posible utilizar un enfoque más puro basado en objetos, que se basa en la redefinición de la clase JSONDecoder. Lamentablemente, esta variante es más complicada que su contraparte de codificación.\n",
    "\n",
    "No necesitamos reescribir ningún método, pero sí tenemos que redefinir el constructor de la superclase, lo que hace que nuestro trabajo sea un poco más laborioso. El nuevo constructor tiene como objetivo hacer solo una cosa: establecer una función para la creación de objetos.\n",
    "\n",
    "Como puede ver, esto es exactamente lo mismo que hicimos antes, pero expresado en un nivel diferente.\n",
    "\n",
    "Nos complace informarle que ahora hemos reunido suficiente conocimiento para pasar al siguiente nivel. Volveremos a tratar algunos problemas de red, pero también queremos mostrarle algunas herramientas nuevas y útiles."
   ]
  },
  {
   "cell_type": "code",
   "execution_count": 11,
   "id": "174a3ce8-479f-46e4-aeb6-d8e68941ac5d",
   "metadata": {},
   "outputs": [
    {
     "name": "stdout",
     "output_type": "stream",
     "text": [
      "<class '__main__.Who'>\n",
      "{'name': 'Jane Doe', 'age': 23}\n"
     ]
    }
   ],
   "source": [
    "import json\n",
    "\n",
    "\n",
    "class Who:\n",
    "    def __init__(self, name, age):\n",
    "        self.name = name\n",
    "        self.age = age\n",
    "\n",
    "\n",
    "class MyEncoder(json.JSONEncoder):\n",
    "    def default(self, w):\n",
    "        if isinstance(w, Who):\n",
    "            return w.__dict__\n",
    "        else:\n",
    "            return super().default(self, z)\n",
    "\n",
    "\n",
    "class MyDecoder(json.JSONDecoder):\n",
    "    def __init__(self):\n",
    "        json.JSONDecoder.__init__(self, object_hook=self.decode_who)\n",
    "\n",
    "    def decode_who(self, d):\n",
    "        return Who(**d)\n",
    "\n",
    "\n",
    "some_man = Who('Jane Doe', 23)\n",
    "json_str = json.dumps(some_man, cls=MyEncoder)\n",
    "new_man = json.loads(json_str, cls=MyDecoder)\n",
    "\n",
    "print(type(new_man))\n",
    "print(new_man.__dict__)"
   ]
  },
  {
   "cell_type": "markdown",
   "id": "bf11bf0d-c2eb-42c8-93ac-89a076b11c97",
   "metadata": {},
   "source": [
    "## Resumen:"
   ]
  },
  {
   "cell_type": "code",
   "execution_count": 12,
   "id": "9378b2d7-62fd-48a4-8790-43b5de0ac872",
   "metadata": {},
   "outputs": [
    {
     "data": {
      "text/plain": [
       "'{\"presidente\": {\"nombre\": \"Zaphod Beeblebrox\", \"especie\": \"Betelgeusian\"}}'"
      ]
     },
     "execution_count": 12,
     "metadata": {},
     "output_type": "execute_result"
    }
   ],
   "source": [
    "import json\n",
    "\n",
    "data = {\n",
    "    \"presidente\": {\n",
    "        \"nombre\": \"Zaphod Beeblebrox\",\n",
    "        \"especie\": \"Betelgeusian\"\n",
    "    }\n",
    "}\n",
    "\n",
    "# dumps: Serialización objeto python a str\n",
    "json_string = json.dumps(data)\n",
    "json_string"
   ]
  },
  {
   "cell_type": "code",
   "execution_count": 13,
   "id": "83fc23ea-53bc-437a-b41a-9f1e783fd9bf",
   "metadata": {},
   "outputs": [
    {
     "data": {
      "text/plain": [
       "{'nombre': 'Zaphod Beeblebrox', 'especie': 'Betelgeusian'}"
      ]
     },
     "execution_count": 13,
     "metadata": {},
     "output_type": "execute_result"
    }
   ],
   "source": [
    "# loads: Deserialización string a objeto\n",
    "\n",
    "json_decoded = json.loads(json_string)\n",
    "json_decoded['presidente']"
   ]
  },
  {
   "cell_type": "code",
   "execution_count": 14,
   "id": "7e0c1396-8e67-42c9-be45-2a899d422c06",
   "metadata": {},
   "outputs": [],
   "source": [
    "# Genera un .json con los datos de la variable data:\n",
    "\n",
    "with open('./files/archivo_json.json', 'w') as file:\n",
    "     json.dump(data, file, indent=4)"
   ]
  },
  {
   "cell_type": "code",
   "execution_count": 15,
   "id": "b77d3b7e-1b4f-40d8-849a-00e5a655740c",
   "metadata": {},
   "outputs": [
    {
     "name": "stdout",
     "output_type": "stream",
     "text": [
      "{'presidente': {'nombre': 'Zaphod Beeblebrox', 'especie': 'Betelgeusian'}}\n"
     ]
    }
   ],
   "source": [
    "# Lectura del archivo .json:\n",
    "\n",
    "with open('./files/archivo_json.json', 'r') as file:\n",
    "     print(json.load(file))"
   ]
  },
  {
   "cell_type": "markdown",
   "id": "edbc5800-d139-44ed-9c9c-25aae29dd6b6",
   "metadata": {},
   "source": [
    "3.**Excel**\n",
    "\n",
    "\n",
    "* **Pandas**: read_excel()"
   ]
  },
  {
   "cell_type": "code",
   "execution_count": 16,
   "id": "92045fa7-2450-4849-9a2b-f6766895e9fb",
   "metadata": {},
   "outputs": [],
   "source": [
    "# pip install openpyxl"
   ]
  },
  {
   "cell_type": "code",
   "execution_count": 17,
   "id": "990ffc0d-8082-430e-8643-7ef5979b2bba",
   "metadata": {},
   "outputs": [
    {
     "name": "stdout",
     "output_type": "stream",
     "text": [
      "       Name   Age    Stream  Percentage\n",
      "0      Ankit   18      Math          95\n",
      "1      Rahul   19   Science          90\n",
      "2    Shaurya   20  Commerce          85\n",
      "3  Aishwarya   18      Math          80\n",
      "4   Priyanka   19   Science          75\n"
     ]
    }
   ],
   "source": [
    "import pandas as pd\n",
    "\n",
    "# read by default 1st sheet of an excel file\n",
    "dataframe1 = pd.read_excel('./files/SampleExcel.xlsx')\n",
    "\n",
    "print(dataframe1)"
   ]
  },
  {
   "cell_type": "code",
   "execution_count": 18,
   "id": "ba57d6bb-c977-4f6c-a181-f589793c97aa",
   "metadata": {},
   "outputs": [
    {
     "name": "stdout",
     "output_type": "stream",
     "text": [
      "      Name   Age    Stream  Percentage\n",
      "0     Priya   18      Math          95\n",
      "1  shivangi   19   Science          90\n",
      "2      Jeet   20  Commerce          85\n",
      "3    Ananya   18      Math          80\n",
      "4   Swapnil   19   Science          75\n"
     ]
    }
   ],
   "source": [
    "# Leer la segunda hoja del excel mediante sheet_name:\n",
    "dataframe2 = pd.read_excel('./files/SampleExcel.xlsx', sheet_name = 1)\n",
    "\n",
    "print(dataframe2)"
   ]
  },
  {
   "cell_type": "code",
   "execution_count": 19,
   "id": "b79a6531-61ee-46d2-a5c9-438b97f7c170",
   "metadata": {},
   "outputs": [
    {
     "name": "stdout",
     "output_type": "stream",
     "text": [
      "       Name   Percentage\n",
      "0      Ankit          95\n",
      "1      Rahul          90\n",
      "2    Shaurya          85\n",
      "3  Aishwarya          80\n",
      "4   Priyanka          75\n"
     ]
    }
   ],
   "source": [
    "require_cols = [0, 3]\n",
    "\n",
    "# leer las columnas específicas en el excel:\n",
    "required_df = pd.read_excel('./files/SampleExcel.xlsx', usecols = require_cols)\n",
    "\n",
    "print(required_df)"
   ]
  },
  {
   "cell_type": "code",
   "execution_count": 20,
   "id": "be3d184d-442f-480d-89f1-5f0c5a3f044b",
   "metadata": {},
   "outputs": [
    {
     "name": "stdout",
     "output_type": "stream",
     "text": [
      "{'Sheet1':        Name   Age    Stream  Percentage\n",
      "0      Ankit   18      Math          95\n",
      "1      Rahul   19   Science          90\n",
      "2    Shaurya   20  Commerce          85\n",
      "3  Aishwarya   18      Math          80\n",
      "4   Priyanka   19   Science          75, 'Sheet2':       Name   Age    Stream  Percentage\n",
      "0     Priya   18      Math          95\n",
      "1  shivangi   19   Science          90\n",
      "2      Jeet   20  Commerce          85\n",
      "3    Ananya   18      Math          80\n",
      "4   Swapnil   19   Science          75, 'Sheet3':       Name   Age   Stream  Percentage\n",
      "0     Priya   18     Math          95\n",
      "1  shivangi   19  Science          90\n",
      "2      Jeet   20      NaN          85\n",
      "3    Ananya   18     Math          80\n",
      "4   Swapnil   19  Science          75}\n"
     ]
    }
   ],
   "source": [
    "# Leer todas las pestañas del excel\n",
    "all_sheets_df = pd.read_excel('./files/SampleExcel.xlsx', sheet_name = None)\n",
    "\n",
    "print(all_sheets_df)"
   ]
  },
  {
   "cell_type": "markdown",
   "id": "20fe456f-4093-4c15-98ee-c479e06e9d08",
   "metadata": {},
   "source": [
    "* **openpyxl**"
   ]
  },
  {
   "cell_type": "code",
   "execution_count": 21,
   "id": "e56ba464-947f-406a-909b-607e19c4a52f",
   "metadata": {
    "scrolled": true
   },
   "outputs": [
    {
     "name": "stdout",
     "output_type": "stream",
     "text": [
      "Name  Age Stream Percentage \n",
      "\n",
      "Ankit 18.0 Math 95.0 \n",
      "\n",
      "Rahul 19.0 Science 90.0 \n",
      "\n",
      "Shaurya 20.0 Commerce 85.0 \n",
      "\n",
      "Aishwarya 18.0 Math 80.0 \n",
      "\n",
      "Priyanka 19.0 Science 75.0 \n",
      "\n"
     ]
    }
   ],
   "source": [
    "import openpyxl\n",
    "\n",
    "# Define el area de trabajo donde se va a trabajar\n",
    "dataframe = openpyxl.load_workbook('./files/SampleExcel.xlsx')\n",
    "\n",
    "# Activa la hoja de calculo\n",
    "sheet = dataframe.active\n",
    "\n",
    "# Iterate the loop to read the cell values\n",
    "for row in range(0, sheet.max_row):\n",
    "    for col in sheet.iter_cols(1, sheet.max_column):\n",
    "        print(col[row].value, end=\" \")\n",
    "    print(\"\\n\")"
   ]
  },
  {
   "cell_type": "markdown",
   "id": "9b0f7148-d79c-4f6d-b086-4b2f543a0013",
   "metadata": {},
   "source": [
    "Mostrar valores..."
   ]
  },
  {
   "cell_type": "code",
   "execution_count": 22,
   "id": "43b5c464-ebd5-46d5-8e26-b2b7b817e7c7",
   "metadata": {},
   "outputs": [
    {
     "name": "stdout",
     "output_type": "stream",
     "text": [
      "['Name ', 'Age', 'Stream', 'Percentage']\n"
     ]
    }
   ],
   "source": [
    "values = [sheet.cell(row=1,column=i).value for i in range(1, sheet.max_column+1)]\n",
    "print(values)"
   ]
  },
  {
   "cell_type": "code",
   "execution_count": 23,
   "id": "ce96a731-ca2a-4c6f-877e-11d2a93e730a",
   "metadata": {},
   "outputs": [
    {
     "name": "stdout",
     "output_type": "stream",
     "text": [
      "[18.0, 19.0, 20.0]\n"
     ]
    }
   ],
   "source": [
    "data = [sheet.cell(row=i,column=2).value for i in range(2,5)]\n",
    "print(data)"
   ]
  },
  {
   "cell_type": "markdown",
   "id": "563767dc-5902-4e4b-a84b-2e249326413a",
   "metadata": {},
   "source": [
    "Añadir columnas..."
   ]
  },
  {
   "cell_type": "code",
   "execution_count": 24,
   "id": "b0f647b6-d99b-4db4-98fc-6887dcc2d4af",
   "metadata": {},
   "outputs": [],
   "source": [
    "sheet['E1'] = 'Grade'\n",
    "dataframe.save('./files/Sample_1.xlsx')"
   ]
  },
  {
   "cell_type": "code",
   "execution_count": 25,
   "id": "88355bdc-49cd-42ee-9f1e-89422c12067f",
   "metadata": {},
   "outputs": [],
   "source": [
    "sheet.cell(row=1, column=5, value = 'Grades')\n",
    "dataframe.save('./files/Sample_1.xlsx')"
   ]
  },
  {
   "cell_type": "code",
   "execution_count": 26,
   "id": "aaf6b635-e1ac-499d-8bc0-bda56e574416",
   "metadata": {},
   "outputs": [],
   "source": [
    "for i in range(2, 7):\n",
    "    sheet.cell(row=i, column=5).value = i + 1\n",
    "\n",
    "dataframe.save('./files/Sample_1.xlsx')"
   ]
  },
  {
   "cell_type": "markdown",
   "id": "d18e7289-cd84-4c3b-8011-892e153af2ad",
   "metadata": {},
   "source": [
    "Añadir datos dinamicamente..."
   ]
  },
  {
   "cell_type": "code",
   "execution_count": 27,
   "id": "ddb2774f-0091-446e-8bf0-d3168f028354",
   "metadata": {},
   "outputs": [],
   "source": [
    "from openpyxl import Workbook\n",
    "\n",
    "wb = Workbook()\n",
    "sheet = wb.active\n",
    "\n",
    "# Add headers\n",
    "sheet.append([\"Date\", \"Product\", \"Quantity\", \"Price\"])\n",
    "\n",
    "# Add multiple rows of data\n",
    "sales_data = [\n",
    "    [\"2025-04-01\", \"Laptop\", 5, 1200],\n",
    "    [\"2025-04-01\", \"Mouse\", 10, 25],\n",
    "    [\"2025-04-02\", \"Monitor\", 3, 350]\n",
    "]\n",
    "\n",
    "for row in sales_data:\n",
    "    sheet.append(row)\n",
    "\n",
    "wb.save(\"./files/sales_report.xlsx\")"
   ]
  },
  {
   "cell_type": "markdown",
   "id": "c4ad4a6c-572b-416a-a9e7-1886ccddbc6c",
   "metadata": {},
   "source": [
    "Crear y eliminar hojas..."
   ]
  },
  {
   "cell_type": "code",
   "execution_count": 28,
   "id": "4c8c91cc-be6b-4925-b89b-f965a5fa03cb",
   "metadata": {},
   "outputs": [
    {
     "name": "stdout",
     "output_type": "stream",
     "text": [
      "['Summary', 'Data']\n"
     ]
    }
   ],
   "source": [
    "from openpyxl import Workbook\n",
    "\n",
    "wb = Workbook()\n",
    "\n",
    "# Create new sheets\n",
    "wb.create_sheet(\"Data\")\n",
    "wb.create_sheet(\"Summary\", 0)  # Add at the beginning\n",
    "\n",
    "# Remove a sheet\n",
    "wb.remove(wb[\"Sheet\"])  # Remove the default sheet\n",
    "\n",
    "print(wb.sheetnames)  # ['Summary', 'Data']\n",
    "\n",
    "wb.save(\"./files/multiple_sheets.xlsx\")"
   ]
  },
  {
   "cell_type": "code",
   "execution_count": 29,
   "id": "bdb7bbeb-4888-46bf-b232-3628eb6f7b53",
   "metadata": {},
   "outputs": [
    {
     "name": "stdout",
     "output_type": "stream",
     "text": [
      "Summary\n"
     ]
    }
   ],
   "source": [
    "sheet = wb.active # Modifica la ventana activa que es Summary\n",
    "print(sheet.title) # Comprabamos ques estamos en Summary\n",
    "sheet.title = \"Sales Report\"\n",
    "wb.save(\"./files/multiple_sheets.xlsx\")"
   ]
  },
  {
   "cell_type": "markdown",
   "id": "7580bbf1-cb67-42e6-9261-33ee3998d1a4",
   "metadata": {},
   "source": [
    "* **xlsxwriter**"
   ]
  },
  {
   "cell_type": "code",
   "execution_count": 30,
   "id": "8d3f3062-eab6-492a-948c-06f14abf1cc2",
   "metadata": {},
   "outputs": [],
   "source": [
    "# pip install xlsxwriter"
   ]
  },
  {
   "cell_type": "markdown",
   "id": "09b2e3ae-bc0d-418a-ad5f-50c87f4f0114",
   "metadata": {},
   "source": [
    "Creando nuestro primer archivo..."
   ]
  },
  {
   "cell_type": "code",
   "execution_count": 31,
   "id": "806a0c00-5e33-4bfb-95a9-90bf13e69861",
   "metadata": {},
   "outputs": [],
   "source": [
    "import xlsxwriter\n",
    "\n",
    "# Creamos el area de trabajo\n",
    "workbook = xlsxwriter.Workbook(\"./files/sales_report2.xlsx\")\n",
    "worksheet = workbook.add_worksheet()\n",
    "\n",
    "\n",
    "# Añadimos multiples filas\n",
    "expenses = (\n",
    "    [\"Date\", \"Product\", \"Quantity\", \"Price\"],\n",
    "    [\"2025-04-01\", \"Laptop\", 5, 1200],\n",
    "    [\"2025-04-01\", \"Mouse\", 10, 25],\n",
    "    [\"2025-04-02\", \"Monitor\", 3, 350]\n",
    ")\n",
    "\n",
    "\n",
    "# Inicializamos las filas en la posicion 0, 0\n",
    "row = 0\n",
    "col = 0\n",
    "\n",
    "# Iteramos cada una de las filas y le agregamos los valores\n",
    "for date, product, quantity, price in (expenses):\n",
    "    worksheet.write(row, col,     date)\n",
    "    worksheet.write(row, col + 1, product)\n",
    "    worksheet.write(row, col + 2, quantity)\n",
    "    worksheet.write(row, col + 3, price)\n",
    "    row += 1\n",
    "\n",
    "# Realizamos la suma de las columnas de Quantity and Price\n",
    "worksheet.write(row, 0, 'Total')\n",
    "worksheet.write(row, 2, '=SUM(C2:C4)')\n",
    "worksheet.write(row, 3, '=SUM(D2:D4)')\n",
    "\n",
    "workbook.close()"
   ]
  },
  {
   "cell_type": "markdown",
   "id": "ea08cd84-99f5-45c6-b305-cd15cb339c56",
   "metadata": {},
   "source": [
    "Utilizando los métodos write_row() y write_column()..."
   ]
  },
  {
   "cell_type": "code",
   "execution_count": 32,
   "id": "4e87370b-9f15-4ee9-a5d2-01060055d6ff",
   "metadata": {},
   "outputs": [],
   "source": [
    "workbook = xlsxwriter.Workbook(\"./files/sales_report2.xlsx\") \n",
    "worksheet = workbook.add_worksheet() \n",
    " \n",
    "content = [1, 2]\n",
    "\n",
    "worksheet.write_row(0, 1, content)\n",
    "worksheet.write_column(1, 0, content)\n",
    "\n",
    "# Escribir formulas en las celdas que nos quedan A4 y D1\n",
    "worksheet.write_formula('A4', '=SUM(A2, A3)')\n",
    "worksheet.write_formula('D1', '=PRODUCT(B1, C1)')\n",
    "\n",
    "workbook.close()"
   ]
  },
  {
   "cell_type": "code",
   "execution_count": 33,
   "id": "0e488446-c822-49b5-bf72-cb6b4bd0b97c",
   "metadata": {},
   "outputs": [],
   "source": [
    "# Create a new workbook and worksheet\n",
    "workbook = xlsxwriter.Workbook(\"./files/sales_report2.xlsx\")\n",
    "worksheet = workbook.add_worksheet()\n",
    "\n",
    "# Define the data\n",
    "data = [\n",
    "    [1, 2, 3],\n",
    "    [4, 5, 6],\n",
    "    [7, 8, 9],\n",
    "    [10, 11, 12],\n",
    "]\n",
    "\n",
    "# Add the table\n",
    "worksheet.add_table('B2:D5', {'data': data})\n",
    "\n",
    "# Close the workbook\n",
    "workbook.close()"
   ]
  },
  {
   "cell_type": "markdown",
   "id": "bf63954a-e642-4c93-9f4c-6cf732d610f2",
   "metadata": {},
   "source": [
    "*Creado por:*\n",
    "\n",
    "*Isabel Maniega*"
   ]
  }
 ],
 "metadata": {
  "kernelspec": {
   "display_name": "Python 3 (ipykernel)",
   "language": "python",
   "name": "python3"
  },
  "language_info": {
   "codemirror_mode": {
    "name": "ipython",
    "version": 3
   },
   "file_extension": ".py",
   "mimetype": "text/x-python",
   "name": "python",
   "nbconvert_exporter": "python",
   "pygments_lexer": "ipython3",
   "version": "3.12.3"
  }
 },
 "nbformat": 4,
 "nbformat_minor": 5
}
