{
 "cells": [
  {
   "cell_type": "markdown",
   "id": "08ba9410-3f16-455d-9e63-aa568879aa13",
   "metadata": {},
   "source": [
    "*Creado por:*\n",
    "\n",
    "*Isabel Maniega*\n",
    "\n",
    "# Casos prácticos de migración desde SAS\n",
    "\n",
    "El DATA Step en SAS y pandas en Python son herramientas poderosas para el manejo y transformación de datos, pero difieren significativamente en su estructura y enfoque. DATA Step es un entorno de programación completo dentro de SAS, mientras que pandas es una biblioteca de Python. DATA Step se centra en la lectura, escritura y manipulación de datos, mientras que pandas proporciona estructuras de datos optimizadas (como DataFrames) y funciones para análisis exploratorio y manipulación. \n",
    "\n",
    "**Estructuras de Datos:**\n",
    "\n",
    "* **DATA Step:**\n",
    "Utiliza estructuras de datos como datasets (tablas) y variables. El enfoque principal es la manipulación de datos en memoria, con un énfasis en la lectura y escritura de archivos.\n",
    "\n",
    "* **pandas:**\n",
    "La estructura central es el DataFrame, que es una tabla bidimensional con filas y columnas etiquetadas, similar a una hoja de cálculo o tabla SQL. También incluye Series, que son unidimensionales. pandas se destaca por su capacidad para manejar datos heterogéneos (diferentes tipos de datos en la misma tabla) y su facilidad de uso con operaciones como indexado, filtrado y agrupación. \n",
    "\n",
    "**Procesos:**\n",
    "\n",
    "* **DATA Step:**\n",
    "Es un entorno de programación que implica un ciclo de lectura, procesamiento y escritura de datos. Ofrece una variedad de funciones para transformación, cálculo y manipulación de datos.\n",
    "\n",
    "* **pandas:**\n",
    "Se basa en funciones y métodos aplicables a objetos DataFrame y Series. Ofrece una sintaxis más intuitiva y flexible para manipulación de datos, incluyendo funciones para limpieza, transformación, agregación, y análisis exploratorio.\n",
    "\n",
    "\n",
    "**Comparación detallada:**\n",
    "|   Característica   |               DATA Step               |        pandas       |\n",
    "|--------------------|---------------------------------------|---------------------|\n",
    "|      Entorno       | SAS (lenguaje y entorno completo)     | Biblioteca de Python|\n",
    "| Estructura de datos| Datasets, variables                   | DataFrame, Series   |\n",
    "| Enfoque principal  | Lectura, escritura, manipulación de datos| Análisis exploratorio, manipulación de datos, transformación|\n",
    "| Flexibilidad       | Mayor control, pero puede ser más verboso |Mayor flexibilidad y sintaxis más intuitiva |\n",
    "| Velocidad          | Puede ser más rápido en ciertas operaciones con archivos grandes | Puede ser más rápido en operaciones complejas con datos en memoria, pero puede verse limitado por la memoria RAM|\n",
    "| Facilidad de uso   | Curva de aprendizaje más pronunciada  | Curva de aprendizaje más suave para usuarios familiarizados con Python|\n",
    "| Comunidad y soporte| Amplia comunidad SAS, documentación extensa |Amplia comunidad Python, gran variedad de recursos y tutoriales |\n",
    "\n",
    "**En resumen:**\n",
    "\n",
    "* Si ya estás trabajando en el entorno SAS, DATA Step es una opción natural.\n",
    "* Si buscas una herramienta flexible y potente para manipulación y análisis de datos en Python, pandas es una excelente elección.\n",
    "* pandas destaca por su facilidad de uso, velocidad en ciertas operaciones y una sintaxis más intuitiva, especialmente para usuarios familiarizados con Python. \n",
    "* DATA Step ofrece mayor control sobre el proceso de lectura y escritura de datos, especialmente con archivos grandes, y es una opción robusta dentro de SAS.\n",
    "\n",
    "*Creado por:*\n",
    "\n",
    "*Isabel Maniega*"
   ]
  }
 ],
 "metadata": {
  "kernelspec": {
   "display_name": "Python 3 (ipykernel)",
   "language": "python",
   "name": "python3"
  },
  "language_info": {
   "codemirror_mode": {
    "name": "ipython",
    "version": 3
   },
   "file_extension": ".py",
   "mimetype": "text/x-python",
   "name": "python",
   "nbconvert_exporter": "python",
   "pygments_lexer": "ipython3",
   "version": "3.12.3"
  }
 },
 "nbformat": 4,
 "nbformat_minor": 5
}
