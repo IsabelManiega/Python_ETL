{
 "cells": [
  {
   "cell_type": "markdown",
   "id": "84c53317-e71b-4381-a5fa-ded168fb44ff",
   "metadata": {},
   "source": [
    "*Creado por:*\n",
    "\n",
    "*Isabel Maniega*"
   ]
  },
  {
   "cell_type": "markdown",
   "id": "6ba9bca2-54d0-4771-8a27-22d06184d47b",
   "metadata": {},
   "source": [
    "## Ejecutar comandos SQL fundamentales para crear, leer, actualizar y eliminar datos en tablas de bases de datos. Establecer conexiones a bases de datos usando Python."
   ]
  },
  {
   "cell_type": "markdown",
   "id": "d5b170ef-e81d-4b99-a3ad-3ecbb0cbf426",
   "metadata": {},
   "source": [
    "## SQLAlchemy\n",
    "\n",
    "**¿Qué es una base de datos?**\n",
    "\n",
    "Hoy en día, las aplicaciones sociales como Facebook, Twitter e Instagram son muy populares. Cada día, muchas personas crean nuevas cuentas y los usuarios existentes agregan o comparten diferentes contenidos. Seguramente habrás notado que los datos enviados a esas aplicaciones siguen estando disponibles después de unos días o incluso años. ¿Sabes cómo es posible?\n",
    "\n",
    "Los datos son simplemente información sobre los usuarios, el contenido de sus publicaciones y comentarios. Los datos son todo tipo de información que podemos enviar a la aplicación. Durante el registro, envías a la aplicación los datos de tu cuenta, que consisten en la dirección de correo electrónico, el nombre de usuario y la contraseña, y cuando agregas nuevas publicaciones envías contenido que será visible para otros usuarios. Los datos enviados deben guardarse en algún lugar al que se pueda acceder fácilmente. Este lugar es una base de datos, que es un conjunto de información almacenada en un disco en un sistema informático. El acceso a la base de datos es posible gracias a un sistema de gestión de bases de datos.\n",
    "\n",
    "El sistema de gestión de bases de datos (DBMS) es el software responsable de:\n",
    "\n",
    "- crear una estructura de base de datos;\n",
    "- insertar, actualizar, eliminar y buscar datos;\n",
    "- garantizar la seguridad de los datos;\n",
    "- gestión de transacciones;\n",
    "- garantizar el acceso simultáneo a los datos para muchos usuarios;\n",
    "- permitir el intercambio de datos con otros sistemas de bases de datos.\n",
    "\n",
    "Existen muchos sistemas de gestión de bases de datos gratuitos y pagos en el mercado. Los más populares son:\n",
    "\n",
    "| Gratuitos | Pagos |\n",
    "| ------------------------ | ---------------------------------------------- |\n",
    "| MySQL, PostgreSQL, SQLite| Oracle Database, Microsoft SQL Server, IBM DB2 |\n",
    "\n",
    "Más adelante en este curso, nos centraremos principalmente en el sistema SQLite. Lo utilizarás para crear tu primera aplicación de base de datos Python. ¿Estás listo? ¡Vamos!\n",
    "\n",
    "**¿Qué es SQLAlchemy y por qué deberías usarlo?**\n",
    "\n",
    "SQLAlchemy es el conjunto de herramientas SQL de Python que permite a los desarrolladores acceder y gestionar bases de datos SQL con el lenguaje de dominio Python. Puedes escribir una consulta en forma de cadena o encadenar objetos Python para consultas similares. Trabajar con objetos proporciona flexibilidad a los desarrolladores y les permite crear aplicaciones de alto rendimiento basadas en SQL. \n",
    "\n",
    "En palabras sencillas, permite a los usuarios conectar bases de datos utilizando lenguaje Python, ejecutar consultas SQL mediante programación basada en objetos y agilizar el flujo de trabajo. \n",
    "\n",
    "**Cómo trabajar con una base de datos SQLAlchemy usando Python**\n",
    "\n",
    "Es bastante fácil instalar el paquete y empezar a codificar. \n",
    "\n",
    "Puedes instalar SQLAlchemy con el gestor de paquetes de Python (pip):\n",
    "\n",
    "```\n",
    "pip install sqlalchemy\n",
    "```\n",
    "\n",
    "**sqlalchemy – creación de una base de datos**\n",
    "\n",
    "La base de datos SQLAlchemy se guarda en un único archivo. Cada archivo, independientemente del sistema operativo utilizado, tiene su ubicación (una ruta a un espacio de disco específico). Cuando creas una base de datos, puedes crearla en tu directorio de trabajo actual o en cualquier otra ubicación. Para crear una base de datos, utiliza el método ```create_engine``` que proporciona ```sqlite``` creando la base de datos en el archivo database.db:\n",
    "\n",
    "```\n",
    "from sqlalchemy as db\n",
    "\n",
    "engine = db.create_engine(\"sqlite:///database.db\")\n",
    "\n",
    "conn = engine.connect() \n",
    "```\n",
    "\n",
    "El método ```connect``` devuelve la representación de la base de datos como un objeto ```Connection```. En el ejemplo anterior, el método solo toma el nombre de la base de datos como argumento. Esto significa que la base de datos se creará en el mismo directorio que el script que desea acceder a ella. \n",
    "\n",
    "Recuerda que el método ```connect``` crea una base de datos solo si no puede encontrar una base de datos en la ubicación indicada. Si existe una base de datos, SQLite se conecta a ella.\n",
    "\n",
    "**Algunas palabras sobre SQL**\n",
    "\n",
    "Ya has aprendido a crear una base de datos en Python usando el módulo ```sqlalchemy```. Ahora es el momento de analizar cómo podemos crear su estructura. Para ello, necesitaremos algunos conocimientos de SQL.\n",
    "\n",
    "SQL es un **lenguaje de consulta estructurado** para crear, modificar y gestionar bases de datos relacionales. Lo utilizan los sistemas de gestión de bases de datos más populares, como MySQL, PostgreSQL y nuestro favorito SQLite. El lenguaje SQL fue desarrollado en los años 70 por IBM. A lo largo de los años, SQL ha sido modificado por muchas empresas que lo han implementado en sus productos. Por lo tanto, se hizo necesario introducir un estándar que estandarizara su sintaxis.\n",
    "\n",
    "**sqlalchemy – creación de tablas**\n",
    "\n",
    "En primer lugar, crearemos una nueva base de datos llamada \"database.db\". create_engine creará una nueva base de datos automáticamente si no existe ninguna base de datos con el mismo nombre. Por tanto, crear y conectar son bastante similares.\n",
    "\n",
    "A continuación, conectaremos la base de datos y crearemos un objeto de metadatos. \n",
    "\n",
    "Utilizaremos la función Tabla de SQLAlchmy para crear una tabla llamada \"Task\".\n",
    "\n",
    "Consta de columnas:\n",
    "\n",
    "* Id: Entero y clave principal\n",
    "* name: Cadena y no anulable \n",
    "* priority: Entero y no anulable \n",
    "  \n",
    "Hemos creado la estructura de la tabla. Vamos a añadirlo a la base de datos utilizando `metadata.create_all(engine)`.\n",
    "\n",
    "```\n",
    "engine = db.create_engine('sqlite:///database.db')\n",
    "conn = engine.connect()\n",
    "metadata = db.MetaData()\n",
    "\n",
    "Student = db.Table('Task', metadata,\n",
    "              db.Column('Id', db.Integer(),primary_key=True),\n",
    "              db.Column('name', db.String(255), nullable=False),\n",
    "              db.Column('priority', db.Integer(), nullable=False),\n",
    "              )\n",
    "\n",
    "metadata.create_all(engine)\n",
    "```\n",
    "\n",
    "**sqlalchemy – inserción de datos**\n",
    "\n",
    "Para insertar una línea utilizaremos `Text` para poder pasar el comando SQL para insertar un dato, en la tabla, con ayuda de `execute` ejecutaremos el comando en la base de datos, la estructura `with` gestiona automáticamente el cierre de la base de datos:\n",
    "  \n",
    "```\n",
    "from sqlalchemy import text\n",
    "\n",
    "with engine.connect() as conn:\n",
    "\n",
    "    rs = conn.execute(text(\"INSERT INTO Task (name, priority) VALUES ('My first task', 1)\"))\n",
    "\n",
    "    conn.commit()\n",
    "```"
   ]
  },
  {
   "cell_type": "code",
   "execution_count": 1,
   "id": "63b3eec0-77cd-4e80-b9b4-f49a3f1f1078",
   "metadata": {},
   "outputs": [],
   "source": [
    "# pip install sqlalchemy"
   ]
  },
  {
   "cell_type": "code",
   "execution_count": 1,
   "id": "5e17af02-68a8-4ce6-b838-03f6ad65646f",
   "metadata": {},
   "outputs": [],
   "source": [
    "import sqlalchemy as db\n",
    "\n",
    "engine = db.create_engine('sqlite:///./files/database.db')\n",
    "conn = engine.connect()\n",
    "metadata = db.MetaData()\n",
    "\n",
    "Task = db.Table('Task', metadata,\n",
    "              db.Column('Id', db.Integer(),primary_key=True),\n",
    "              db.Column('name', db.String(255), nullable=False),\n",
    "              db.Column('priority', db.Integer(), nullable=False),\n",
    "              )\n",
    "\n",
    "metadata.create_all(engine)"
   ]
  },
  {
   "cell_type": "markdown",
   "id": "3d74ceec-e5f1-451b-b3a2-9b66d4b3e8e9",
   "metadata": {},
   "source": [
    "********"
   ]
  },
  {
   "cell_type": "markdown",
   "id": "4c8b716c-13de-47f6-914f-57a18aa5edd6",
   "metadata": {},
   "source": [
    "**sqlalchemy – el método ```execute()```**\n",
    "\n",
    "Realizar muchas consultas no es muy eficiente cuando podemos utilizar solo una que realice la misma tarea. Imagine una situación en la que desea agregar tres tareas a la base de datos. Si utilizamos el método de ejecución, tendríamos que realizar tres consultas independientes.\n",
    "\n",
    "Esta no es una buena práctica. Afortunadamente, el objeto Cursor nos ofrece un método llamado ```execute```. Observe el código en el editor.\n",
    "\n",
    "El método ```execute``` le permite insertar varios registros a la vez. Como argumento, acepta una sentencia SQL y una matriz que contiene cualquier número de diccionarios."
   ]
  },
  {
   "cell_type": "code",
   "execution_count": 2,
   "id": "9b13bac2-0212-49c7-b22b-d229bc02f02a",
   "metadata": {},
   "outputs": [],
   "source": [
    "query = db.insert(Task)\n",
    "values_list = [{\"name\": 'My first task', \"priority\": 1},\n",
    "               {\"name\": 'My second task', \"priority\": 5},\n",
    "               {\"name\": 'My third task', \"priority\": 10},]\n",
    "Result = conn.execute(query,values_list)\n",
    "conn.commit()\n",
    "conn.close()"
   ]
  },
  {
   "cell_type": "markdown",
   "id": "60c5f3a3-3942-4d37-8316-9114dde0d326",
   "metadata": {},
   "source": [
    "**sqlalchemy – lectura de datos**\n",
    "\n",
    "Hasta ahora, no hemos mostrado ninguna información en la pantalla sobre las tareas insertadas. Es hora de cambiar eso. Veamos qué hay en nuestra base de datos. Primero necesitaremos la sentencia SQL adecuada, llamada ```SELECT```.\n",
    "\n",
    "La sentencia ```SELECT``` permite leer datos de una o más tablas. Su sintaxis es la siguiente:\n",
    "```\n",
    "SELECT column FROM table_name;\n",
    "```\n",
    "o\n",
    "```\n",
    "SELECT column1, column2, column3, …, columnN FROM table_name;\n",
    "```\n",
    "o\n",
    "```\n",
    "SELECT * FROM table_name;\n",
    "```\n",
    "\n",
    "En la primera variante, decidimos leer los valores guardados en una sola columna. Si quisiéramos leer únicamente los nombres de las tareas guardadas en la tabla de tareas, podríamos utilizar la siguiente consulta:\n",
    "```\n",
    "SELECT name FROM tasks;\n",
    "```\n",
    "La segunda variante permite leer valores de más columnas. Si queremos leer los nombres de las tareas y sus prioridades, podemos utilizar la siguiente consulta:\n",
    "```\n",
    "SELECT name, priority FROM tasks;\n",
    "```\n",
    "Si no tenemos ningún requisito específico, podemos leer los valores de todas las columnas:\n",
    "```\n",
    "SELECT * FROM tasks;\n",
    "```\n",
    "La última variante mostrará los valores guardados en las columnas id, name y priority.\n",
    "\n",
    "**sqlalchemy – lectura de datos**\n",
    "\n",
    "Probablemente no te sorprenda saber que la lectura de datos guardados en la base de datos se realiza con el conocido objeto ```execute```. Después de llamar al método de ejecución con la instrucción ```SELECT``` adecuada, el objeto ```rs``` se trata como un iterador. Observa el código en el editor.\n",
    "\n",
    "Resultado:\n",
    "```\n",
    "(1, 'My first task', 1)\n",
    "(2, 'My second task', 5)\n",
    "(3, 'My third task', 10)\n",
    "```\n",
    "La variable fila en cada iteración toma una fila en forma de tupla. El acceso a las columnas individuales se realiza mediante un índice, por ejemplo, print (row [0]) mostrará los valores guardados en la columna id."
   ]
  },
  {
   "cell_type": "code",
   "execution_count": 3,
   "id": "4dc46b63-5851-468d-a030-e7d6f1ba1e94",
   "metadata": {},
   "outputs": [
    {
     "name": "stdout",
     "output_type": "stream",
     "text": [
      "(1, 'My first task', 1)\n",
      "(2, 'My second task', 5)\n",
      "(3, 'My third task', 10)\n"
     ]
    }
   ],
   "source": [
    "from sqlalchemy import text\n",
    "\n",
    "with engine.connect() as conn:\n",
    "\n",
    "    rs = conn.execute(text('SELECT * FROM Task'))\n",
    "\n",
    "    for row in rs:\n",
    "        print(row)"
   ]
  },
  {
   "cell_type": "markdown",
   "id": "d16e07b1-06ab-4144-b953-c9e3f9b71177",
   "metadata": {},
   "source": [
    "**sqlalchemy – lectura de datos**\n",
    "\n",
    "Si no desea tratar el objeto ```rs``` como un iterador, puede utilizar su método llamado ```fetchall```. El método ```fetchall``` recupera todos los registros (aquellos que aún no se han recuperado del resultado de la consulta). Observe el código en el editor.\n",
    "\n",
    "Resultado:\n",
    "```\n",
    "(1, 'My first task', 1)\n",
    "(2, 'My second task', 5)\n",
    "(3, 'My third task', 10)\n",
    "```\n",
    "El método ```fetchall``` es menos eficiente que el iterador, porque lee todos los registros en la memoria y luego devuelve una lista de tuplas. Para pequeñas cantidades de datos, no importa, pero si su tabla contiene una gran cantidad de registros, esto puede causar problemas de memoria.\n",
    "\n",
    "NOTA: El método ```fetchall``` devuelve una lista vacía cuando no hay filas disponibles."
   ]
  },
  {
   "cell_type": "code",
   "execution_count": 4,
   "id": "99583a9d-4d55-46a0-ab9e-431939339b30",
   "metadata": {},
   "outputs": [
    {
     "name": "stdout",
     "output_type": "stream",
     "text": [
      "(1, 'My first task', 1)\n",
      "(2, 'My second task', 5)\n",
      "(3, 'My third task', 10)\n"
     ]
    }
   ],
   "source": [
    "with engine.connect() as conn:\n",
    "\n",
    "    rs = conn.execute(text('SELECT * FROM Task'))\n",
    "    rows = rs.fetchall()\n",
    "    for row in rows:\n",
    "        print(row)"
   ]
  },
  {
   "cell_type": "markdown",
   "id": "33e1c71e-4c5a-4a54-909d-72e89e118589",
   "metadata": {},
   "source": [
    "Otra forma de mostrar los datos es usar el método `select()` que viene incorporado con el sqlalchemy:"
   ]
  },
  {
   "cell_type": "code",
   "execution_count": 5,
   "id": "febdcda6-82b0-41f1-aee7-babef4a8b00d",
   "metadata": {},
   "outputs": [
    {
     "name": "stdout",
     "output_type": "stream",
     "text": [
      "[(1, 'My first task', 1), (2, 'My second task', 5), (3, 'My third task', 10)]\n"
     ]
    }
   ],
   "source": [
    "with engine.connect() as conn:\n",
    "    query = Task.select()\n",
    "    output = conn.execute(query)\n",
    "    print(output.fetchall())"
   ]
  },
  {
   "cell_type": "markdown",
   "id": "a903f441-6d8f-450b-a74a-54cb53f9da62",
   "metadata": {},
   "source": [
    "**sqlalchemy – lectura de datos**\n",
    "\n",
    "Además del iterador y el método ```fetchall```, el objeto ```rs``` proporciona un método muy útil llamado ```fetchone``` para recuperar el siguiente registro disponible. Observa el código en el editor.\n",
    "\n",
    "Resultado:\n",
    "```\n",
    "(1, 'My first task', 1)\n",
    "(2, 'My second task', 5)\n",
    "```\n",
    "NOTA: El método ```fetchone``` devuelve None si no hay datos para leer."
   ]
  },
  {
   "cell_type": "code",
   "execution_count": 6,
   "id": "76ac224f-3f75-486e-931c-17eee77dfe4d",
   "metadata": {},
   "outputs": [
    {
     "name": "stdout",
     "output_type": "stream",
     "text": [
      "(1, 'My first task', 1)\n",
      "(2, 'My second task', 5)\n"
     ]
    }
   ],
   "source": [
    "with engine.connect() as conn:\n",
    "\n",
    "    rs = conn.execute(text('SELECT * FROM Task'))\n",
    "    row = rs.fetchone()\n",
    "    print(row)\n",
    "    row = rs.fetchone()\n",
    "    print(row)"
   ]
  },
  {
   "cell_type": "markdown",
   "id": "a7cafa16-bce5-4520-a90f-6161ef785ddb",
   "metadata": {},
   "source": [
    "**sqlalchemy  – actualización de datos**\n",
    "\n",
    "Cada una de las tareas creadas tiene su propia prioridad, pero ¿qué pasa si decidimos que una de ellas debe realizarse antes que las demás? ¿Cómo podemos aumentar su prioridad? Tenemos que utilizar la sentencia SQL llamada ```UPDATE```.\n",
    "\n",
    "La sentencia ```UPDATE``` se utiliza para modificar registros existentes en la base de datos. Su sintaxis es la siguiente:\n",
    "```\n",
    "UPDATE table_name\n",
    "SET column1 = value1, column2 = value2, column3 = value3, …, columnN = valueN\n",
    "WHERE condition;\n",
    "```\n",
    "Si queremos establecer la prioridad en 20 para una tarea con ideigual a 1, podemos utilizar la siguiente consulta:\n",
    "```\n",
    "UPDATE Task SET priority = 20 WHERE id = 1;\n",
    "```\n",
    "NOTA: Si olvida la cláusula ```WHERE```, se actualizarán todos los datos de la tabla.\n",
    "\n",
    "Como antes, ejecutamos todas las sentencias SQL utilizando el método de ejecución. Observe el código en el editor."
   ]
  },
  {
   "cell_type": "code",
   "execution_count": 6,
   "id": "8047cd20-bd9d-4efb-9a09-33b86b77b07b",
   "metadata": {},
   "outputs": [
    {
     "name": "stdout",
     "output_type": "stream",
     "text": [
      "(1, 'My first task', 20)\n"
     ]
    }
   ],
   "source": [
    "with engine.connect() as conn:\n",
    "\n",
    "    rs = conn.execute(text('UPDATE Task SET priority = 20 WHERE id = 1'))\n",
    "    row = conn.execute(Task.select()).fetchone()\n",
    "    print(row)\n",
    "    conn.commit()"
   ]
  },
  {
   "cell_type": "markdown",
   "id": "2ff8236a-8e9f-4229-b8e1-ebbf3641fa62",
   "metadata": {},
   "source": [
    "Otra forma es usar el método `update()`:\n",
    "```\n",
    "with engine.connect() as conn:\n",
    "    \n",
    "    query = Task.update().where(Task.columns.Id == 1).values(priority=20)\n",
    "    output = conn.execute(query)\n",
    "```"
   ]
  },
  {
   "cell_type": "markdown",
   "id": "4efd199f-1d59-4c4a-9551-75500112b162",
   "metadata": {},
   "source": [
    "**sqlalchemy  – eliminación de datos**\n",
    "\n",
    "Luego de completar una tarea, queremos eliminarla de nuestra base de datos. Para ello, debemos utilizar la sentencia SQL denominada ```DELETE```:\n",
    "```\n",
    "DELETE FROM table_name WHERE condition;\n",
    "```\n",
    "Veamos cómo se vería eliminar la tarea con ```id = 1```:\n",
    "```\n",
    "DELETE FROM Task WHERE id = 1;\n",
    "```\n",
    "NOTA: Si olvida la cláusula ```WHERE```, se eliminarán todos los datos de la tabla."
   ]
  },
  {
   "cell_type": "code",
   "execution_count": 4,
   "id": "481b3234-4047-448e-9ce6-872695c60dab",
   "metadata": {},
   "outputs": [
    {
     "name": "stdout",
     "output_type": "stream",
     "text": [
      "(2, 'My second task', 5)\n"
     ]
    }
   ],
   "source": [
    "with engine.connect() as conn:\n",
    "\n",
    "    rs = conn.execute(text('DELETE FROM Task WHERE id = 1'))\n",
    "    row = conn.execute(Task.select()).fetchone()\n",
    "    print(row)\n",
    "    conn.commit()"
   ]
  },
  {
   "cell_type": "markdown",
   "id": "37f1ac44-c27b-4c8a-8c18-3b3b28b11dcc",
   "metadata": {},
   "source": [
    "Otra forma es usar el método `delete()`:\n",
    "```\n",
    "with engine.connect() as conn:\n",
    "    \n",
    "    query = Task.delete().where(Task.columns.Id == 1)\n",
    "    output = conn.execute(query)\n",
    "```"
   ]
  },
  {
   "cell_type": "markdown",
   "id": "a061fb88-6bf1-4d47-97da-95f0f98098b9",
   "metadata": {},
   "source": [
    "**Excepciones sqlalchemy**\n",
    "\n",
    "La jerarquía de excepciones está definida por DB-API 2.0 (PEP 249).\n",
    "\n",
    "\n",
    "*exception sqlalchemy.InterfaceError*\n",
    "\n",
    "Se genera una excepción para errores que están relacionados con la interfaz de la base de datos en lugar de con la base de datos en sí.\n",
    "\n",
    "*exception sqlalchemy.DatabaseError*\n",
    "\n",
    "Excepción generada para errores relacionados con la base de datos. Sirve como excepción base para varios tipos de errores de base de datos. Solo se genera de forma implícita a través de las subclases especializadas. DatabaseError es una subclase de Error.\n",
    "\n",
    "*exception sqlalchemy.DataError*\n",
    "\n",
    "Excepción generada para errores causados por problemas con los datos procesados, como valores numéricos fuera de rango y cadenas demasiado largas. DataError es una subclase de DatabaseError.\n",
    "\n",
    "*exception sqlalchemy.OperationalError*\n",
    "\n",
    "Excepción generada para errores relacionados con el funcionamiento de la base de datos y no necesariamente bajo el control del programador. Por ejemplo, no se encuentra la ruta de la base de datos o no se pudo procesar una transacción. OperationalError es una subclase de DatabaseError.\n",
    "\n",
    "*exception sqlalchemy.IntegrityError*\n",
    "\n",
    "Excepción generada cuando se afecta la integridad relacional de la base de datos, p. ej. Se produce un error en la comprobación de una clave externa. Es una subclase de DatabaseError.\n",
    "\n",
    "*exception sqlalchemy.InternalError*\n",
    "\n",
    "Se genera una excepción cuando SQLite encuentra un error interno. Si se genera, puede indicar que hay un problema con la biblioteca SQLite en tiempo de ejecución. InternalError es una subclase de DatabaseError.\n",
    "\n",
    "*exception sqlalchemy.ProgrammingError*\n",
    "\n",
    "Excepción generada por errores de programación de la API de sqlite3, por ejemplo, proporcionar la cantidad incorrecta de enlaces a una consulta o intentar operar en una conexión cerrada. ProgrammingError es una subclase de DatabaseError.\n",
    "\n",
    "*exception sqlalchemy.NotSupportedError*\n",
    "\n",
    "Excepción generada en caso de que la biblioteca SQLite subyacente no admita un método o una API de base de datos. Por ejemplo, establecer deterministic en True en create_function(), si la biblioteca SQLite subyacente no admite funciones deterministas. NotSupportedError es una subclase de DatabaseError."
   ]
  },
  {
   "cell_type": "code",
   "execution_count": 7,
   "id": "fa0307d1-b295-4009-9a4d-7d37469fbe5c",
   "metadata": {},
   "outputs": [],
   "source": [
    "import sqlalchemy as db\n",
    "from sqlalchemy import exc\n",
    "\n",
    "engine = db.create_engine('sqlite:///./files/database.db')\n",
    "conn = engine.connect()\n",
    "try:\n",
    "    metadata = db.MetaData()\n",
    "    \n",
    "    Task = db.Table('Task', metadata,\n",
    "                  db.Column('Id', db.Integer(),primary_key=True),\n",
    "                  db.Column('name', db.String(255), nullable=False),\n",
    "                  db.Column('priority', db.Integer(), nullable=False),\n",
    "                  )\n",
    "    \n",
    "    metadata.create_all(engine)\n",
    "except exc.OperationalError as e:\n",
    "    # si ocurre un error al crear la tabla nos mostrará el siguiente error:\n",
    "    print(str(e))                    \n",
    "conn.close()"
   ]
  },
  {
   "cell_type": "markdown",
   "id": "3dbeec0c-8aeb-4914-8308-6dced81af6f0",
   "metadata": {},
   "source": [
    "## pyodbc\n",
    "\n",
    "`pyodbc` es una biblioteca de Python que permite a los programas Python interactuar con bases de datos mediante ODBC (Open Database Connectivity), una API estándar para acceder a sistemas de gestión de bases de datos (SGBD). Proporciona una forma potente y eficiente de ejecutar consultas SQL, recuperar resultados y realizar otras operaciones con bases de datos."
   ]
  },
  {
   "cell_type": "code",
   "execution_count": 2,
   "id": "db2b9786-cf52-404e-87d0-90accc8d6348",
   "metadata": {},
   "outputs": [],
   "source": [
    "# pip install pyodbc"
   ]
  },
  {
   "cell_type": "markdown",
   "id": "c1508883-a6a0-4f0d-9405-43e45e716ded",
   "metadata": {},
   "source": [
    "**Crear la base de datos**\n",
    "\n",
    "En linux es necesario instalar:\n",
    "```\n",
    "sudo apt install libsqliteodbc\n",
    "sudo apt install libodbc2\n",
    "```\n",
    "\n",
    "Para este caso usaremos tambien como conector a una base de datos tipo SQLite, donde se lo indicaremos en el método `connect()`:"
   ]
  },
  {
   "cell_type": "code",
   "execution_count": 19,
   "id": "ccecdb14-4319-492a-a25f-a02f48a1ad38",
   "metadata": {},
   "outputs": [],
   "source": [
    "import pyodbc\n",
    "\n",
    "conn = pyodbc.connect(\"Driver=SQLite3;Database=./files/database.db\")\n",
    "c = conn.cursor()\n",
    "try:\n",
    "    c.execute('''CREATE TABLE IF NOT EXISTS tasks (\n",
    "    id INTEGER PRIMARY KEY,\n",
    "    name TEXT NOT NULL,\n",
    "    priority INTEGER NOT NULL\n",
    "    );''')\n",
    "# también incluye las excepciones:\n",
    "except pyodbc.Error as ex:\n",
    "  print(\"An error occurred:\", ex)\n",
    "conn.commit()\n",
    "conn.close()"
   ]
  },
  {
   "cell_type": "markdown",
   "id": "0d1b522e-936b-4c6d-b012-5ba1fff7cdc7",
   "metadata": {},
   "source": [
    "**Insertar los datos**\n",
    "\n",
    "Para insertar varios datos en la tabla usamos `executemany()`:"
   ]
  },
  {
   "cell_type": "code",
   "execution_count": 9,
   "id": "9f246f08-778b-47f2-a06e-46e7f04b0352",
   "metadata": {},
   "outputs": [],
   "source": [
    "conn = pyodbc.connect(\"Driver=SQLite3;Database=./files/database.db\")\n",
    "c = conn.cursor()\n",
    "tasks = [\n",
    "    ('My first task', 1),\n",
    "    ('My second task', 5),\n",
    "    ('My third task', 10),\n",
    "]\n",
    "c.executemany('INSERT INTO tasks (name, priority) VALUES (?,?)', tasks)\n",
    "conn.commit()\n",
    "conn.close()"
   ]
  },
  {
   "cell_type": "markdown",
   "id": "cb1ce4fb-2781-4991-a66c-69bce3be3794",
   "metadata": {},
   "source": [
    "**Leer los datos**"
   ]
  },
  {
   "cell_type": "code",
   "execution_count": 11,
   "id": "aa5d4b90-e5fa-4584-93b4-abd9228d5264",
   "metadata": {},
   "outputs": [
    {
     "name": "stdout",
     "output_type": "stream",
     "text": [
      "(1, 'My first task', 1)\n",
      "(2, 'My second task', 5)\n",
      "(3, 'My third task', 10)\n"
     ]
    }
   ],
   "source": [
    "conn = pyodbc.connect(\"Driver=SQLite3;Database=./files/database.db\")\n",
    "c = conn.cursor()\n",
    "for row in c.execute('SELECT * FROM tasks'):\n",
    "    print(row)\n",
    "conn.close()"
   ]
  },
  {
   "cell_type": "markdown",
   "id": "0de3a40f-c82c-405c-942f-6f9ac7e22baa",
   "metadata": {},
   "source": [
    "También posee el método `fetchall` para leer todos los datos que tenemos como un único objeto:"
   ]
  },
  {
   "cell_type": "code",
   "execution_count": 12,
   "id": "8fab004e-8164-4d0e-98b3-48bf35eff763",
   "metadata": {},
   "outputs": [
    {
     "name": "stdout",
     "output_type": "stream",
     "text": [
      "(1, 'My first task', 1)\n",
      "(2, 'My second task', 5)\n",
      "(3, 'My third task', 10)\n"
     ]
    }
   ],
   "source": [
    "conn = pyodbc.connect(\"Driver=SQLite3;Database=./files/database.db\")\n",
    "c = conn.cursor()\n",
    "c.execute('SELECT * FROM tasks')\n",
    "rows = c.fetchall()\n",
    "for row in rows:\n",
    "    print(row)\n",
    "conn.close()"
   ]
  },
  {
   "cell_type": "markdown",
   "id": "2dfbfd2b-8014-472c-9bd6-58955c4d799f",
   "metadata": {},
   "source": [
    "De igual modo tenemos el método `fetchone` para leer dato a dato:"
   ]
  },
  {
   "cell_type": "code",
   "execution_count": 13,
   "id": "8e271b82-8d00-49b7-a086-a75475d70a1c",
   "metadata": {},
   "outputs": [
    {
     "name": "stdout",
     "output_type": "stream",
     "text": [
      "(1, 'My first task', 1)\n",
      "(2, 'My second task', 5)\n"
     ]
    }
   ],
   "source": [
    "conn = pyodbc.connect(\"Driver=SQLite3;Database=./files/database.db\")\n",
    "c = conn.cursor()\n",
    "c.execute('SELECT * FROM tasks')\n",
    "row = c.fetchone()\n",
    "print(row)\n",
    "row = c.fetchone()\n",
    "print(row)\n",
    "conn.close()"
   ]
  },
  {
   "cell_type": "markdown",
   "id": "2f36f1ed-4d87-40ab-acaf-97d6cb5c751f",
   "metadata": {},
   "source": [
    "**Actualizar los datos**"
   ]
  },
  {
   "cell_type": "code",
   "execution_count": 16,
   "id": "80a7cc90-ac20-4d86-bd29-f7df04a8807d",
   "metadata": {},
   "outputs": [
    {
     "name": "stdout",
     "output_type": "stream",
     "text": [
      "(1, 'My first task', 20)\n"
     ]
    }
   ],
   "source": [
    "conn = pyodbc.connect(\"Driver=SQLite3;Database=./files/database.db\")\n",
    "c = conn.cursor()\n",
    "c.execute('UPDATE tasks SET priority = ? WHERE id = ?', (20, 1))\n",
    "row = c.execute('SELECT * FROM tasks').fetchone()\n",
    "print(row)\n",
    "conn.commit()\n",
    "conn.close()"
   ]
  },
  {
   "cell_type": "markdown",
   "id": "0b14a9e7-3f85-425d-ae02-753389e82c60",
   "metadata": {},
   "source": [
    "**Eliminación de los datos**"
   ]
  },
  {
   "cell_type": "code",
   "execution_count": 17,
   "id": "5068d07f-ca21-4e0e-8bf4-8c1b9cfd4d38",
   "metadata": {},
   "outputs": [
    {
     "name": "stdout",
     "output_type": "stream",
     "text": [
      "(2, 'My second task', 5)\n"
     ]
    }
   ],
   "source": [
    "conn = pyodbc.connect(\"Driver=SQLite3;Database=./files/database.db\")\n",
    "c = conn.cursor()\n",
    "c.execute('DELETE FROM tasks WHERE id = ?', (1,))\n",
    "row = c.execute('SELECT * FROM tasks').fetchone()\n",
    "print(row)\n",
    "conn.commit()\n",
    "conn.close()"
   ]
  },
  {
   "cell_type": "markdown",
   "id": "2326544d-1cdb-4328-a01d-5a1466b16ba7",
   "metadata": {},
   "source": [
    "## Pandas\n",
    "\n",
    "La librería pandas posee el método `read_sql()` para realizar la conexion a la base de datos usando comandos SQL.\n",
    "\n",
    "**Conexión a la base de datos**"
   ]
  },
  {
   "cell_type": "code",
   "execution_count": 28,
   "id": "cfe8e7ba-4d20-465a-90ca-3b94ddef2fce",
   "metadata": {},
   "outputs": [],
   "source": [
    "import pandas as pd\n",
    "import sqlite3\n",
    "\n",
    "# Establish a connection to an SQLite database\n",
    "conn = sqlite3.connect('./files/database.db')\n",
    "\n",
    "df = pd.read_sql(\"SELECT * FROM tasks\", conn)\n",
    "conn.close()"
   ]
  },
  {
   "cell_type": "code",
   "execution_count": 29,
   "id": "2ba49b51-ff9c-4f84-8da3-1c2b8ab46c3c",
   "metadata": {},
   "outputs": [
    {
     "data": {
      "text/html": [
       "<div>\n",
       "<style scoped>\n",
       "    .dataframe tbody tr th:only-of-type {\n",
       "        vertical-align: middle;\n",
       "    }\n",
       "\n",
       "    .dataframe tbody tr th {\n",
       "        vertical-align: top;\n",
       "    }\n",
       "\n",
       "    .dataframe thead th {\n",
       "        text-align: right;\n",
       "    }\n",
       "</style>\n",
       "<table border=\"1\" class=\"dataframe\">\n",
       "  <thead>\n",
       "    <tr style=\"text-align: right;\">\n",
       "      <th></th>\n",
       "      <th>id</th>\n",
       "      <th>name</th>\n",
       "      <th>priority</th>\n",
       "    </tr>\n",
       "  </thead>\n",
       "  <tbody>\n",
       "    <tr>\n",
       "      <th>0</th>\n",
       "      <td>2</td>\n",
       "      <td>My second task</td>\n",
       "      <td>5</td>\n",
       "    </tr>\n",
       "    <tr>\n",
       "      <th>1</th>\n",
       "      <td>3</td>\n",
       "      <td>My third task</td>\n",
       "      <td>10</td>\n",
       "    </tr>\n",
       "  </tbody>\n",
       "</table>\n",
       "</div>"
      ],
      "text/plain": [
       "   id            name  priority\n",
       "0   2  My second task         5\n",
       "1   3   My third task        10"
      ]
     },
     "execution_count": 29,
     "metadata": {},
     "output_type": "execute_result"
    }
   ],
   "source": [
    "df"
   ]
  },
  {
   "cell_type": "markdown",
   "id": "bdc610f1-518d-4b7f-a9bb-22d7b03c893d",
   "metadata": {
    "scrolled": true
   },
   "source": [
    "Apartir de este punto podemos trabajar con un dataframe usando todas las funcionalidades de Pandas.\n",
    "\n",
    "Una vez que realizamos los cambios podemos volcarlos de nuevo a la base de datos o agregar nuevos datos, para ello pandas posee del método `to_sql()`, donde:\n",
    "\n",
    "* name: definimos la tabla donde queremos añadir los datos.\n",
    "* con: definimos la conexión a la base de datos.\n",
    "* if_exists: podemos definir como añadir los datos:\n",
    "    * fail: Genera un ValueError.\n",
    "    * replace: Borra la tabla antes de insertar nuevos valores.\n",
    "    * append: Inserta nuevos valores en la tabla existente.\n",
    "* index: por defecto es True, si no queremos que nos añada el index a la tabla pondremos False\n",
    "* chunksize (opcional): Especifica el número de filas de cada lote que se escribirán simultáneamente. Por defecto, todas las filas se escribirán a la vez.\n",
    "* dtype (opcional): Especifica el tipo de dato de las columnas. Si se utiliza un diccionario, las claves deben ser los nombres de las columnas y los valores deben ser los tipos de SQLAlchemy o cadenas para el modo heredado de SQLite3. Si se proporciona un escalar, se aplicará a todas las columnas."
   ]
  },
  {
   "cell_type": "code",
   "execution_count": 37,
   "id": "36adf051-5b99-4a40-9dcb-03f2e1de12a7",
   "metadata": {},
   "outputs": [
    {
     "data": {
      "text/html": [
       "<div>\n",
       "<style scoped>\n",
       "    .dataframe tbody tr th:only-of-type {\n",
       "        vertical-align: middle;\n",
       "    }\n",
       "\n",
       "    .dataframe tbody tr th {\n",
       "        vertical-align: top;\n",
       "    }\n",
       "\n",
       "    .dataframe thead th {\n",
       "        text-align: right;\n",
       "    }\n",
       "</style>\n",
       "<table border=\"1\" class=\"dataframe\">\n",
       "  <thead>\n",
       "    <tr style=\"text-align: right;\">\n",
       "      <th></th>\n",
       "      <th>id</th>\n",
       "      <th>name</th>\n",
       "      <th>priority</th>\n",
       "    </tr>\n",
       "  </thead>\n",
       "  <tbody>\n",
       "    <tr>\n",
       "      <th>0</th>\n",
       "      <td>4</td>\n",
       "      <td>My fourth task</td>\n",
       "      <td>9</td>\n",
       "    </tr>\n",
       "  </tbody>\n",
       "</table>\n",
       "</div>"
      ],
      "text/plain": [
       "   id            name  priority\n",
       "0   4  My fourth task         9"
      ]
     },
     "execution_count": 37,
     "metadata": {},
     "output_type": "execute_result"
    }
   ],
   "source": [
    "df_2 = pd.DataFrame({'id': [4], 'name': ['My fourth task'], 'priority': [9]})\n",
    "df_2"
   ]
  },
  {
   "cell_type": "code",
   "execution_count": 38,
   "id": "1f383237-a088-4f00-98e4-e5172ef67639",
   "metadata": {},
   "outputs": [
    {
     "data": {
      "text/plain": [
       "1"
      ]
     },
     "execution_count": 38,
     "metadata": {},
     "output_type": "execute_result"
    }
   ],
   "source": [
    "# Establish a connection to an SQLite database\n",
    "conn = sqlite3.connect('./files/database.db')\n",
    "\n",
    "df_2.to_sql(name='tasks', con=conn, if_exists='append', index=False)"
   ]
  },
  {
   "cell_type": "markdown",
   "id": "1db3a24d-05f1-42fe-8695-358e39c2c18c",
   "metadata": {},
   "source": [
    "*Creado por:*\n",
    "\n",
    "*Isabel Maniega*"
   ]
  }
 ],
 "metadata": {
  "kernelspec": {
   "display_name": "Python 3 (ipykernel)",
   "language": "python",
   "name": "python3"
  },
  "language_info": {
   "codemirror_mode": {
    "name": "ipython",
    "version": 3
   },
   "file_extension": ".py",
   "mimetype": "text/x-python",
   "name": "python",
   "nbconvert_exporter": "python",
   "pygments_lexer": "ipython3",
   "version": "3.12.3"
  },
  "widgets": {
   "application/vnd.jupyter.widget-state+json": {
    "state": {},
    "version_major": 2,
    "version_minor": 0
   }
  }
 },
 "nbformat": 4,
 "nbformat_minor": 5
}
