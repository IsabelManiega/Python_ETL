{
 "cells": [
  {
   "cell_type": "markdown",
   "id": "d4365683-49bc-4c84-9cd3-80a9cb7b7251",
   "metadata": {},
   "source": [
    "*Creado por:*\n",
    "\n",
    "*Isabel Maniega*"
   ]
  },
  {
   "cell_type": "markdown",
   "id": "5221b5c0-ce69-403c-a0f9-61cd5ea92bb3",
   "metadata": {},
   "source": [
    "## Logging in Python\n",
    "\n",
    "The Python Standard Library provides a useful module called ```logging``` to log events occurring in the application. Logs are most often used to find the cause of an error. By default, Python and its modules provide many logs informing you of the causes of errors. However, it's good practice to create your own logs that may be useful to you or other programmers.\n",
    "\n",
    "An example of using your own logs can be any Internet system. When users visit your site, you can log information about the browsers they use. If something goes wrong, you'll be able to determine in which browsers the problem is occurring.\n",
    "\n",
    "In Python, you can store logs in different places. Most often it's in the form of a file, but it can also be an output stream, or even an external service. To start logging, we need to import the appropriate module:\n",
    "```\n",
    "import logging\n",
    "```\n",
    "In this part of the course, you'll learn how to create logs using the ```logging``` module. See what this module offers and start using it to become a better programmer.\n",
    "\n",
    "\n",
    "**The Logger object**\n",
    "\n",
    "One application may have several loggers created both by us and by programmers of the modules. If your application is simple, as in the example below, you can use the root logger. To do this, call the getLogger function without providing a name. The root logger is at the highest point in the hierarchy. Its place in the hierarchy is assigned based on the names passed to the ```getLogger``` function.\n",
    "\n",
    "Logger names are similar to the names of the Python modules in which the dot separator is used. Their format is as follows:\n",
    "\n",
    "- **hello** – creates a logger which is a child of the root logger;\n",
    "\n",
    "- **hello.world** – creates a logger which is a child of the hello logger.\n",
    "\n",
    "If you want to make another nesting, just use the dot separator.\n",
    "\n",
    "The ```getLogger``` function returns a ```Logger``` object. Let's look at the example code in the editor. We'll find there the ways to get the ```Logger``` object, both with and without a name.\n",
    "\n",
    "We recommend calling the ```getLogger``` function with the ```__name__``` argument, which is replaced by the current module name. This allows you to easily specify the source of the logged message.\n",
    "\n",
    "NOTE: Several calls to the ```getLogger``` function with the same name will always return the same object."
   ]
  },
  {
   "cell_type": "code",
   "execution_count": 1,
   "id": "d0d18eb3-24eb-4352-81e2-cb9cef3146b9",
   "metadata": {},
   "outputs": [
    {
     "name": "stdout",
     "output_type": "stream",
     "text": [
      "<Logger hello.world (WARNING)>\n"
     ]
    }
   ],
   "source": [
    "import logging\n",
    "\n",
    "logger = logging.getLogger()\n",
    "hello_logger = logging.getLogger('hello')\n",
    "hello_world_logger = logging.getLogger('hello.world')\n",
    "recommended_logger = logging.getLogger(__name__)\n",
    "print(hello_world_logger)"
   ]
  },
  {
   "cell_type": "markdown",
   "id": "439d5cb8-e35c-4002-8ca4-3a5f12780969",
   "metadata": {},
   "source": [
    "**Logging levels**\n",
    "\n",
    "The ```Logger``` object allows you to create logs with different levels of logging that help you to distinguish between less important logs and those reporting a serious error. By default, the following logging levels are defined:\n",
    "\n",
    "|    Level name\t   | Value |\n",
    "| ---------------- | ----- |\n",
    "| ```CRITICAL```   |  50   |\n",
    "|    ```ERROR```   |  40   |\n",
    "|   ```WARNING```  |  30   |\n",
    "|    ```INFO```    |  20   |\n",
    "|   ```DEBUG```    |  10   |\n",
    "|   ```NOTSET```   |  0    |\n",
    "\n",
    "Each level has a ```name``` and a ```numeric``` value. You can also define your own level, but those offered by the ```logging``` module are quite sufficient. The Logger object has methods that set the logging level for you. Take a look at the example in the editor.\n",
    "\n",
    "Result:\n",
    "```\n",
    "CRITICAL:root:Your CRITICAL message\n",
    "ERROR:root:Your ERROR message\n",
    "WARNING:root:Your WARNING message\n",
    "```\n",
    "\n",
    "All of the above methods require you to provide a message that will be visible in the logs. The default log format includes the level, the logger name and the message you’ve defined. Note that all these values are separated by a colon. Later in this course, you'll learn how to change the default formatting.\n",
    "\n",
    "You’re probably wondering why messages with INFO and DEBUG levels are not displayed. This is due to the default configuration, which we'll talk about in a moment.\n",
    "\n",
    "NOTE: The ```basicConfig``` method will be discussed later in the course. For now, remember that it's responsible for the basic logging configuration."
   ]
  },
  {
   "cell_type": "code",
   "execution_count": 2,
   "id": "4771fad9-85b1-4ddb-9805-b625123cf03b",
   "metadata": {},
   "outputs": [
    {
     "name": "stderr",
     "output_type": "stream",
     "text": [
      "CRITICAL:Hola:Your CRITICAL message\n",
      "ERROR:Hola:Your ERROR message\n",
      "WARNING:Hola:Your WARNING message\n"
     ]
    }
   ],
   "source": [
    "import logging\n",
    "\n",
    "logging.basicConfig()\n",
    "\n",
    "logger = logging.getLogger('Hola')\n",
    "\n",
    "logger.critical('Your CRITICAL message')\n",
    "logger.error('Your ERROR message')\n",
    "logger.warning('Your WARNING message')\n",
    "logger.info('Your INFO message')\n",
    "logger.debug('Your DEBUG message')"
   ]
  },
  {
   "cell_type": "markdown",
   "id": "afe8a702-d5da-4dcf-b093-079872b7e68c",
   "metadata": {},
   "source": [
    "**The setLevel method**\n",
    "\n",
    "The root logger has the logging level set to ```WARNING```. This means that messages at the ```INFO``` or ```DEBUG``` levels aren't processed.\n",
    "\n",
    "Sometimes you may want to change this behavior, especially if you create your own logger. To do this, you need to pass a logging level to the ```setLevel``` method. See how we do this in the editor.\n",
    "\n",
    "Result:\n",
    "```\n",
    "CRITICAL:root:Your CRITICAL message\n",
    "ERROR:root:Your ERROR message\n",
    "WARNING:root:Your WARNING message\n",
    "INFO:root:Your INFO message\n",
    "DEBUG:root:Your DEBUG message\n",
    "```\n",
    "Setting the ```DEBUG``` level causes messages with this or a higher level to be logged. It's worth mentioning that loggers created using the name argument have the ```NOTSET``` level set by default. In this case, their logging level is set based on the parent levels, starting from the closest parent to the root logger.\n",
    "\n",
    "If the closest parent has a level set to ```NOTSET```, the logger level is set based on the levels of subsequent parents in the hierarchy. Level setting ends if a parent has a level other than ```NOTSET```. If none of the visited parents has a level other than ```NOTSET```, then all messages will be processed regardless of their level."
   ]
  },
  {
   "cell_type": "code",
   "execution_count": 3,
   "id": "52bd5027-6cc3-4a15-852d-580b90b80ded",
   "metadata": {},
   "outputs": [
    {
     "name": "stderr",
     "output_type": "stream",
     "text": [
      "CRITICAL:root:Your CRITICAL message\n",
      "ERROR:root:Your ERROR message\n",
      "WARNING:root:Your WARNING message\n",
      "INFO:root:Your INFO message\n",
      "DEBUG:root:Your DEBUG message\n"
     ]
    }
   ],
   "source": [
    "import logging\n",
    "\n",
    "logging.basicConfig()\n",
    "\n",
    "logger = logging.getLogger()\n",
    "logger.setLevel(logging.DEBUG)\n",
    "\n",
    "logger.critical('Your CRITICAL message')\n",
    "logger.error('Your ERROR message')\n",
    "logger.warning('Your WARNING message')\n",
    "logger.info('Your INFO message')\n",
    "logger.debug('Your DEBUG message')"
   ]
  },
  {
   "cell_type": "markdown",
   "id": "08558f8b-9bf6-4845-88cf-4bc2dd76e7da",
   "metadata": {},
   "source": [
    "**Basic configuration (part 1)**\n",
    "\n",
    "As we mentioned before, the basic logging configuration is done using the ```basicConfig``` method. Calling the ```basicConfig``` method (without specifying any arguments) creates a ```StreamHandler``` object that processes the logs and then displays them in the console.\n",
    "\n",
    "The ```StreamHandler``` object is created by the default ```Formatter``` object responsible for the log format. As a reminder, the default format consists of the level name, logger name, and defined message. Finally the newly created handler is added to the root logger. Later you'll learn how to create your own handler and formatter.\n",
    "\n",
    "In the previous examples, we called the ```basicConfig``` method without any arguments. Using the ```basicConfig```, method you can change the logging level (in the same way as using the ```setLevel``` method) and even the location of the logs. Take a look at the example in the editor.\n",
    "\n",
    "Result in ```prod.log``` file:\n",
    "```\n",
    "CRITICAL:root:Your CRITICAL message\n",
    "```\n",
    "In the example, the ```basicConfig``` method takes three arguments. The first one is the logging level equal to ```CRITICAL```, which means that only messages with this level will be processed.\n",
    "\n",
    "Passing a filename to the second argument creates a ```FileHandler``` object (instead of a ```StreamHandler``` object). As you’ve probably noticed, the logs no longer appear in the console. After setting the ```filename``` argument, all logs will be directed to the specified file.\n",
    "\n",
    "In addition, passing the last ```filemode``` argument with the value ```'a'``` (this is the default mode) means that new logs will be appended to this file. If you'd like to change this mode, you can use other modes that are analogous to those used in the built-in ```open``` function.\n",
    "\n",
    "These aren't all the arguments that the ```basicConfig``` method can take. Are you ready for another dose of knowledge? Let's move on!\n",
    "\n",
    "NOTE: The ```basicConfig``` method changes the configuration of the root logger and its children who don't have their own handler defined.\n",
    "\n"
   ]
  },
  {
   "cell_type": "code",
   "execution_count": 4,
   "id": "0af051dd-95a1-4021-9b66-0a86e3bd1dd4",
   "metadata": {},
   "outputs": [
    {
     "name": "stderr",
     "output_type": "stream",
     "text": [
      "CRITICAL:root:Your CRITICAL message\n",
      "ERROR:root:Your ERROR message\n",
      "WARNING:root:Your WARNING message\n",
      "INFO:root:Your INFO message\n",
      "DEBUG:root:Your DEBUG message\n"
     ]
    }
   ],
   "source": [
    "import logging\n",
    "\n",
    "logging.basicConfig(level=logging.CRITICAL, filename='prod.log', filemode='a')\n",
    "\n",
    "logger = logging.getLogger()\n",
    "\n",
    "logger.critical('Your CRITICAL message')\n",
    "logger.error('Your ERROR message')\n",
    "logger.warning('Your WARNING message')\n",
    "logger.info('Your INFO message')\n",
    "logger.debug('Your DEBUG message')"
   ]
  },
  {
   "cell_type": "markdown",
   "id": "d8c20f1d-666a-4d49-b78e-201fda5184c8",
   "metadata": {},
   "source": [
    "**Basic configuration (part 2)**\n",
    "\n",
    "The ```basicConfig``` method presented earlier can also be used to change the default log formatting. This is done using the ```format``` argument, which can be defined using any characters or attributes of the ```LogRecord``` object. Let's explain it with the example in the editor.\n",
    "\n",
    "Result in the prod.log file:\n",
    "```\n",
    "root:CRITICAL:2019-10-10 17:16:46,293:Your CRITICAL message\n",
    "```\n",
    "The format we define is created by combining the attributes of the ```LogRecord``` object separated by a colon. The ```LogRecord``` object is automatically created by the logger during logging. It contains many attributes, such as the name of the ```logger```, the ```logging level```, or even the line number in which the ```logging``` method is called. A full list of all available attributes can be found here [https://docs.python.org/3/library/logging.html#logrecord-attributes].\n",
    "\n",
    "In our example, we use the following attributes:\n",
    "\n",
    "**%(name)s** – this pattern will be replaced by the name of the logger that calls the logging method. In our case, it's the root logger;\n",
    "\n",
    "**%(levelname)s** – this pattern will be replaced with the set login level. In our case, this is the ```CRITICAL``` level;\n",
    "\n",
    "**%(asctime)s** – this pattern will be replaced with a human-readable date format that indicates when the ```LogRecord``` object was created. The decimal value is expressed in milliseconds;\n",
    "\n",
    "**%(message)s** – this pattern will be replaced by the defined message. In our case, it's ```'Your CRITICAL message'```.\n",
    "\n",
    "In general, the scheme for using the ```LogRecord``` object argument in the format argument looks like this:\n",
    "```\n",
    "(LOG_RECORD_ATTRIBUTE_NAME)s\n",
    "```"
   ]
  },
  {
   "cell_type": "code",
   "execution_count": 5,
   "id": "48dc8967-c954-4a7c-9a11-10059ebfe8df",
   "metadata": {},
   "outputs": [
    {
     "name": "stderr",
     "output_type": "stream",
     "text": [
      "CRITICAL:root:Your CRITICAL message\n",
      "ERROR:root:Your ERROR message\n",
      "WARNING:root:Your WARNING message\n",
      "INFO:root:Your INFO message\n",
      "DEBUG:root:Your DEBUG message\n"
     ]
    }
   ],
   "source": [
    "import logging\n",
    "\n",
    "FORMAT = '%(name)s:%(levelname)s:%(asctime)s:%(message)s'\n",
    "\n",
    "logging.basicConfig(level=logging.CRITICAL, filename='prod.log', filemode='a', format=FORMAT)\n",
    "\n",
    "logger = logging.getLogger()\n",
    "\n",
    "logger.critical('Your CRITICAL message')\n",
    "logger.error('Your ERROR message')\n",
    "logger.warning('Your WARNING message')\n",
    "logger.info('Your INFO message')\n",
    "logger.debug('Your DEBUG message')"
   ]
  },
  {
   "cell_type": "markdown",
   "id": "52b0be3f-dc6f-44c9-bf4b-16f1c342aeb7",
   "metadata": {},
   "source": [
    "**Your first handler**\n",
    "\n",
    "Each logger can save logs in different locations as well as in different formats. To do this, you must define your own handler and formatter.\n",
    "\n",
    "In most cases, you'll want to save your logs to a file. The logging module has the ```FileHandler``` class, which facilitates this task. When creating a ```FileHandler``` object, you must pass a filename where the logs will be saved.\n",
    "\n",
    "Additionally, you can pass a file mode with the mode argument, e.g., ```mode='a'```. In the next step, you should set the logging level that will be processed by the handler. By default, the newly created handler is set to the ```NOTSET``` level. You can change this using the ```setLevel``` method. In the example in the editor, we've set the ```CRITICAL``` level.\n",
    "\n",
    "Finally, you need to add the created handler to your logger using the ```addHandler``` method.\n",
    "\n",
    "Result in the ```prod.log``` file:\n",
    "```\n",
    "Your CRITICAL message\n",
    "```\n",
    "If you check the ```prod.log``` file, you'll see that only the message is saved there. Do you know what we forgot? Your handler hasn't created a formatter. You'll learn how to do this in a moment.\n",
    "\n",
    "NOTE: Each logger can have several handlers added. One handler can save logs to a file, while another can send them to an external service. In order to process messages with a level lower than ```WARNING``` by added handlers, it's necessary to set this level threshold in the root logger."
   ]
  },
  {
   "cell_type": "code",
   "execution_count": 6,
   "id": "bb04b780-b2f3-425a-ad2a-296b17888397",
   "metadata": {},
   "outputs": [
    {
     "name": "stderr",
     "output_type": "stream",
     "text": [
      "CRITICAL:__main__:Your CRITICAL message\n",
      "ERROR:__main__:Your ERROR message\n",
      "WARNING:__main__:Your WARNING message\n",
      "INFO:__main__:Your INFO message\n",
      "DEBUG:__main__:Your DEBUG message\n"
     ]
    }
   ],
   "source": [
    "import logging\n",
    "\n",
    "logger = logging.getLogger(__name__)\n",
    "\n",
    "handler = logging.FileHandler('prod.log', mode='w')\n",
    "handler.setLevel(logging.CRITICAL)\n",
    "\n",
    "logger.addHandler(handler)\n",
    "\n",
    "logger.critical('Your CRITICAL message')\n",
    "logger.error('Your ERROR message')\n",
    "logger.warning('Your WARNING message')\n",
    "logger.info('Your INFO message')\n",
    "logger.debug('Your DEBUG message')"
   ]
  },
  {
   "cell_type": "markdown",
   "id": "ef0cd649-4dae-4941-b92e-db0c245b73f6",
   "metadata": {},
   "source": [
    "*Creado por:*\n",
    "\n",
    "*Isabel Maniega*"
   ]
  }
 ],
 "metadata": {
  "kernelspec": {
   "display_name": "Python 3 (ipykernel)",
   "language": "python",
   "name": "python3"
  },
  "language_info": {
   "codemirror_mode": {
    "name": "ipython",
    "version": 3
   },
   "file_extension": ".py",
   "mimetype": "text/x-python",
   "name": "python",
   "nbconvert_exporter": "python",
   "pygments_lexer": "ipython3",
   "version": "3.12.3"
  },
  "widgets": {
   "application/vnd.jupyter.widget-state+json": {
    "state": {},
    "version_major": 2,
    "version_minor": 0
   }
  }
 },
 "nbformat": 4,
 "nbformat_minor": 5
}
