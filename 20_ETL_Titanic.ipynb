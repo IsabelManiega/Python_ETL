{
 "cells": [
  {
   "cell_type": "markdown",
   "id": "dcac7a0c",
   "metadata": {},
   "source": [
    "*Creado por:*\n",
    "\n",
    "*Isabel Maniega*"
   ]
  },
  {
   "cell_type": "markdown",
   "id": "c1b65bf9",
   "metadata": {},
   "source": [
    "# Titanic Dataset - Predicción"
   ]
  },
  {
   "cell_type": "markdown",
   "id": "41bdec52",
   "metadata": {},
   "source": [
    "Para competir en Kaggle será necesario descargar de esta página los csv de: train.csv, test.csv, gender_submission.csv\n",
    "\n",
    "https://www.kaggle.com/competitions/titanic/data"
   ]
  },
  {
   "cell_type": "code",
   "execution_count": null,
   "id": "b69677bc-6bc1-4503-a346-062f384eb209",
   "metadata": {},
   "outputs": [],
   "source": [
    "# pip install seaborn"
   ]
  },
  {
   "cell_type": "code",
   "execution_count": null,
   "id": "82e0afd0",
   "metadata": {},
   "outputs": [],
   "source": [
    "import pandas as pd\n",
    "import numpy as np\n",
    "import matplotlib.pyplot as plt\n",
    "import seaborn as sns"
   ]
  },
  {
   "cell_type": "markdown",
   "id": "13b0a625",
   "metadata": {},
   "source": [
    "**Importamos el dataset train.csv**"
   ]
  },
  {
   "cell_type": "code",
   "execution_count": null,
   "id": "1529647a",
   "metadata": {},
   "outputs": [],
   "source": [
    "df = pd.read_csv(\"./data/train.csv\")\n",
    "df.head()"
   ]
  },
  {
   "cell_type": "markdown",
   "id": "92a41419",
   "metadata": {},
   "source": [
    "**Borramos la columna de PassengerId**"
   ]
  },
  {
   "cell_type": "code",
   "execution_count": null,
   "id": "a52a99b0",
   "metadata": {},
   "outputs": [],
   "source": [
    "df = df.drop(\"PassengerId\", axis=1)\n",
    "df"
   ]
  },
  {
   "cell_type": "markdown",
   "id": "ab7f77ee",
   "metadata": {},
   "source": [
    "## Exploratory Data Analysis (EDA)"
   ]
  },
  {
   "cell_type": "code",
   "execution_count": null,
   "id": "2be88ce0",
   "metadata": {},
   "outputs": [],
   "source": [
    "df.tail()"
   ]
  },
  {
   "cell_type": "code",
   "execution_count": null,
   "id": "a1f48e74",
   "metadata": {},
   "outputs": [],
   "source": [
    "len(df)"
   ]
  },
  {
   "cell_type": "code",
   "execution_count": null,
   "id": "c9b847ec",
   "metadata": {},
   "outputs": [],
   "source": [
    "df.shape"
   ]
  },
  {
   "cell_type": "code",
   "execution_count": null,
   "id": "30fbcda2",
   "metadata": {},
   "outputs": [],
   "source": [
    "df.describe()"
   ]
  },
  {
   "cell_type": "markdown",
   "id": "c9b543ec",
   "metadata": {},
   "source": [
    "**Conclusiones:**\n",
    "\n",
    " * Existen columnas de \"missing values\" (Valores que faltan)"
   ]
  },
  {
   "cell_type": "code",
   "execution_count": null,
   "id": "65b62783",
   "metadata": {},
   "outputs": [],
   "source": [
    "# y aqui vemos cuantas columnas tiene valores que faltan\n",
    "df.isnull().sum()"
   ]
  },
  {
   "cell_type": "code",
   "execution_count": null,
   "id": "69784b62",
   "metadata": {},
   "outputs": [],
   "source": [
    "df.Cabin.value_counts()"
   ]
  },
  {
   "cell_type": "code",
   "execution_count": null,
   "id": "89b52542",
   "metadata": {},
   "outputs": [],
   "source": [
    "for cabina in df.Cabin:\n",
    "    print(cabina)"
   ]
  },
  {
   "cell_type": "code",
   "execution_count": null,
   "id": "e455dd32",
   "metadata": {},
   "outputs": [],
   "source": [
    "df.info()"
   ]
  },
  {
   "cell_type": "code",
   "execution_count": null,
   "id": "96e61bed",
   "metadata": {},
   "outputs": [],
   "source": [
    "df.Survived.value_counts()"
   ]
  },
  {
   "cell_type": "code",
   "execution_count": null,
   "id": "fdf943ba-db0b-457e-9080-65ec7acf7a21",
   "metadata": {},
   "outputs": [],
   "source": [
    "df.Survived.value_counts(normalize=True)"
   ]
  },
  {
   "cell_type": "code",
   "execution_count": null,
   "id": "3ffde378",
   "metadata": {},
   "outputs": [],
   "source": [
    "df.Survived.value_counts().plot(kind=\"bar\")\n",
    "plt.show()"
   ]
  },
  {
   "cell_type": "markdown",
   "id": "8d207be4",
   "metadata": {},
   "source": [
    "## ¿Cómo seleccionar información concreta de nuestro dataset?"
   ]
  },
  {
   "cell_type": "markdown",
   "id": "033e1cb8",
   "metadata": {},
   "source": [
    "**Forma 1**"
   ]
  },
  {
   "cell_type": "code",
   "execution_count": null,
   "id": "d04f5dfb",
   "metadata": {},
   "outputs": [],
   "source": [
    "df[\"Age\"].head()"
   ]
  },
  {
   "cell_type": "markdown",
   "id": "4442db02",
   "metadata": {},
   "source": [
    "**Forma 2**"
   ]
  },
  {
   "cell_type": "code",
   "execution_count": null,
   "id": "25f90c80",
   "metadata": {},
   "outputs": [],
   "source": [
    "df.Age.head()"
   ]
  },
  {
   "cell_type": "markdown",
   "id": "db646248",
   "metadata": {},
   "source": [
    "**Forma 3**"
   ]
  },
  {
   "cell_type": "code",
   "execution_count": null,
   "id": "691542b9",
   "metadata": {},
   "outputs": [],
   "source": [
    "df[[\"Age\"]].head()"
   ]
  },
  {
   "cell_type": "markdown",
   "id": "1d390f08",
   "metadata": {},
   "source": [
    "## Crosstab"
   ]
  },
  {
   "cell_type": "code",
   "execution_count": null,
   "id": "b00494a1",
   "metadata": {},
   "outputs": [],
   "source": [
    "pd.crosstab(df.Sex, df.Survived)"
   ]
  },
  {
   "cell_type": "code",
   "execution_count": null,
   "id": "3a4a9957",
   "metadata": {},
   "outputs": [],
   "source": [
    "pd.crosstab(df.Sex, df.Survived).plot(kind=\"bar\")\n",
    "plt.show()"
   ]
  },
  {
   "cell_type": "markdown",
   "id": "8ccb291f",
   "metadata": {},
   "source": [
    "**Conclusión:**\n",
    "* La mayoría de las mujeres sobreviven.\n",
    "* La mayoría de los hombres NO sobrevivieron"
   ]
  },
  {
   "cell_type": "code",
   "execution_count": null,
   "id": "05faa87e",
   "metadata": {},
   "outputs": [],
   "source": [
    "pd.crosstab(df.Sex, df.Survived).plot(kind=\"bar\", stacked=True)\n",
    "plt.show()"
   ]
  },
  {
   "cell_type": "markdown",
   "id": "e56381e6",
   "metadata": {},
   "source": [
    "**Conclusión:**\n",
    "* Hay más hombres que mujeres, es casi el doble."
   ]
  },
  {
   "cell_type": "code",
   "execution_count": null,
   "id": "4bf1321f",
   "metadata": {},
   "outputs": [],
   "source": [
    "pd.crosstab(df.Pclass, df.Survived)"
   ]
  },
  {
   "cell_type": "code",
   "execution_count": null,
   "id": "e3312a6c",
   "metadata": {},
   "outputs": [],
   "source": [
    "pd.crosstab(df.Pclass, df.Survived).plot(kind=\"bar\")\n",
    "plt.show()"
   ]
  },
  {
   "cell_type": "markdown",
   "id": "a2826b11",
   "metadata": {},
   "source": [
    "**Conclusión:**\n",
    "\n",
    "* La mayoría de los que NO sobrevivieron eran de la 3ª clase"
   ]
  },
  {
   "cell_type": "markdown",
   "id": "9e420bea",
   "metadata": {},
   "source": [
    "## groupby"
   ]
  },
  {
   "cell_type": "code",
   "execution_count": null,
   "id": "ecfc614b",
   "metadata": {},
   "outputs": [],
   "source": [
    "df.groupby(\"Sex\").Survived.value_counts()"
   ]
  },
  {
   "cell_type": "code",
   "execution_count": null,
   "id": "15488fc3",
   "metadata": {},
   "outputs": [],
   "source": [
    "df.groupby(\"Sex\").Survived.value_counts().plot(kind=\"bar\")\n",
    "plt.show()"
   ]
  },
  {
   "cell_type": "markdown",
   "id": "0c40eaa9",
   "metadata": {},
   "source": [
    "## por filtrado"
   ]
  },
  {
   "cell_type": "markdown",
   "id": "ae6250f5",
   "metadata": {},
   "source": [
    "* Selecciono aquellas filas donde Pclass == 1\n",
    "* Me creo un dataframe de la misma forma que tenía antes"
   ]
  },
  {
   "cell_type": "code",
   "execution_count": null,
   "id": "7ff4dacb",
   "metadata": {},
   "outputs": [],
   "source": [
    "# Una forma..."
   ]
  },
  {
   "cell_type": "code",
   "execution_count": null,
   "id": "ec5405c0",
   "metadata": {},
   "outputs": [],
   "source": [
    "df_sex_uno = df[df.Pclass == 1]\n",
    "df_sex_uno.head()"
   ]
  },
  {
   "cell_type": "code",
   "execution_count": null,
   "id": "4714ca3e",
   "metadata": {},
   "outputs": [],
   "source": [
    "# Otra forma..."
   ]
  },
  {
   "cell_type": "code",
   "execution_count": null,
   "id": "a239263d",
   "metadata": {},
   "outputs": [],
   "source": [
    "df_sex_crosstab = df[df.Pclass == 1][\"Survived\"]\n",
    "df_sex_crosstab.head()"
   ]
  },
  {
   "cell_type": "markdown",
   "id": "63fafa94",
   "metadata": {},
   "source": [
    "## Ejemplos de creación de dataframes"
   ]
  },
  {
   "cell_type": "code",
   "execution_count": null,
   "id": "b8d3d51c",
   "metadata": {},
   "outputs": [],
   "source": [
    "df_sobreviven_todos = df[df[\"Survived\"] == 1]\n",
    "df_sobreviven_ninguno = df[df[\"Survived\"] == 0]\n",
    "hombres_sobrevivieron = df[(df[\"Survived\"] == 1) & (df[\"Sex\"] == \"male\")]\n",
    "hombres__no_sobrevivieron = df[(df[\"Survived\"] == 0) & (df[\"Sex\"] == \"male\")]\n",
    "mujeres_sobrevivieron = df[(df[\"Survived\"] == 1) & (df[\"Sex\"] == \"female\")]\n",
    "mujeres_no_sobrevivieron = df[(df[\"Survived\"] == 0) & (df[\"Sex\"] == \"female\")]"
   ]
  },
  {
   "cell_type": "code",
   "execution_count": null,
   "id": "e0eb4f10",
   "metadata": {},
   "outputs": [],
   "source": [
    "df_sobreviven_todos.head()"
   ]
  },
  {
   "cell_type": "code",
   "execution_count": null,
   "id": "707fcacd",
   "metadata": {},
   "outputs": [],
   "source": [
    "df_sobreviven_todos.Survived.value_counts(3)"
   ]
  },
  {
   "cell_type": "code",
   "execution_count": null,
   "id": "2e090a9e",
   "metadata": {},
   "outputs": [],
   "source": [
    "df_sobreviven_ninguno.head()"
   ]
  },
  {
   "cell_type": "code",
   "execution_count": null,
   "id": "b2e0e440",
   "metadata": {},
   "outputs": [],
   "source": [
    "df_sobreviven_ninguno.Survived.value_counts(3)"
   ]
  },
  {
   "cell_type": "code",
   "execution_count": null,
   "id": "6b19a24b",
   "metadata": {},
   "outputs": [],
   "source": [
    "hombres_sobrevivieron.head()"
   ]
  },
  {
   "cell_type": "code",
   "execution_count": null,
   "id": "ffb66a34",
   "metadata": {},
   "outputs": [],
   "source": [
    "hombres__no_sobrevivieron.head()"
   ]
  },
  {
   "cell_type": "code",
   "execution_count": null,
   "id": "b1ce62d2",
   "metadata": {},
   "outputs": [],
   "source": [
    "mujeres_sobrevivieron.head()"
   ]
  },
  {
   "cell_type": "code",
   "execution_count": null,
   "id": "8b4a6486",
   "metadata": {},
   "outputs": [],
   "source": [
    "mujeres_no_sobrevivieron.head()"
   ]
  },
  {
   "cell_type": "markdown",
   "id": "decd2691",
   "metadata": {},
   "source": [
    "# Obtenemos información de los gráficos"
   ]
  },
  {
   "cell_type": "code",
   "execution_count": null,
   "id": "eae75455",
   "metadata": {},
   "outputs": [],
   "source": [
    "df.head()"
   ]
  },
  {
   "cell_type": "code",
   "execution_count": null,
   "id": "0da207d5",
   "metadata": {},
   "outputs": [],
   "source": [
    "opciones = [\"Pclass\", \"Sex\", \"Embarked\"]\n",
    "\n",
    "for opcion in opciones:\n",
    "    pd.crosstab(df[opcion], df.Survived).plot(kind=\"bar\")\n",
    "    plt.show()"
   ]
  },
  {
   "cell_type": "markdown",
   "id": "478bd94a",
   "metadata": {},
   "source": [
    "**SEABORN**"
   ]
  },
  {
   "cell_type": "code",
   "execution_count": null,
   "id": "02ad05b0",
   "metadata": {},
   "outputs": [],
   "source": [
    "sns.catplot(x=\"Sex\", y=\"Survived\", hue=\"Pclass\", kind=\"point\", height=4, aspect=2, data=df)\n",
    "plt.show()"
   ]
  },
  {
   "cell_type": "code",
   "execution_count": null,
   "id": "d94fb339",
   "metadata": {},
   "outputs": [],
   "source": [
    "sns.catplot(x=\"Pclass\", y=\"Survived\", hue=\"Sex\", kind=\"point\", col=\"Embarked\", data=df)\n",
    "plt.show()"
   ]
  },
  {
   "cell_type": "markdown",
   "id": "807a9b84",
   "metadata": {},
   "source": [
    "Algunas conclusiones:\n",
    "* Nos fijamos en la gráfica de la izquierda, embarked=\"S\" --> las mujeres de 3 clase que embarcaron en \"S\" fallecieron muchas en comparación con 1 y 2 clase, pese a ello sobrevivieron algo más que los hombres de 1 clase del mismo puerto.\n",
    "* los hombres con mayor porcentaje e supervivencia embarcaron en \"C\"\n",
    "* Los hombres con menor porcentaje de supervivencia embarcaron en \"Q\"\n",
    "* Vemos nuevamente como la mayoría de las mujeres sobreviveron, pero no los hombres.\n"
   ]
  },
  {
   "cell_type": "markdown",
   "id": "1028e88e",
   "metadata": {},
   "source": [
    "# Edad y supervivencia"
   ]
  },
  {
   "cell_type": "code",
   "execution_count": null,
   "id": "f704fef1",
   "metadata": {},
   "outputs": [],
   "source": [
    "# me creo una figura\n",
    "fig = plt.figure(figsize=(16,6))\n",
    "# 3 subplots\n",
    "# 1 fila 3 columnas - gráfica 1\n",
    "ax1 = fig.add_subplot(131)\n",
    "# 1 fila 3 columnas - gráfica 2\n",
    "ax2 = fig.add_subplot(132)\n",
    "# 1 fila 3 columnas - gráfica 3\n",
    "ax3 = fig.add_subplot(133)\n",
    "\n",
    "# violinplot\n",
    "sns.violinplot(x=\"Embarked\", y=\"Age\", hue=\"Survived\", data=df, ax=ax1)\n",
    "sns.violinplot(x=\"Pclass\", y=\"Age\", hue=\"Survived\", data=df, ax=ax2)\n",
    "sns.violinplot(x=\"Sex\", y=\"Age\", hue=\"Survived\", data=df, ax=ax3)\n",
    "\n",
    "plt.show()"
   ]
  },
  {
   "cell_type": "markdown",
   "id": "035517a3",
   "metadata": {},
   "source": [
    "**Hago un split== True, para mostrarlo más visual**"
   ]
  },
  {
   "cell_type": "code",
   "execution_count": null,
   "id": "f8eeaa69",
   "metadata": {},
   "outputs": [],
   "source": [
    "# me creo una figura\n",
    "fig = plt.figure(figsize=(16,6))\n",
    "# 3 subplots\n",
    "# 1 fila 3 columnas - gráfica 1\n",
    "ax1 = fig.add_subplot(131)\n",
    "# 1 fila 3 columnas - gráfica 2\n",
    "ax2 = fig.add_subplot(132)\n",
    "# 1 fila 3 columnas - gráfica 3\n",
    "ax3 = fig.add_subplot(133)\n",
    "\n",
    "# violinplot\n",
    "sns.violinplot(x=\"Embarked\", y=\"Age\", hue=\"Survived\", data=df, split=True, ax=ax1)\n",
    "sns.violinplot(x=\"Pclass\", y=\"Age\", hue=\"Survived\", data=df, split=True, ax=ax2)\n",
    "sns.violinplot(x=\"Sex\", y=\"Age\", hue=\"Survived\", data=df, split=True, ax=ax3)\n",
    "\n",
    "plt.show()"
   ]
  },
  {
   "cell_type": "markdown",
   "id": "8ecf485b",
   "metadata": {},
   "source": [
    "Conclusiones:\n",
    "    \n",
    "   * EMBARKED y Age:\n",
    "    \n",
    "      * La gente de unos 18-35 años de Q SI sobrevivieron mayoritariamente,(no todos)\n",
    "      \n",
    "      * no hay porcentajes mayoritarios significativos en las otras 2 embarcaciones\n",
    "    \n",
    "      * En Q embarcaron bastantes niños los cuales no sobrevivieron. \n",
    "      \n",
    "   * PCLASS y Age:\n",
    "   \n",
    "      * De la 2ª clase sobre todo y la 3 sobrevivieron la mayoria de sus niños\n",
    "\n",
    "   * Sex y Age:\n",
    "    \n",
    "      * Hay mas ancianos que ancianas\n",
    "      \n",
    "      * Los jovenes (varón) menores de 20 años en general sobrevivieron pero no las mujeres"
   ]
  },
  {
   "cell_type": "code",
   "execution_count": null,
   "id": "a241537a",
   "metadata": {},
   "outputs": [],
   "source": [
    "df.Age.describe()"
   ]
  },
  {
   "cell_type": "markdown",
   "id": "89b6a2f8",
   "metadata": {},
   "source": [
    "### barplot"
   ]
  },
  {
   "cell_type": "code",
   "execution_count": null,
   "id": "f7760af4",
   "metadata": {},
   "outputs": [],
   "source": [
    "sns.barplot(x=\"Pclass\", y=\"Survived\", data=df)\n",
    "plt.show()"
   ]
  },
  {
   "cell_type": "code",
   "execution_count": null,
   "id": "d643238d",
   "metadata": {},
   "outputs": [],
   "source": [
    "def funcion_graficas(feat):\n",
    "    plt.subplot(2, 1, 1)\n",
    "    df.groupby(feat).Survived.value_counts().plot(kind=\"bar\")\n",
    "    plt.figure(figsize=(12,8))\n",
    "    plt.subplot(2, 1, 2)\n",
    "    sns.barplot(x=feat, y=\"Survived\", data=df)\n",
    "    plt.show()"
   ]
  },
  {
   "cell_type": "code",
   "execution_count": null,
   "id": "10b7eeaf",
   "metadata": {},
   "outputs": [],
   "source": [
    "funcion_graficas(\"Pclass\")"
   ]
  },
  {
   "cell_type": "code",
   "execution_count": null,
   "id": "665e6de1",
   "metadata": {},
   "outputs": [],
   "source": [
    "funcion_graficas(\"Sex\")"
   ]
  },
  {
   "cell_type": "code",
   "execution_count": null,
   "id": "e4028d01",
   "metadata": {},
   "outputs": [],
   "source": [
    "funcion_graficas(\"Age\")"
   ]
  },
  {
   "cell_type": "code",
   "execution_count": null,
   "id": "249dbafb",
   "metadata": {},
   "outputs": [],
   "source": [
    "funcion_graficas(\"SibSp\")"
   ]
  },
  {
   "cell_type": "code",
   "execution_count": null,
   "id": "d3a95f05",
   "metadata": {},
   "outputs": [],
   "source": [
    "funcion_graficas(\"Parch\")"
   ]
  },
  {
   "cell_type": "code",
   "execution_count": null,
   "id": "ed63ca89",
   "metadata": {},
   "outputs": [],
   "source": [
    "funcion_graficas(\"Embarked\")"
   ]
  },
  {
   "cell_type": "markdown",
   "id": "eb954f38",
   "metadata": {},
   "source": [
    "## Feature Engineering"
   ]
  },
  {
   "cell_type": "markdown",
   "id": "47dcb2b4",
   "metadata": {},
   "source": [
    "En esta parte podemos hacer uso de la información obtenida y conclusiones.\n",
    "\n",
    "Para hacerlo lo más simple posible, lo que haremos será elegir solamente algunas columnas."
   ]
  },
  {
   "cell_type": "code",
   "execution_count": null,
   "id": "b313b415",
   "metadata": {},
   "outputs": [],
   "source": [
    "df.head()"
   ]
  },
  {
   "cell_type": "code",
   "execution_count": null,
   "id": "5071896a",
   "metadata": {},
   "outputs": [],
   "source": [
    "df.isnull().sum()"
   ]
  },
  {
   "cell_type": "markdown",
   "id": "082a1d01",
   "metadata": {},
   "source": [
    "**-1-Name- no lo tendremos en cuenta por simplificar**"
   ]
  },
  {
   "cell_type": "markdown",
   "id": "7e61dfe2",
   "metadata": {},
   "source": [
    "df[\"Name\"] = df[\"Name\"].str.extract(\"([A-Za-z]+)\", expand=False)\n",
    "\n",
    "seria posible una posible forma de analizar la columna Name, pero no lo haremos."
   ]
  },
  {
   "cell_type": "markdown",
   "id": "e1da9c8a",
   "metadata": {},
   "source": [
    "**-2-Age- Usamos el valor promedio de la columna para rellernar los valores que faltan**"
   ]
  },
  {
   "cell_type": "code",
   "execution_count": null,
   "id": "e394a926",
   "metadata": {},
   "outputs": [],
   "source": [
    "df.Age.isnull().sum()"
   ]
  },
  {
   "cell_type": "code",
   "execution_count": null,
   "id": "95d00ff0",
   "metadata": {},
   "outputs": [],
   "source": [
    "df.Age = df.Age.fillna(df.Age.mean())"
   ]
  },
  {
   "cell_type": "code",
   "execution_count": null,
   "id": "a8af4960",
   "metadata": {},
   "outputs": [],
   "source": [
    "df.Age.isnull().sum()"
   ]
  },
  {
   "cell_type": "code",
   "execution_count": null,
   "id": "9c0f00ae",
   "metadata": {},
   "outputs": [],
   "source": [
    "df"
   ]
  },
  {
   "cell_type": "markdown",
   "id": "6d951efd",
   "metadata": {},
   "source": [
    "**-3-Ticket- No la tendremos en cuenta por simplificar**"
   ]
  },
  {
   "cell_type": "code",
   "execution_count": null,
   "id": "2f898f20",
   "metadata": {},
   "outputs": [],
   "source": [
    "df.Ticket.value_counts()"
   ]
  },
  {
   "cell_type": "markdown",
   "id": "d811575b",
   "metadata": {},
   "source": [
    "**-4-Cabin- No la tendremos en cuenta por falta de información**"
   ]
  },
  {
   "cell_type": "code",
   "execution_count": null,
   "id": "f35e107e",
   "metadata": {},
   "outputs": [],
   "source": [
    "df.Cabin.isnull().sum(), len(df)"
   ]
  },
  {
   "cell_type": "markdown",
   "id": "d8087b49",
   "metadata": {},
   "source": [
    "**-5-Embarked**"
   ]
  },
  {
   "cell_type": "code",
   "execution_count": null,
   "id": "65d93fcf",
   "metadata": {},
   "outputs": [],
   "source": [
    "df.Embarked.isnull().sum()"
   ]
  },
  {
   "cell_type": "code",
   "execution_count": null,
   "id": "dc1ece2d",
   "metadata": {},
   "outputs": [],
   "source": [
    "df.Embarked.value_counts()"
   ]
  },
  {
   "cell_type": "code",
   "execution_count": null,
   "id": "5d25d16b",
   "metadata": {},
   "outputs": [],
   "source": [
    "df[\"Embarked\"] = df[\"Embarked\"].fillna(\"S\")"
   ]
  },
  {
   "cell_type": "code",
   "execution_count": null,
   "id": "5a739df3",
   "metadata": {},
   "outputs": [],
   "source": [
    "df.Embarked.value_counts()"
   ]
  },
  {
   "cell_type": "code",
   "execution_count": null,
   "id": "2a190c69",
   "metadata": {},
   "outputs": [],
   "source": [
    "df.Embarked.isnull().sum()"
   ]
  },
  {
   "cell_type": "markdown",
   "id": "65ef5b5c",
   "metadata": {},
   "source": [
    "**BORRAMOS del dataframe las columnas antes mencionadas**"
   ]
  },
  {
   "cell_type": "code",
   "execution_count": null,
   "id": "e00afc79",
   "metadata": {},
   "outputs": [],
   "source": [
    "df.head(2)"
   ]
  },
  {
   "cell_type": "code",
   "execution_count": null,
   "id": "1590a005",
   "metadata": {},
   "outputs": [],
   "source": [
    "df = df.drop([\"Name\", \"Ticket\", \"Cabin\"], axis=1)\n",
    "df.head(2)"
   ]
  },
  {
   "cell_type": "markdown",
   "id": "30d7366f",
   "metadata": {},
   "source": [
    "Concepto de **datos categóricos**:\n",
    "\n",
    "* columnas con strings hombre/mujer por ejemplo.\n",
    "* columnas con strings con 3 opciones (\"Embarked\")\n",
    "* en el caso de Pclass 3 hace referencia a \"tercera clase\"\n",
    "* y 3 no vale, más que 1, y más en este caso, cuya probabilidad de supervivencia es más baja."
   ]
  },
  {
   "cell_type": "code",
   "execution_count": null,
   "id": "fc40df15",
   "metadata": {},
   "outputs": [],
   "source": [
    "# pd.get_dummies()"
   ]
  },
  {
   "cell_type": "code",
   "execution_count": null,
   "id": "fd877626",
   "metadata": {},
   "outputs": [],
   "source": [
    "df_1 = pd.get_dummies(df, columns=[\"Sex\", \"Pclass\", \"Embarked\"], drop_first=True)\n",
    "df_1.head()"
   ]
  },
  {
   "cell_type": "code",
   "execution_count": null,
   "id": "d0d49a17-dfd3-47a7-9bab-8a0e330e40bf",
   "metadata": {},
   "outputs": [],
   "source": [
    "df = pd.get_dummies(df, columns=[\"Sex\", \"Pclass\", \"Embarked\"], drop_first=True, dtype=float)\n",
    "df.head()"
   ]
  },
  {
   "cell_type": "markdown",
   "id": "8feaf296",
   "metadata": {},
   "source": [
    "## Escalado de los datos"
   ]
  },
  {
   "cell_type": "markdown",
   "id": "12889fe0",
   "metadata": {},
   "source": [
    "Existen varias formas de hacer el escalado de datos. Normalmente no hay diferencias significativas, pero algunas veces sí.\n",
    "\n",
    "Por abreviar, trataremos de mencionar 2 tipos (sklearn):\n",
    "* StandardScaler\n",
    "* MinMaxScaler\n",
    "\n",
    "En nuestro caso, no daremos importancia a cuál es el mejor en este caso concreto. (Preporcesamiento)"
   ]
  },
  {
   "cell_type": "code",
   "execution_count": null,
   "id": "52ee963d",
   "metadata": {},
   "outputs": [],
   "source": [
    "# https://scikit-learn.org/stable/modules/generated/sklearn.preprocessing.StandardScaler.html\n",
    "# https://scikit-learn.org/stable/modules/generated/sklearn.preprocessing.MinMaxScaler.html"
   ]
  },
  {
   "cell_type": "code",
   "execution_count": null,
   "id": "c730b691",
   "metadata": {},
   "outputs": [],
   "source": [
    "# StandardScaler\n",
    "\n",
    "# x-mean(x) / std(x)\n",
    "\n",
    "df.Age = (df.Age - np.mean(df.Age, axis=0)) / (np.std(df.Age, axis=0))\n",
    "df.Fare = (df.Fare - np.mean(df.Fare, axis=0)) / (np.std(df.Fare, axis=0))\n",
    "df.head()"
   ]
  },
  {
   "cell_type": "code",
   "execution_count": null,
   "id": "f5941c31-1702-4b35-a77f-b62fa6733708",
   "metadata": {},
   "outputs": [],
   "source": [
    "df.describe()"
   ]
  },
  {
   "cell_type": "markdown",
   "id": "35ba0e53",
   "metadata": {},
   "source": [
    "## Obtención de X, y"
   ]
  },
  {
   "cell_type": "code",
   "execution_count": null,
   "id": "11252efe",
   "metadata": {},
   "outputs": [],
   "source": [
    "X = df.drop(\"Survived\", axis=1)\n",
    "X.head()"
   ]
  },
  {
   "cell_type": "code",
   "execution_count": null,
   "id": "cc63e132",
   "metadata": {},
   "outputs": [],
   "source": [
    "y = df[\"Survived\"]\n",
    "y.head()"
   ]
  },
  {
   "cell_type": "markdown",
   "id": "50586fdf-602b-4d6a-b8b6-9cfede697baf",
   "metadata": {},
   "source": [
    "### Heapmap"
   ]
  },
  {
   "cell_type": "code",
   "execution_count": null,
   "id": "cc382484-1c88-4b08-82dc-f43cfbe383a7",
   "metadata": {},
   "outputs": [],
   "source": [
    "plt.figure(figsize=(8,8))\n",
    "sns.heatmap(df.corr(), annot=True)\n",
    "plt.show()"
   ]
  },
  {
   "cell_type": "markdown",
   "id": "61dd7d3c",
   "metadata": {},
   "source": [
    "*Creado por:*\n",
    "\n",
    "*Isabel Maniega*"
   ]
  }
 ],
 "metadata": {
  "kernelspec": {
   "display_name": "Python 3 (ipykernel)",
   "language": "python",
   "name": "python3"
  },
  "language_info": {
   "codemirror_mode": {
    "name": "ipython",
    "version": 3
   },
   "file_extension": ".py",
   "mimetype": "text/x-python",
   "name": "python",
   "nbconvert_exporter": "python",
   "pygments_lexer": "ipython3",
   "version": "3.12.3"
  }
 },
 "nbformat": 4,
 "nbformat_minor": 5
}
